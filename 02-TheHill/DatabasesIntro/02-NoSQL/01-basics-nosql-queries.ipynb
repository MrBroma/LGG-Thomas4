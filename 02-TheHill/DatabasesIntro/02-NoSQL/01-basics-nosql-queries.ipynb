{
 "cells": [
  {
   "cell_type": "markdown",
   "metadata": {},
   "source": [
    "# NoSQL: Basic queries on non-relational databases\n",
    "\n",
    "## NoSQL: Review\n",
    "\n",
    "A NoSQL database is designed to handle data that are not structured in tabular relations. The data can be stored in key-value pairs (like Python dictionaries), documents (JSON), or graphs.\n",
    "\n",
    "<img src=\"../assets/nosql_vs_sql.jpeg\"  width = 500 px></img>\n",
    "\n",
    "Unlike relational databases (SQL), NoSQL does not (necessarily) employ tables and rows. Also they are much more flexible since the structure of the entries is not predefined. Therefore you can add data without defining anything (even not the table itself).\n",
    "\n",
    "[This article](https://www.integrate.io/blog/the-sql-vs-nosql-difference/) gives a recap of the biggest differences between SQL and NoSQL database systems:\n",
    "|SQL|NoSQL|\n",
    "|---|---|\n",
    "|SQL databases are relational| NoSQL databases are non-relational. In NoSQL you cannot make relationships between tables (`JOIN`)|\n",
    "|SQL databases are table-based |NoSQL databases are document, key-value, graph, or wide-column stores.|\n",
    "|SQL databases use structured query language and have a predefined schema.| NoSQL databases have dynamic schemas for unstructured data.|\n",
    "|SQL databases are vertically scalable (by adding processing power)|NoSQL databases are horizontally scalable (by adding servers/machines).|\n",
    "|SQL databases are better for multi-row transactions|NoSQL is better for unstructured data like documents or JSON.|\n",
    "\n",
    "In the image, below you will find examples of popular SQL and NoSQL databases. \n",
    "\n",
    "<img src=\"../assets/popular_examples_nosql_sql.jpeg\" width =500px></img>\n",
    "\n",
    "In the next section, we'll cover an example using MongoDB. You will see that we can translate many of the basic SQL queries you know.\n",
    "\n",
    "## MongoDB\n",
    "\n",
    "<img src=\"https://upload.wikimedia.org/wikipedia/fr/thumb/4/45/MongoDB-Logo.svg/527px-MongoDB-Logo.svg.png\" />\n",
    "\n",
    "A lot of companies provide NoSQL architectures. One of the most popular is [MongoDB](https://www.mongodb.com/). A MongoDB database contains collections (tables) of documents (entries). The documents are stored in the JSON format which is very convenient to handle with Python!\n",
    "\n",
    "The syntax of the queries is based on JavaScript. They basically look like python dictionaries.\n",
    "\n",
    "Before diving in some exercises, you can have a look to [this quick intro](https://www.mongodb.com/docs/manual/tutorial/query-documents/) about MongoDB queries.\n",
    "\n",
    "### Creating the database\n",
    "\n",
    "We have created and filled a MongoDB database for you. You probably know already the database. It is the list of country leaders that you have used already in the Wikipedia project.\n",
    "\n",
    "You can set it up by deploying the Docker image we have pre-built:"
   ]
  },
  {
   "cell_type": "code",
   "execution_count": 1,
   "metadata": {},
   "outputs": [
    {
     "name": "stdout",
     "output_type": "stream",
     "text": [
      "/bin/bash: line 1: docker-compose: command not found\n"
     ]
    }
   ],
   "source": [
    "# You can run it from this notebook with:\n",
    "!docker-compose up -d\n",
    "\n",
    "\n",
    "# Or in your terminal with:\n",
    "# docker-compose up -d"
   ]
  },
  {
   "cell_type": "markdown",
   "metadata": {},
   "source": [
    "### Conneting to the database\n",
    "\n",
    "For using MongoDB through Python you will need to install the `pymongo` library."
   ]
  },
  {
   "cell_type": "code",
   "execution_count": 5,
   "metadata": {},
   "outputs": [
    {
     "data": {
      "text/plain": [
       "['leaders']"
      ]
     },
     "execution_count": 5,
     "metadata": {},
     "output_type": "execute_result"
    }
   ],
   "source": [
    "from pymongo import MongoClient\n",
    "\n",
    "# Creation of a MongoDB Client (by giving the host and the port)\n",
    "client = MongoClient(host=\"localhost\", port=27017)\n",
    "\n",
    "# Instantiation of the database\n",
    "db = client[\"becode\"]\n",
    "\n",
    "# Let's see which collections are in the database\n",
    "db.list_collection_names()"
   ]
  },
  {
   "cell_type": "markdown",
   "metadata": {},
   "source": [
    "### Basic Queries"
   ]
  },
  {
   "cell_type": "markdown",
   "metadata": {},
   "source": [
    "**1. Show the first leader of the `leaders` collection by using the `find_one` method**\n",
    "\n",
    "The corresponding `SQL` query would be:\n",
    "\n",
    "```sql\n",
    "SELECT * FROM leaders LIMIT 1;\n",
    "```"
   ]
  },
  {
   "cell_type": "code",
   "execution_count": 6,
   "metadata": {},
   "outputs": [
    {
     "data": {
      "text/plain": [
       "{'_id': ObjectId('64da27087c3cf3ff960cd957'),\n",
       " 'id': 'Q7747',\n",
       " 'first_name': 'Vladimir',\n",
       " 'last_name': 'Putin',\n",
       " 'birth_date': '1952-10-07',\n",
       " 'death_date': None,\n",
       " 'place_of_birth': 'Saint Petersburg',\n",
       " 'wikipedia_url': 'https://ru.wikipedia.org/wiki/%D0%9F%D1%83%D1%82%D0%B8%D0%BD,_%D0%92%D0%BB%D0%B0%D0%B4%D0%B8%D0%BC%D0%B8%D1%80_%D0%92%D0%BB%D0%B0%D0%B4%D0%B8%D0%BC%D0%B8%D1%80%D0%BE%D0%B2%D0%B8%D1%87',\n",
       " 'start_mandate': '2000-05-07',\n",
       " 'end_mandate': '2008-05-07',\n",
       " 'country': 'ru'}"
      ]
     },
     "execution_count": 6,
     "metadata": {},
     "output_type": "execute_result"
    }
   ],
   "source": [
    "db[\"leaders\"].find_one()"
   ]
  },
  {
   "cell_type": "markdown",
   "metadata": {},
   "source": [
    "**2. Show the first leader of the collection whose country is Belgium**\n",
    "\n",
    "To that purpose we will use the query as first parameter of the `find_one` function. The query is formatted as a dictionary.\n",
    "\n",
    "In SQL it would be like adding a `WHERE` condition to the query:\n",
    "\n",
    "```sql\n",
    "SELECT * FROM leaders WHERE country = 'be' LIMIT 1;\n",
    "```"
   ]
  },
  {
   "cell_type": "code",
   "execution_count": 7,
   "metadata": {},
   "outputs": [
    {
     "data": {
      "text/plain": [
       "{'_id': ObjectId('64da27087c3cf3ff960cd986'),\n",
       " 'id': 'Q12981',\n",
       " 'first_name': 'Yves',\n",
       " 'last_name': 'Leterme',\n",
       " 'birth_date': '1960-10-06',\n",
       " 'death_date': None,\n",
       " 'place_of_birth': 'Wervik',\n",
       " 'wikipedia_url': 'https://nl.wikipedia.org/wiki/Yves_Leterme',\n",
       " 'start_mandate': '2009-11-25',\n",
       " 'end_mandate': '2011-12-06',\n",
       " 'country': 'be'}"
      ]
     },
     "execution_count": 7,
     "metadata": {},
     "output_type": "execute_result"
    }
   ],
   "source": [
    "db[\"leaders\"].find_one({\"country\": \"be\"})"
   ]
  },
  {
   "cell_type": "markdown",
   "metadata": {},
   "source": [
    "**3. Select some fields to display**\n",
    "\n",
    "Let's use the same query by displaying only the `first_name` and the `last_name` of the leader. It corresponds to a `SELECT` in SQL.\n",
    "\n",
    "We will use the [project](https://www.mongodb.com/docs/manual/tutorial/project-fields-from-query-results/) as the second parameter of the function. It is also formatted as a dictionary whose the key contains the targeted field and the value is `1` if we want the field to be displayed\n",
    "\n",
    "The corresponding SQL query would be:\n",
    "\n",
    "```sql\n",
    "SELECT first_name, last_name FROM leaders WHERE country = 'be' LIMIT 1;\n",
    "```"
   ]
  },
  {
   "cell_type": "code",
   "execution_count": 8,
   "metadata": {},
   "outputs": [
    {
     "data": {
      "text/plain": [
       "{'_id': ObjectId('64da27087c3cf3ff960cd986'),\n",
       " 'first_name': 'Yves',\n",
       " 'last_name': 'Leterme'}"
      ]
     },
     "execution_count": 8,
     "metadata": {},
     "output_type": "execute_result"
    }
   ],
   "source": [
    "db[\"leaders\"].find_one({\"country\": \"be\"}, {\"first_name\": 1, \"last_name\": 1})"
   ]
  },
  {
   "cell_type": "markdown",
   "metadata": {},
   "source": [
    "We can also decide to not display a field. In that case we put `0` as value for the dictionary."
   ]
  },
  {
   "cell_type": "code",
   "execution_count": 9,
   "metadata": {},
   "outputs": [
    {
     "data": {
      "text/plain": [
       "{'_id': ObjectId('64da27087c3cf3ff960cd986'),\n",
       " 'first_name': 'Yves',\n",
       " 'last_name': 'Leterme',\n",
       " 'birth_date': '1960-10-06',\n",
       " 'death_date': None,\n",
       " 'place_of_birth': 'Wervik',\n",
       " 'start_mandate': '2009-11-25',\n",
       " 'end_mandate': '2011-12-06',\n",
       " 'country': 'be'}"
      ]
     },
     "execution_count": 9,
     "metadata": {},
     "output_type": "execute_result"
    }
   ],
   "source": [
    "db[\"leaders\"].find_one({\"country\": \"be\"}, {\"wikipedia_url\": 0, \"id\": 0})"
   ]
  },
  {
   "cell_type": "markdown",
   "metadata": {},
   "source": [
    "**4. Find the distinct countries**\n",
    "\n",
    "The SQL equivalent:\n",
    "\n",
    "```sql\n",
    "SELECT DISTINCT country FROM leaders;\n",
    "```"
   ]
  },
  {
   "cell_type": "code",
   "execution_count": 10,
   "metadata": {},
   "outputs": [
    {
     "data": {
      "text/plain": [
       "['be', 'fr', 'ma', 'ru', 'us']"
      ]
     },
     "execution_count": 10,
     "metadata": {},
     "output_type": "execute_result"
    }
   ],
   "source": [
    "db[\"leaders\"].find().distinct(\"country\")"
   ]
  },
  {
   "cell_type": "markdown",
   "metadata": {},
   "source": [
    "**5. Find all the leaders who are still alive**\n",
    "\n",
    "We can assume that they have no `death_date`, isn't?"
   ]
  },
  {
   "cell_type": "code",
   "execution_count": 12,
   "metadata": {},
   "outputs": [
    {
     "data": {
      "text/plain": [
       "<pymongo.cursor.Cursor at 0x228d5532e50>"
      ]
     },
     "execution_count": 12,
     "metadata": {},
     "output_type": "execute_result"
    }
   ],
   "source": [
    "db[\"leaders\"].find({\"death_date\": None}, {\"last_name\":1, \"first_name\":1, \"country\":1})"
   ]
  },
  {
   "cell_type": "markdown",
   "metadata": {},
   "source": [
    "As you see the `find` command returns a cursor. No worries we can process it by using a simple Python loop!"
   ]
  },
  {
   "cell_type": "code",
   "execution_count": 13,
   "metadata": {},
   "outputs": [
    {
     "name": "stdout",
     "output_type": "stream",
     "text": [
      "Vladimir Putin (ru)\n",
      "Mohammed None (ma)\n",
      "Dmitry Medvedev (ru)\n",
      "Mohammed None (ma)\n",
      "Mohammed None (ma)\n",
      "Barack Obama (us)\n",
      "Joe Biden (us)\n",
      "Bill Clinton (us)\n",
      "George Bush (us)\n",
      "Donald Trump (us)\n",
      "Jimmy Carter (us)\n",
      "Yves Leterme (be)\n",
      "Herman Van Rompaey (be)\n",
      "Guy Verhofstadt (be)\n",
      "Elio Di Rupo (be)\n",
      "Alexander De Croo (be)\n",
      "Mark Eyskens (be)\n",
      "Sophie Wilmès (be)\n",
      "François Hollande (fr)\n",
      "Nicolas Sarkozy (fr)\n",
      "Charles Michel (be)\n",
      "Emmanuel Macron (fr)\n"
     ]
    }
   ],
   "source": [
    "for leader in db[\"leaders\"].find({\"death_date\": None}, {\"last_name\":1, \"first_name\":1, \"country\":1}):\n",
    "    print(f\"{leader['first_name']} {leader['last_name']} ({leader['country']})\")"
   ]
  },
  {
   "cell_type": "markdown",
   "metadata": {},
   "source": [
    "**6. Let's now insert the leader of tomorrow: you?**\n",
    "\n",
    "As you know, MongoDB is flexible. It means that you can add entries although some fields are missing. Let's give a try:"
   ]
  },
  {
   "cell_type": "code",
   "execution_count": 14,
   "metadata": {},
   "outputs": [
    {
     "data": {
      "text/plain": [
       "<pymongo.results.InsertOneResult at 0x228d4301450>"
      ]
     },
     "execution_count": 14,
     "metadata": {},
     "output_type": "execute_result"
    }
   ],
   "source": [
    "you = {\n",
    "    'first_name': 'ADD HERE YOUR FIRST NAME',\n",
    "    'last_name': 'ADD HERE YOUR LAST NAME',\n",
    "    'birth_date': 'ADD HERE YOUR BIRTH DATE',\n",
    "    'country': 'ADD HERE YOUR COUNTRY CODE'\n",
    "}\n",
    "db[\"leaders\"].insert_one(you)"
   ]
  },
  {
   "cell_type": "markdown",
   "metadata": {},
   "source": [
    "Let's have a look to your data!"
   ]
  },
  {
   "cell_type": "code",
   "execution_count": 15,
   "metadata": {},
   "outputs": [
    {
     "data": {
      "text/plain": [
       "{'_id': ObjectId('64da27ea17ab33d0790aedb2'),\n",
       " 'first_name': 'ADD HERE YOUR FIRST NAME',\n",
       " 'last_name': 'ADD HERE YOUR LAST NAME',\n",
       " 'birth_date': 'ADD HERE YOUR BIRTH DATE',\n",
       " 'country': 'ADD HERE YOUR COUNTRY CODE'}"
      ]
     },
     "execution_count": 15,
     "metadata": {},
     "output_type": "execute_result"
    }
   ],
   "source": [
    "db[\"leaders\"].find_one({\"first_name\": \"ADD HERE YOUR FIRST NAME\"})"
   ]
  },
  {
   "cell_type": "markdown",
   "metadata": {},
   "source": [
    "We can observe two things here:\n",
    "- A field `_id` has been automatically added by Mongo. This field is incremental. That means that it will always be higher than the previous element of the collection.\n",
    "- Some fields are missing (the `place_of_birth` for instance). This is a property of NoSQL. All fields are not mandatory!\n",
    "\n",
    "We can check missing values by using the query `{\"$exists\":False}`:"
   ]
  },
  {
   "cell_type": "code",
   "execution_count": 16,
   "metadata": {},
   "outputs": [
    {
     "name": "stdout",
     "output_type": "stream",
     "text": [
      "{'_id': ObjectId('64da27ea17ab33d0790aedb2'), 'first_name': 'ADD HERE YOUR FIRST NAME', 'last_name': 'ADD HERE YOUR LAST NAME', 'birth_date': 'ADD HERE YOUR BIRTH DATE', 'country': 'ADD HERE YOUR COUNTRY CODE'}\n"
     ]
    }
   ],
   "source": [
    "for leader in db[\"leaders\"].find({\"place_of_birth\":{\"$exists\":False}}):\n",
    "    print(leader)"
   ]
  },
  {
   "cell_type": "markdown",
   "metadata": {},
   "source": [
    "### Update data\n",
    "\n",
    "Since your place of birth is missing in the data, let's add it now. The update function has two main arguments:\n",
    "- a query that will select the entries to update\n",
    "- an update operation. As always, it is formatted as a dictionary"
   ]
  },
  {
   "cell_type": "code",
   "execution_count": 17,
   "metadata": {},
   "outputs": [
    {
     "data": {
      "text/plain": [
       "<pymongo.results.UpdateResult at 0x228d551e800>"
      ]
     },
     "execution_count": 17,
     "metadata": {},
     "output_type": "execute_result"
    }
   ],
   "source": [
    "db[\"leaders\"].update_one({\"first_name\": \"ADD HERE YOUR FIRST NAME\"}, {\"$set\": {\"place_of_birth\": \"ADD HERE YOUR PLACE OF BIRTH\"}})"
   ]
  },
  {
   "cell_type": "markdown",
   "metadata": {},
   "source": [
    "#### Remove data\n",
    "\n",
    "Your dream is over ;-) Since you will not be a leader of tomorrow, we will remove you from the collection. The `delete` (or `delete_one`) function has one main argument: the query that will select the entries to be removed."
   ]
  },
  {
   "cell_type": "code",
   "execution_count": 18,
   "metadata": {},
   "outputs": [
    {
     "data": {
      "text/plain": [
       "<pymongo.results.DeleteResult at 0x228d3286890>"
      ]
     },
     "execution_count": 18,
     "metadata": {},
     "output_type": "execute_result"
    }
   ],
   "source": [
    "db[\"leaders\"].delete_one({\"first_name\": \"ADD HERE YOUR FIRST NAME\"})"
   ]
  },
  {
   "cell_type": "markdown",
   "metadata": {},
   "source": [
    "## Your Turn!\n",
    "\n",
    "Based on your knowledge and some Google search try to create the following queries:\n",
    "\n",
    "- Remove the leaders who have an empty or null (`None`) last name\n",
    "- Display all unique first names from the collection\n",
    "- Transform all the dates of the dataset by a datetime object (they are currently strings which is not a good practice). You can use a python script that interacts with the DB instead of doing everything in a single query\n",
    "- Display the 10 older leaders ordered by their birth date (search for how to sort and to use limits in MongoDB)\n",
    "- Create a Python script that computes the numbers of leaders by country\n",
    "- Do the same by using a MongoDB [aggregation pipeline](https://www.mongodb.com/docs/manual/aggregation/)"
   ]
  },
  {
   "cell_type": "code",
   "execution_count": null,
   "metadata": {},
   "outputs": [],
   "source": [
    "# Your code here (feel free to add some extra code blocks!)"
   ]
  },
  {
   "cell_type": "markdown",
   "metadata": {},
   "source": [
    "## Resources:\n",
    "* [NoSQL Concepts (DataCamp)](https://www.datacamp.com/courses/nosql-concepts)\n",
    "* [Introduction to MongoDB using Python (DataCamp)](https://www.datacamp.com/courses/introduction-to-using-mongodb-for-data-science-with-python)\n",
    "* [Getting started with MongoDB](https://docs.mongodb.com/manual/tutorial/)\n",
    "* [Python MongoDB Tutorial](https://www.mongodb.com/blog/post/getting-started-with-python-and-mongodb)\n",
    "* [Introduction to MongoDB Learning Path](https://learn.mongodb.com/learning-paths/introduction-to-mongodb)\n",
    "* [Build an App With Python, Flask, and MongoDB to Track UFOs](https://www.mongodb.com/developer/languages/python/flask-app-ufo-tracking/)"
   ]
  }
 ],
 "metadata": {
  "kernelspec": {
   "display_name": "Python 3.8.6 64-bit",
   "language": "python",
   "name": "python3"
  },
  "language_info": {
   "codemirror_mode": {
    "name": "ipython",
    "version": 3
   },
   "file_extension": ".py",
   "mimetype": "text/x-python",
   "name": "python",
   "nbconvert_exporter": "python",
   "pygments_lexer": "ipython3",
   "version": "3.12.5"
  },
  "vscode": {
   "interpreter": {
    "hash": "082e9a3bcad0a290d0001e938aa60b99250c6c2ef33a923c00b70f9826caf4b7"
   }
  }
 },
 "nbformat": 4,
 "nbformat_minor": 4
}
