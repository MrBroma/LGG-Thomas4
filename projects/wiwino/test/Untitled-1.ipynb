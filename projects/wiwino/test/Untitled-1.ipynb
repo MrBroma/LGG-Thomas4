{
 "cells": [
  {
   "cell_type": "code",
   "execution_count": 1,
   "metadata": {},
   "outputs": [],
   "source": [
    "import sqlite3\n",
    "\n",
    "connexion = sqlite3.connect(\"./vivino.db\")\n",
    "cursor = connexion.cursor()"
   ]
  },
  {
   "cell_type": "code",
   "execution_count": 2,
   "metadata": {},
   "outputs": [
    {
     "data": {
      "text/html": [
       "<span style=\"None\">displaylimit: Value None will be treated as 0 (no limit)</span>"
      ],
      "text/plain": [
       "displaylimit: Value None will be treated as 0 (no limit)"
      ]
     },
     "metadata": {},
     "output_type": "display_data"
    }
   ],
   "source": [
    "%load_ext sql\n",
    "\n",
    "%config SqlMagic.displaylimit = None"
   ]
  },
  {
   "cell_type": "code",
   "execution_count": 3,
   "metadata": {},
   "outputs": [
    {
     "data": {
      "text/html": [
       "<span style=\"None\">Connecting to &#x27;sqlite:///vivino.db&#x27;</span>"
      ],
      "text/plain": [
       "Connecting to 'sqlite:///vivino.db'"
      ]
     },
     "metadata": {},
     "output_type": "display_data"
    }
   ],
   "source": [
    "# Connecting to the database\n",
    "%sql sqlite:///vivino.db"
   ]
  },
  {
   "cell_type": "code",
   "execution_count": 4,
   "metadata": {},
   "outputs": [
    {
     "data": {
      "text/html": [
       "<span style=\"None\">Running query in &#x27;sqlite:///vivino.db&#x27;</span>"
      ],
      "text/plain": [
       "Running query in 'sqlite:///vivino.db'"
      ]
     },
     "metadata": {},
     "output_type": "display_data"
    },
    {
     "data": {
      "text/html": [
       "<table>\n",
       "    <thead>\n",
       "        <tr>\n",
       "            <th>name</th>\n",
       "        </tr>\n",
       "    </thead>\n",
       "    <tbody>\n",
       "        <tr>\n",
       "            <td>countries</td>\n",
       "        </tr>\n",
       "        <tr>\n",
       "            <td>grapes</td>\n",
       "        </tr>\n",
       "        <tr>\n",
       "            <td>wineries</td>\n",
       "        </tr>\n",
       "        <tr>\n",
       "            <td>flavor_groups</td>\n",
       "        </tr>\n",
       "        <tr>\n",
       "            <td>keywords</td>\n",
       "        </tr>\n",
       "        <tr>\n",
       "            <td>regions</td>\n",
       "        </tr>\n",
       "        <tr>\n",
       "            <td>most_used_grapes_per_country</td>\n",
       "        </tr>\n",
       "        <tr>\n",
       "            <td>toplists</td>\n",
       "        </tr>\n",
       "        <tr>\n",
       "            <td>wines</td>\n",
       "        </tr>\n",
       "        <tr>\n",
       "            <td>vintages</td>\n",
       "        </tr>\n",
       "        <tr>\n",
       "            <td>keywords_wine</td>\n",
       "        </tr>\n",
       "        <tr>\n",
       "            <td>vintage_toplists_rankings</td>\n",
       "        </tr>\n",
       "    </tbody>\n",
       "</table>"
      ],
      "text/plain": [
       "+------------------------------+\n",
       "|             name             |\n",
       "+------------------------------+\n",
       "|          countries           |\n",
       "|            grapes            |\n",
       "|           wineries           |\n",
       "|        flavor_groups         |\n",
       "|           keywords           |\n",
       "|           regions            |\n",
       "| most_used_grapes_per_country |\n",
       "|           toplists           |\n",
       "|            wines             |\n",
       "|           vintages           |\n",
       "|        keywords_wine         |\n",
       "|  vintage_toplists_rankings   |\n",
       "+------------------------------+"
      ]
     },
     "execution_count": 4,
     "metadata": {},
     "output_type": "execute_result"
    }
   ],
   "source": [
    "%%sql\n",
    "-- Lists all the tables in a particular database\n",
    "SELECT name FROM sqlite_master WHERE type='table';"
   ]
  },
  {
   "cell_type": "code",
   "execution_count": 5,
   "metadata": {},
   "outputs": [
    {
     "data": {
      "text/html": [
       "<span style=\"None\">Running query in &#x27;sqlite:///vivino.db&#x27;</span>"
      ],
      "text/plain": [
       "Running query in 'sqlite:///vivino.db'"
      ]
     },
     "metadata": {},
     "output_type": "display_data"
    },
    {
     "data": {
      "text/html": [
       "<table>\n",
       "    <thead>\n",
       "        <tr>\n",
       "        </tr>\n",
       "    </thead>\n",
       "    <tbody>\n",
       "    </tbody>\n",
       "</table>"
      ],
      "text/plain": [
       "++\n",
       "||\n",
       "++\n",
       "++"
      ]
     },
     "execution_count": 5,
     "metadata": {},
     "output_type": "execute_result"
    }
   ],
   "source": [
    "%%sql\n",
    "DROP TABLE IF EXISTS flavor_groups"
   ]
  },
  {
   "cell_type": "code",
   "execution_count": 6,
   "metadata": {},
   "outputs": [
    {
     "data": {
      "text/html": [
       "<span style=\"None\">Running query in &#x27;sqlite:///vivino.db&#x27;</span>"
      ],
      "text/plain": [
       "Running query in 'sqlite:///vivino.db'"
      ]
     },
     "metadata": {},
     "output_type": "display_data"
    },
    {
     "data": {
      "text/html": [
       "<table>\n",
       "    <thead>\n",
       "        <tr>\n",
       "        </tr>\n",
       "    </thead>\n",
       "    <tbody>\n",
       "    </tbody>\n",
       "</table>"
      ],
      "text/plain": [
       "++\n",
       "||\n",
       "++\n",
       "++"
      ]
     },
     "execution_count": 6,
     "metadata": {},
     "output_type": "execute_result"
    }
   ],
   "source": [
    "%%sql\n",
    "DROP TABLE IF EXISTS wineries"
   ]
  },
  {
   "cell_type": "code",
   "execution_count": null,
   "metadata": {},
   "outputs": [],
   "source": []
  },
  {
   "cell_type": "code",
   "execution_count": null,
   "metadata": {},
   "outputs": [],
   "source": [
    "%%sql\n",
    "SELECT name FROM sqlite_master WHERE type='table'"
   ]
  }
 ],
 "metadata": {
  "kernelspec": {
   "display_name": "vivino_project",
   "language": "python",
   "name": "python3"
  },
  "language_info": {
   "codemirror_mode": {
    "name": "ipython",
    "version": 3
   },
   "file_extension": ".py",
   "mimetype": "text/x-python",
   "name": "python",
   "nbconvert_exporter": "python",
   "pygments_lexer": "ipython3",
   "version": "3.12.4"
  }
 },
 "nbformat": 4,
 "nbformat_minor": 2
}
