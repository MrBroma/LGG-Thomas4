{
 "cells": [
  {
   "cell_type": "code",
   "execution_count": 16,
   "metadata": {},
   "outputs": [],
   "source": [
    "# Import required libraries\n",
    "import sqlite3\n",
    "import pandas as pd"
   ]
  },
  {
   "cell_type": "code",
   "execution_count": 17,
   "metadata": {},
   "outputs": [
    {
     "name": "stdout",
     "output_type": "stream",
     "text": [
      "The sql extension is already loaded. To reload it, use:\n",
      "  %reload_ext sql\n"
     ]
    },
    {
     "data": {
      "text/html": [
       "<span style=\"None\">displaylimit: Value None will be treated as 0 (no limit)</span>"
      ],
      "text/plain": [
       "displaylimit: Value None will be treated as 0 (no limit)"
      ]
     },
     "metadata": {},
     "output_type": "display_data"
    }
   ],
   "source": [
    "%load_ext sql\n",
    "\n",
    "%config SqlMagic.displaylimit = None"
   ]
  },
  {
   "cell_type": "code",
   "execution_count": 18,
   "metadata": {},
   "outputs": [],
   "source": [
    "# Connecting to the database\n",
    "%sql sqlite:///vivino.db"
   ]
  },
  {
   "cell_type": "code",
   "execution_count": 19,
   "metadata": {},
   "outputs": [
    {
     "data": {
      "text/html": [
       "<span style=\"None\">Running query in &#x27;sqlite:///vivino.db&#x27;</span>"
      ],
      "text/plain": [
       "Running query in 'sqlite:///vivino.db'"
      ]
     },
     "metadata": {},
     "output_type": "display_data"
    },
    {
     "data": {
      "text/html": [
       "<table>\n",
       "    <thead>\n",
       "        <tr>\n",
       "            <th>name</th>\n",
       "        </tr>\n",
       "    </thead>\n",
       "    <tbody>\n",
       "        <tr>\n",
       "            <td>countries</td>\n",
       "        </tr>\n",
       "        <tr>\n",
       "            <td>grapes</td>\n",
       "        </tr>\n",
       "        <tr>\n",
       "            <td>wineries</td>\n",
       "        </tr>\n",
       "        <tr>\n",
       "            <td>flavor_groups</td>\n",
       "        </tr>\n",
       "        <tr>\n",
       "            <td>keywords</td>\n",
       "        </tr>\n",
       "        <tr>\n",
       "            <td>regions</td>\n",
       "        </tr>\n",
       "        <tr>\n",
       "            <td>most_used_grapes_per_country</td>\n",
       "        </tr>\n",
       "        <tr>\n",
       "            <td>toplists</td>\n",
       "        </tr>\n",
       "        <tr>\n",
       "            <td>wines</td>\n",
       "        </tr>\n",
       "        <tr>\n",
       "            <td>vintages</td>\n",
       "        </tr>\n",
       "        <tr>\n",
       "            <td>keywords_wine</td>\n",
       "        </tr>\n",
       "        <tr>\n",
       "            <td>vintage_toplists_rankings</td>\n",
       "        </tr>\n",
       "    </tbody>\n",
       "</table>"
      ],
      "text/plain": [
       "+------------------------------+\n",
       "|             name             |\n",
       "+------------------------------+\n",
       "|          countries           |\n",
       "|            grapes            |\n",
       "|           wineries           |\n",
       "|        flavor_groups         |\n",
       "|           keywords           |\n",
       "|           regions            |\n",
       "| most_used_grapes_per_country |\n",
       "|           toplists           |\n",
       "|            wines             |\n",
       "|           vintages           |\n",
       "|        keywords_wine         |\n",
       "|  vintage_toplists_rankings   |\n",
       "+------------------------------+"
      ]
     },
     "execution_count": 19,
     "metadata": {},
     "output_type": "execute_result"
    }
   ],
   "source": [
    "%%sql\n",
    "-- Lists all the tables in a particular database\n",
    "SELECT name FROM sqlite_master WHERE type='table';"
   ]
  },
  {
   "cell_type": "code",
   "execution_count": 20,
   "metadata": {},
   "outputs": [],
   "source": [
    "# %%sql\n",
    "# DROP TABLE IF EXISTS flavor_groups"
   ]
  },
  {
   "cell_type": "code",
   "execution_count": 21,
   "metadata": {},
   "outputs": [],
   "source": [
    "# %%sql\n",
    "# DROP TABLE IF EXISTS wineries"
   ]
  },
  {
   "cell_type": "markdown",
   "metadata": {},
   "source": [
    "## We want to highlight 10 wines to increase our sales. Which ones should we choose and why?"
   ]
  },
  {
   "cell_type": "code",
   "execution_count": 60,
   "metadata": {},
   "outputs": [
    {
     "data": {
      "text/html": [
       "<span style=\"None\">Running query in &#x27;sqlite:///vivino.db&#x27;</span>"
      ],
      "text/plain": [
       "Running query in 'sqlite:///vivino.db'"
      ]
     },
     "metadata": {},
     "output_type": "display_data"
    },
    {
     "data": {
      "text/html": [
       "<table>\n",
       "    <thead>\n",
       "        <tr>\n",
       "            <th>wine_name</th>\n",
       "            <th>year</th>\n",
       "            <th>price_euros</th>\n",
       "            <th>ratings_average</th>\n",
       "            <th>ratings_count</th>\n",
       "        </tr>\n",
       "    </thead>\n",
       "    <tbody>\n",
       "        <tr>\n",
       "            <td>San Marzano 60 Sessantanni Old Vines Primitivo di Manduria 2018</td>\n",
       "            <td>2017</td>\n",
       "            <td>24.75</td>\n",
       "            <td>4.5</td>\n",
       "            <td>94289</td>\n",
       "        </tr>\n",
       "        <tr>\n",
       "            <td>Tommasi Amarone della Valpolicella Classico 2018</td>\n",
       "            <td>2017</td>\n",
       "            <td>49.8</td>\n",
       "            <td>4.4</td>\n",
       "            <td>77515</td>\n",
       "        </tr>\n",
       "        <tr>\n",
       "            <td>Buena Vista Chateau Buena Vista Cabernet Sauvignon Napa Valley 2018</td>\n",
       "            <td>2018</td>\n",
       "            <td>61.95</td>\n",
       "            <td>4.4</td>\n",
       "            <td>13415</td>\n",
       "        </tr>\n",
       "        <tr>\n",
       "            <td>Guerrieri Guerriero della Terra 2019</td>\n",
       "            <td>2019</td>\n",
       "            <td>27.4</td>\n",
       "            <td>4.4</td>\n",
       "            <td>10185</td>\n",
       "        </tr>\n",
       "        <tr>\n",
       "            <td>Charles Melton Nine Popes 2015</td>\n",
       "            <td>2015</td>\n",
       "            <td>114.6</td>\n",
       "            <td>4.4</td>\n",
       "            <td>2118</td>\n",
       "        </tr>\n",
       "        <tr>\n",
       "            <td>Bodegas Tradición Palo Cortado Tradición Vors 30 Years Sherry</td>\n",
       "            <td>N.V.</td>\n",
       "            <td>99.95</td>\n",
       "            <td>4.4</td>\n",
       "            <td>1050</td>\n",
       "        </tr>\n",
       "        <tr>\n",
       "            <td>Arzuaga Reserva Ribera del Duero 2018</td>\n",
       "            <td>2018</td>\n",
       "            <td>39.55</td>\n",
       "            <td>4.4</td>\n",
       "            <td>11233</td>\n",
       "        </tr>\n",
       "        <tr>\n",
       "            <td>Pago de Carraovejas Tinto 2020</td>\n",
       "            <td>2019</td>\n",
       "            <td>42.95</td>\n",
       "            <td>4.5</td>\n",
       "            <td>65625</td>\n",
       "        </tr>\n",
       "        <tr>\n",
       "            <td>Château des Tours Vacqueyras 2011</td>\n",
       "            <td>2011</td>\n",
       "            <td>250.0</td>\n",
       "            <td>4.4</td>\n",
       "            <td>3412</td>\n",
       "        </tr>\n",
       "        <tr>\n",
       "            <td>Dal Forno Romano Valpolicella Superiore Monte Lodoletta 2004</td>\n",
       "            <td>2004</td>\n",
       "            <td>243.75</td>\n",
       "            <td>4.5</td>\n",
       "            <td>13024</td>\n",
       "        </tr>\n",
       "    </tbody>\n",
       "</table>"
      ],
      "text/plain": [
       "+---------------------------------------------------------------------+------+-------------+-----------------+---------------+\n",
       "|                              wine_name                              | year | price_euros | ratings_average | ratings_count |\n",
       "+---------------------------------------------------------------------+------+-------------+-----------------+---------------+\n",
       "|   San Marzano 60 Sessantanni Old Vines Primitivo di Manduria 2018   | 2017 |    24.75    |       4.5       |     94289     |\n",
       "|           Tommasi Amarone della Valpolicella Classico 2018          | 2017 |     49.8    |       4.4       |     77515     |\n",
       "| Buena Vista Chateau Buena Vista Cabernet Sauvignon Napa Valley 2018 | 2018 |    61.95    |       4.4       |     13415     |\n",
       "|                 Guerrieri Guerriero della Terra 2019                | 2019 |     27.4    |       4.4       |     10185     |\n",
       "|                    Charles Melton Nine Popes 2015                   | 2015 |    114.6    |       4.4       |      2118     |\n",
       "|    Bodegas Tradición Palo Cortado Tradición Vors 30 Years Sherry    | N.V. |    99.95    |       4.4       |      1050     |\n",
       "|                Arzuaga Reserva Ribera del Duero 2018                | 2018 |    39.55    |       4.4       |     11233     |\n",
       "|                    Pago de Carraovejas Tinto 2020                   | 2019 |    42.95    |       4.5       |     65625     |\n",
       "|                  Château des Tours Vacqueyras 2011                  | 2011 |    250.0    |       4.4       |      3412     |\n",
       "|     Dal Forno Romano Valpolicella Superiore Monte Lodoletta 2004    | 2004 |    243.75   |       4.5       |     13024     |\n",
       "+---------------------------------------------------------------------+------+-------------+-----------------+---------------+"
      ]
     },
     "execution_count": 60,
     "metadata": {},
     "output_type": "execute_result"
    }
   ],
   "source": [
    "%%sql\n",
    "SELECT vintages.name AS wine_name,\n",
    "       MIN(vintages.year) AS year,\n",
    "       MIN(vintages.price_euros) AS price_euros,\n",
    "       MAX(vintages.ratings_average) AS ratings_average,\n",
    "       MAX(wines.ratings_count) AS ratings_count\n",
    "FROM vintages\n",
    "JOIN wines ON vintages.wine_id = wines.id\n",
    "JOIN vintage_toplists_rankings ON vintages.id = vintage_toplists_rankings.vintage_id\n",
    "WHERE vintages.price_euros < 300\n",
    "GROUP BY wines.name\n",
    "ORDER BY MIN(vintage_toplists_rankings.rank) ASC\n",
    "LIMIT 10;"
   ]
  },
  {
   "cell_type": "code",
   "execution_count": 61,
   "metadata": {},
   "outputs": [],
   "source": [
    "# Connect to SQLite database\n",
    "conn = sqlite3.connect(r'./vivino.db')\n",
    "\n",
    "query1 = \"\"\"\n",
    "SELECT vintages.name AS wine_name,\n",
    "    MIN(vintages.year) AS year,\n",
    "    MIN(vintages.price_euros) AS price_euros,\n",
    "    MAX(vintages.ratings_average) AS ratings_average,\n",
    "    MAX(wines.ratings_count) AS ratings_count\n",
    "FROM\n",
    "    vintages\n",
    "JOIN wines\n",
    "    ON vintages.wine_id = wines.id\n",
    "JOIN vintage_toplists_rankings \n",
    "    ON vintages.id = vintage_toplists_rankings.vintage_id\n",
    "WHERE \n",
    "    vintages.price_euros < 300\n",
    "GROUP BY\n",
    "    wines.name\n",
    "ORDER BY MIN(vintage_toplists_rankings.rank) ASC\n",
    "LIMIT 10;\n",
    "\"\"\"\n"
   ]
  },
  {
   "cell_type": "code",
   "execution_count": 63,
   "metadata": {},
   "outputs": [
    {
     "name": "stdout",
     "output_type": "stream",
     "text": [
      "                                           wine_name  year  price_euros  \\\n",
      "0  San Marzano 60 Sessantanni Old Vines Primitivo...  2017        24.75   \n",
      "1   Tommasi Amarone della Valpolicella Classico 2018  2017        49.80   \n",
      "2  Buena Vista Chateau Buena Vista Cabernet Sauvi...  2018        61.95   \n",
      "3               Guerrieri Guerriero della Terra 2019  2019        27.40   \n",
      "4                     Charles Melton Nine Popes 2015  2015       114.60   \n",
      "\n",
      "   ratings_average  ratings_count  \n",
      "0              4.5          94289  \n",
      "1              4.4          77515  \n",
      "2              4.4          13415  \n",
      "3              4.4          10185  \n",
      "4              4.4           2118  \n"
     ]
    }
   ],
   "source": [
    "# Execute the query and load the results into a pandas DataFrame\n",
    "sales_df = pd.read_sql_query(query1, conn)\n",
    "\n",
    "# Write the DataFrame to a CSV file\n",
    "sales_df.to_csv('wine_top_10.csv', index=False)\n",
    "\n",
    "# Optional: Display the first few rows of the DataFrame\n",
    "print(sales_df.head())"
   ]
  },
  {
   "cell_type": "markdown",
   "metadata": {},
   "source": [
    "## We have a limited marketing budget for this year. Which country should we prioritise and why?"
   ]
  },
  {
   "cell_type": "code",
   "execution_count": null,
   "metadata": {},
   "outputs": [],
   "source": []
  },
  {
   "cell_type": "markdown",
   "metadata": {},
   "source": [
    "## We would like to give awards to the best wineries. Come up with 3 relevant ones. Which wineries should we choose and why?"
   ]
  },
  {
   "cell_type": "code",
   "execution_count": null,
   "metadata": {},
   "outputs": [],
   "source": []
  },
  {
   "cell_type": "markdown",
   "metadata": {},
   "source": [
    "## We detected that a big cluster of customers likes a specific combination of tastes. We identified a few keywords that match these tastes: coffee, toast, green apple, cream, and citrus (note that these keywords are case sensitive ⚠️). We would like you to find all the wines that are related to these keywords. Check that at least 10 users confirm those keywords, to ensure the accuracy of the selection. Additionally, identify an appropriate group name for this cluster."
   ]
  },
  {
   "cell_type": "code",
   "execution_count": null,
   "metadata": {},
   "outputs": [],
   "source": []
  },
  {
   "cell_type": "markdown",
   "metadata": {},
   "source": [
    "## We would like to select wines that are easy to find all over the world. Find the top 3 most common grapes all over the world and for each grape, give us the the 5 best rated wines."
   ]
  },
  {
   "cell_type": "code",
   "execution_count": null,
   "metadata": {},
   "outputs": [],
   "source": []
  },
  {
   "cell_type": "markdown",
   "metadata": {},
   "source": [
    "## We would like to create a country leaderboard. Come up with a visual that shows the average wine rating for each country. Do the same for the vintages."
   ]
  },
  {
   "cell_type": "code",
   "execution_count": null,
   "metadata": {},
   "outputs": [],
   "source": []
  },
  {
   "cell_type": "markdown",
   "metadata": {},
   "source": [
    "## One of our VIP clients likes Cabernet Sauvignon and would like our top 5 recommendations. Which wines would you recommend to him?"
   ]
  },
  {
   "cell_type": "code",
   "execution_count": null,
   "metadata": {},
   "outputs": [],
   "source": []
  },
  {
   "cell_type": "markdown",
   "metadata": {},
   "source": [
    "## Test code"
   ]
  },
  {
   "cell_type": "code",
   "execution_count": 35,
   "metadata": {},
   "outputs": [
    {
     "data": {
      "text/html": [
       "<span style=\"None\">Running query in &#x27;sqlite:///vivino.db&#x27;</span>"
      ],
      "text/plain": [
       "Running query in 'sqlite:///vivino.db'"
      ]
     },
     "metadata": {},
     "output_type": "display_data"
    },
    {
     "data": {
      "text/html": [
       "<table>\n",
       "    <thead>\n",
       "        <tr>\n",
       "            <th>name</th>\n",
       "            <th>wine_rating_Avg</th>\n",
       "            <th>wine_ratings_count</th>\n",
       "            <th>vintage_price</th>\n",
       "            <th>vintage_rating_count</th>\n",
       "        </tr>\n",
       "    </thead>\n",
       "    <tbody>\n",
       "        <tr>\n",
       "            <td>Brut Champagne</td>\n",
       "            <td>4.6</td>\n",
       "            <td>146377</td>\n",
       "            <td>440.0</td>\n",
       "            <td>21121</td>\n",
       "        </tr>\n",
       "        <tr>\n",
       "            <td>Brut Champagne</td>\n",
       "            <td>4.6</td>\n",
       "            <td>146377</td>\n",
       "            <td>460.0</td>\n",
       "            <td>14650</td>\n",
       "        </tr>\n",
       "        <tr>\n",
       "            <td>Brut Champagne</td>\n",
       "            <td>4.6</td>\n",
       "            <td>146377</td>\n",
       "            <td>397.5</td>\n",
       "            <td>6496</td>\n",
       "        </tr>\n",
       "        <tr>\n",
       "            <td>Brut Champagne</td>\n",
       "            <td>4.6</td>\n",
       "            <td>146377</td>\n",
       "            <td>638.83</td>\n",
       "            <td>5945</td>\n",
       "        </tr>\n",
       "        <tr>\n",
       "            <td>Brut Champagne</td>\n",
       "            <td>4.6</td>\n",
       "            <td>146377</td>\n",
       "            <td>250.0</td>\n",
       "            <td>623</td>\n",
       "        </tr>\n",
       "    </tbody>\n",
       "</table>"
      ],
      "text/plain": [
       "+----------------+-----------------+--------------------+---------------+----------------------+\n",
       "|      name      | wine_rating_Avg | wine_ratings_count | vintage_price | vintage_rating_count |\n",
       "+----------------+-----------------+--------------------+---------------+----------------------+\n",
       "| Brut Champagne |       4.6       |       146377       |     440.0     |        21121         |\n",
       "| Brut Champagne |       4.6       |       146377       |     460.0     |        14650         |\n",
       "| Brut Champagne |       4.6       |       146377       |     397.5     |         6496         |\n",
       "| Brut Champagne |       4.6       |       146377       |     638.83    |         5945         |\n",
       "| Brut Champagne |       4.6       |       146377       |     250.0     |         623          |\n",
       "+----------------+-----------------+--------------------+---------------+----------------------+"
      ]
     },
     "execution_count": 35,
     "metadata": {},
     "output_type": "execute_result"
    }
   ],
   "source": [
    "%%sql\n",
    "SELECT wines.name, wines.ratings_average as wine_rating_Avg, \n",
    "wines.ratings_count as wine_ratings_count, \n",
    "vintages.price_euros as vintage_price, \n",
    "vintages.ratings_count as vintage_rating_count\n",
    "FROM wines\n",
    "JOIN vintages ON wines.id = vintages.wine_id\n",
    "WHERE wines.name = 'Brut Champagne'\n",
    "GROUP BY vintage_rating_count\n",
    "ORDER BY vintage_rating_count DESC"
   ]
  },
  {
   "cell_type": "code",
   "execution_count": 50,
   "metadata": {},
   "outputs": [
    {
     "data": {
      "text/html": [
       "<span style=\"None\">Running query in &#x27;sqlite:///vivino.db&#x27;</span>"
      ],
      "text/plain": [
       "Running query in 'sqlite:///vivino.db'"
      ]
     },
     "metadata": {},
     "output_type": "display_data"
    },
    {
     "data": {
      "text/html": [
       "<table>\n",
       "    <thead>\n",
       "        <tr>\n",
       "            <th>wine_name</th>\n",
       "            <th>year</th>\n",
       "            <th>price_euros</th>\n",
       "            <th>ratings_average</th>\n",
       "            <th>ratings_count</th>\n",
       "        </tr>\n",
       "    </thead>\n",
       "    <tbody>\n",
       "        <tr>\n",
       "            <td>60 Sessantanni Old Vines Primitivo di Manduria</td>\n",
       "            <td>2017</td>\n",
       "            <td>24.75</td>\n",
       "            <td>4.5</td>\n",
       "            <td>94289</td>\n",
       "        </tr>\n",
       "        <tr>\n",
       "            <td>Amarone della Valpolicella Classico</td>\n",
       "            <td>2017</td>\n",
       "            <td>49.8</td>\n",
       "            <td>4.4</td>\n",
       "            <td>77515</td>\n",
       "        </tr>\n",
       "        <tr>\n",
       "            <td>Chateau Buena Vista Cabernet Sauvignon Napa Valley</td>\n",
       "            <td>2018</td>\n",
       "            <td>61.95</td>\n",
       "            <td>4.4</td>\n",
       "            <td>13415</td>\n",
       "        </tr>\n",
       "        <tr>\n",
       "            <td>Guerriero della Terra</td>\n",
       "            <td>2019</td>\n",
       "            <td>27.4</td>\n",
       "            <td>4.4</td>\n",
       "            <td>10185</td>\n",
       "        </tr>\n",
       "        <tr>\n",
       "            <td>Nine Popes</td>\n",
       "            <td>2015</td>\n",
       "            <td>114.6</td>\n",
       "            <td>4.4</td>\n",
       "            <td>2118</td>\n",
       "        </tr>\n",
       "        <tr>\n",
       "            <td>Palo Cortado Tradición Vors 30 Years Sherry</td>\n",
       "            <td>N.V.</td>\n",
       "            <td>99.95</td>\n",
       "            <td>4.4</td>\n",
       "            <td>1050</td>\n",
       "        </tr>\n",
       "        <tr>\n",
       "            <td>Reserva Ribera del Duero</td>\n",
       "            <td>2018</td>\n",
       "            <td>39.55</td>\n",
       "            <td>4.4</td>\n",
       "            <td>11233</td>\n",
       "        </tr>\n",
       "        <tr>\n",
       "            <td>Tinto</td>\n",
       "            <td>2019</td>\n",
       "            <td>42.95</td>\n",
       "            <td>4.5</td>\n",
       "            <td>65625</td>\n",
       "        </tr>\n",
       "        <tr>\n",
       "            <td>Vacqueyras</td>\n",
       "            <td>2011</td>\n",
       "            <td>250.0</td>\n",
       "            <td>4.4</td>\n",
       "            <td>3412</td>\n",
       "        </tr>\n",
       "        <tr>\n",
       "            <td>Valpolicella Superiore Monte Lodoletta</td>\n",
       "            <td>2004</td>\n",
       "            <td>243.75</td>\n",
       "            <td>4.5</td>\n",
       "            <td>13024</td>\n",
       "        </tr>\n",
       "    </tbody>\n",
       "</table>"
      ],
      "text/plain": [
       "+----------------------------------------------------+------+-------------+-----------------+---------------+\n",
       "|                     wine_name                      | year | price_euros | ratings_average | ratings_count |\n",
       "+----------------------------------------------------+------+-------------+-----------------+---------------+\n",
       "|   60 Sessantanni Old Vines Primitivo di Manduria   | 2017 |    24.75    |       4.5       |     94289     |\n",
       "|        Amarone della Valpolicella Classico         | 2017 |     49.8    |       4.4       |     77515     |\n",
       "| Chateau Buena Vista Cabernet Sauvignon Napa Valley | 2018 |    61.95    |       4.4       |     13415     |\n",
       "|               Guerriero della Terra                | 2019 |     27.4    |       4.4       |     10185     |\n",
       "|                     Nine Popes                     | 2015 |    114.6    |       4.4       |      2118     |\n",
       "|    Palo Cortado Tradición Vors 30 Years Sherry     | N.V. |    99.95    |       4.4       |      1050     |\n",
       "|              Reserva Ribera del Duero              | 2018 |    39.55    |       4.4       |     11233     |\n",
       "|                       Tinto                        | 2019 |    42.95    |       4.5       |     65625     |\n",
       "|                     Vacqueyras                     | 2011 |    250.0    |       4.4       |      3412     |\n",
       "|       Valpolicella Superiore Monte Lodoletta       | 2004 |    243.75   |       4.5       |     13024     |\n",
       "+----------------------------------------------------+------+-------------+-----------------+---------------+"
      ]
     },
     "execution_count": 50,
     "metadata": {},
     "output_type": "execute_result"
    }
   ],
   "source": [
    "%%sql\n",
    "SELECT wines.name AS wine_name,\n",
    "       MIN(vintages.year) AS year,\n",
    "       MIN(vintages.price_euros) AS price_euros,\n",
    "       MAX(vintages.ratings_average) AS ratings_average,\n",
    "       MAX(wines.ratings_count) AS ratings_count\n",
    "FROM vintages\n",
    "JOIN wines ON vintages.wine_id = wines.id\n",
    "JOIN vintage_toplists_rankings ON vintages.id = vintage_toplists_rankings.vintage_id\n",
    "WHERE vintages.price_euros < 300\n",
    "GROUP BY wines.name\n",
    "ORDER BY MIN(vintage_toplists_rankings.rank) ASC\n",
    "LIMIT 10;"
   ]
  }
 ],
 "metadata": {
  "kernelspec": {
   "display_name": "vivino_project",
   "language": "python",
   "name": "python3"
  },
  "language_info": {
   "codemirror_mode": {
    "name": "ipython",
    "version": 3
   },
   "file_extension": ".py",
   "mimetype": "text/x-python",
   "name": "python",
   "nbconvert_exporter": "python",
   "pygments_lexer": "ipython3",
   "version": "3.12.5"
  }
 },
 "nbformat": 4,
 "nbformat_minor": 2
}
