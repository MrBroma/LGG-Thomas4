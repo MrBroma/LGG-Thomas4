{
 "cells": [
  {
   "cell_type": "markdown",
   "metadata": {},
   "source": [
    "# Your first image!\n",
    "\n",
    "Ok now that you understand what Docker is and why use it (at least I hope, if not you will soon!), it is time to get more technical.\n",
    "\n",
    "## Goal\n",
    "In this module we will learn:\n",
    "* What is the **concrete** difference between an **image** and a **container**\n",
    "* How to create an image?\n",
    "* What is a Dockerfile and how to use it?\n",
    "* How to create a container out of an image?\n",
    "\n",
    "And we will run our very first container based on our very first image!\n",
    "\n",
    "![do-it](./assets/do-it.gif)"
   ]
  },
  {
   "cell_type": "markdown",
   "metadata": {},
   "source": [
    "## Installation\n",
    "\n",
    "First things first, we need to install Docker.\n",
    "\n",
    "You just have to follow [Docker's well made documentation](https://docs.docker.com/engine/install/ubuntu/).\n",
    "\n",
    "If you're running Windows or Mac -> https://docs.docker.com/engine/install/\n",
    "\n",
    "By default, Docker will need to use `sudo` each time. Let's change that:\n",
    "```bash\n",
    "sudo gpasswd -a $USER docker\n",
    "```\n",
    "\n",
    "You will need to log-out before it applies the changes.\n",
    "\n",
    "## How do we create an image\n",
    "\n",
    "In order to create images (or import them), we could:\n",
    "\n",
    "### Go to [Docker Hub](https://hub.docker.com/) \n",
    "\n",
    "which is like GitHub for Docker images. \n",
    "You need an image with a SQL DB in it? [There is one](https://hub.docker.com/r/mysalt/mysql). \n",
    "You need an image with python 3.6? [There is one](https://hub.docker.com/r/silverlogic/python3.6).\n",
    "And a lot of other images!\n",
    "\n",
    "### Create your own docker file!\n",
    "\n",
    "In many cases, we will want to create our own images, with our own files and our own script.\n",
    "In order to do that we will create what we call a `Dockerfile`. \n",
    "\n",
    "This is just a file that is named `Dockerfile` and that contains a script that Docker can understand.\n",
    "Based on that, it will create an image.\n",
    "\n",
    "## Let's create our image\n",
    "\n",
    "It's time! So we will create a `Dockerfile` and we will use a python image as base. It means that we start from an existing image to build our own.\n",
    "So we don't have to start from scratch each time.\n",
    "\n",
    "In this file we will add a line to tell Docker that we want to start from the official Python 3.7 image.\n",
    "\n",
    "The `FROM` keyword is used to tell Docker which base image we will use.\n",
    "\n",
    "```Dockerfile\n",
    "FROM python:3.7\n",
    "```\n",
    "\n",
    "Now let's add another line to copy a file. In the folder you're in, there is a file named `hello_world.py`. This file contains a single line:\n",
    "\n",
    "```python\n",
    "print(\"Hello world!\")\n",
    "```\n",
    "\n",
    "We will create folder called `app` and put our file in it. As the python image is built on top of Ubuntu, we can use all the commands that work in Ubuntu.\n",
    "\n",
    "Let's see some useful keywords that can be used in a Dockerfile:\n",
    "* The `RUN` keyword can be uses to run a command on the system.\n",
    "* The `COPY` keyword can be used to copy a file.\n",
    "* The `WORKDIR` keyword can be used to define the path where all the commands will be run starting after it.\n",
    "* The `CMD` keyword can be used to define the command that the container will run when it will be launched.\n",
    "\n",
    "\n",
    "```Dockerfile\n",
    "RUN mkdir /app\n",
    "RUN mkdir /app/code\n",
    "COPY code/hello_world.py /app/code/hello_world.py\n",
    "WORKDIR /app\n",
    "CMD [\"python\", \"code/hello_world.py\"]\n",
    "```\n",
    "\n",
    "## Let's build our image!\n",
    "\n",
    "Now we're ready to create our first image! Exciting right? \n",
    "\n",
    "We say that we `build` our image. That's the term. \n",
    "\n",
    "The command is: `docker build . -t hello`\n",
    "\n",
    "* `docker` to specify that we use docker\n",
    "* `build` to specify that we want to create an image\n",
    "* `.` to specify that the Dockerfile is in the current directory\n",
    "* `-t hello` to add a name to our image. If we don't do that we will need to use the ID that docker defines for us and it's not easy to remember.\n",
    "\n",
    "I already created the Dockerfile for you. Let's have a look."
   ]
  },
  {
   "cell_type": "code",
   "execution_count": 3,
   "metadata": {},
   "outputs": [
    {
     "name": "stdout",
     "output_type": "stream",
     "text": [
      "\u001b[1A\u001b[1B\u001b[0G\u001b[?25l[+] Building 0.0s (0/1)                                    docker:desktop-linux\n",
      "\u001b[?25h\u001b[1A\u001b[0G\u001b[?25l[+] Building 0.2s (1/2)                                    docker:desktop-linux\n",
      "\u001b[34m => [internal] load build definition from Dockerfile                       0.0s\n",
      "\u001b[0m\u001b[34m => => transferring dockerfile: 249B                                       0.0s\n",
      "\u001b[0m => [internal] load metadata for docker.io/library/python:3.7              0.2s\n",
      "\u001b[?25h\u001b[1A\u001b[1A\u001b[1A\u001b[1A\u001b[0G\u001b[?25l[+] Building 0.3s (1/2)                                    docker:desktop-linux\n",
      "\u001b[34m => [internal] load build definition from Dockerfile                       0.0s\n",
      "\u001b[0m\u001b[34m => => transferring dockerfile: 249B                                       0.0s\n",
      "\u001b[0m => [internal] load metadata for docker.io/library/python:3.7              0.3s\n",
      "\u001b[?25h\u001b[1A\u001b[1A\u001b[1A\u001b[1A\u001b[0G\u001b[?25l[+] Building 0.5s (1/2)                                    docker:desktop-linux\n",
      "\u001b[34m => [internal] load build definition from Dockerfile                       0.0s\n",
      "\u001b[0m\u001b[34m => => transferring dockerfile: 249B                                       0.0s\n",
      "\u001b[0m => [internal] load metadata for docker.io/library/python:3.7              0.5s\n",
      "\u001b[?25h\u001b[1A\u001b[1A\u001b[1A\u001b[1A\u001b[0G\u001b[?25l[+] Building 0.5s (2/2)                                    docker:desktop-linux\n",
      "\u001b[34m => [internal] load build definition from Dockerfile                       0.0s\n",
      "\u001b[0m\u001b[34m => => transferring dockerfile: 249B                                       0.0s\n",
      "\u001b[0m\u001b[34m => [internal] load metadata for docker.io/library/python:3.7              0.5s\n",
      "\u001b[0m\u001b[?25h\u001b[1A\u001b[1A\u001b[1A\u001b[1A\u001b[0G\u001b[?25l[+] Building 0.6s (10/10) FINISHED                         docker:desktop-linux\n",
      "\u001b[34m => [internal] load build definition from Dockerfile                       0.0s\n",
      "\u001b[0m\u001b[34m => => transferring dockerfile: 249B                                       0.0s\n",
      "\u001b[0m\u001b[34m => [internal] load metadata for docker.io/library/python:3.7              0.5s\n",
      "\u001b[0m\u001b[34m => [internal] load .dockerignore                                          0.0s\n",
      "\u001b[0m\u001b[34m => => transferring context: 2B                                            0.0s\n",
      "\u001b[0m\u001b[34m => [1/5] FROM docker.io/library/python:3.7@sha256:eedf63967cdb57d8214db3  0.0s\n",
      "\u001b[0m\u001b[34m => [internal] load build context                                          0.0s\n",
      "\u001b[0m\u001b[34m => => transferring context: 182B                                          0.0s\n",
      "\u001b[0m\u001b[34m => CACHED [2/5] RUN mkdir /app                                            0.0s\n",
      "\u001b[0m\u001b[34m => CACHED [3/5] RUN mkdir /app/code                                       0.0s\n",
      "\u001b[0m\u001b[34m => CACHED [4/5] COPY code/hello_world.py /app/code/hello_world.py         0.0s\n",
      "\u001b[0m\u001b[34m => CACHED [5/5] WORKDIR /app                                              0.0s\n",
      "\u001b[0m\u001b[34m => exporting to image                                                     0.0s\n",
      "\u001b[0m\u001b[34m => => exporting layers                                                    0.0s\n",
      "\u001b[0m\u001b[34m => => writing image sha256:d1e2dd6bf91c58327ddfa45efad7141fd337c0235ad33  0.0s\n",
      "\u001b[0m\u001b[34m => => naming to docker.io/library/hello                                   0.0s\n",
      "\u001b[0m\u001b[?25h\n",
      "View build details: \u001b]8;;docker-desktop://dashboard/build/desktop-linux/desktop-linux/g8udzxwa872hmwj7s5vg0lh4k\u001b\\docker-desktop://dashboard/build/desktop-linux/desktop-linux/g8udzxwa872hmwj7s5vg0lh4k\u001b]8;;\u001b\\\n",
      "\u001b[1m\n",
      "What's next:\u001b[0m\n",
      "    View a summary of image vulnerabilities and recommendations → \u001b[36mdocker scout quickview \u001b[0m\n"
     ]
    }
   ],
   "source": [
    "!docker build . -t hello"
   ]
  },
  {
   "cell_type": "code",
   "execution_count": 6,
   "metadata": {},
   "outputs": [
    {
     "name": "stdout",
     "output_type": "stream",
     "text": [
      "\u001b]11;?\u001b\\\u001b[6n\u001b[34m    i \u001b[0mNew version 1.13.0 available (installed version is 1.11.0) at \u001b[96m\u001b]8;;https://github.com/docker/scout-cli\u001b\\https://github.com/docker/scout-cli\u001b]8;;\u001b\\\u001b[0m\n",
      "\u001b[K\u001b[92m    ✓ \u001b[0mImage stored for indexing?25h\n",
      "\u001b[K\u001b[92m    ✓ \u001b[0mIndexed 578 packages\n",
      "\n",
      "\u001b[34m    i \u001b[0mBase image was auto-detected. To get more accurate results, build images with max-mode provenance attestations.\n",
      "      Review \u001b]8;;https://docs.docker.com/build/attestations/slsa-provenance/\u001b\\docs.docker.com\u001b]8;;\u001b\\ ↗ for more information.\n",
      "      \n",
      "  Target             │ \u001b[91;40m local://another_image:v1.0 \u001b[0m │ \u001b[37;41m   5C \u001b[0m \u001b[30;101m  31H \u001b[0m \u001b[30;101m  38M \u001b[0m \u001b[30;103m  81L \u001b[0m \u001b[97m   8? \u001b[0m  \n",
      "    digest           │ \u001b[91;40m d1e2dd6bf91c \u001b[0m               │                                     \n",
      "  Base image         │ \u001b[91;40m python:3.7 \u001b[0m                 │ \u001b[37;41m   5C \u001b[0m \u001b[30;101m  31H \u001b[0m \u001b[30;101m  38M \u001b[0m \u001b[30;103m  80L \u001b[0m \u001b[97m   8? \u001b[0m  \n",
      "  Updated base image │ \u001b[91;40m python:3.9-slim \u001b[0m            │ \u001b[92m   0C \u001b[0m \u001b[30;101m   3H \u001b[0m \u001b[30;101m   1M \u001b[0m \u001b[30;103m  28L \u001b[0m         \n",
      "                     │                              │ \u001b[94m   -5 \u001b[0m \u001b[94m  -28 \u001b[0m \u001b[94m  -37 \u001b[0m \u001b[94m  -52 \u001b[0m \u001b[94m   -8 \u001b[0m  \n",
      "\n",
      "\u001b[1mWhat's next:\u001b[0m\n",
      "    View vulnerabilities → \u001b[36mdocker scout cves local://another_image:v1.0\u001b[0m\n",
      "    View base image update recommendations → \u001b[36mdocker scout recommendations local://another_image:v1.0\u001b[0m\n",
      "    Include policy results in your quickview by supplying an organization → \u001b[36mdocker scout quickview local://another_image:v1.0 --org <organization>\u001b[0m\n",
      "\n"
     ]
    }
   ],
   "source": [
    "!docker scout quickview"
   ]
  },
  {
   "cell_type": "markdown",
   "metadata": {},
   "source": [
    "As you can see, our image has been successfully built!\n",
    "\n",
    "If you look at the last line of the output, you see:\n",
    "\n",
    "```\n",
    "Successfully tagged hello:latest\n",
    "```\n",
    "\n",
    "Our image has been tagged with `hello:latest`. As we didn't define any tag at the end of our image name, `latest` will be added by docker.\n",
    "If we make changes in our image and re-build it, a new image will be created with the tag `latest` and our old image will no longer have it. \n",
    "It's useful when you want to use the most recent version of your image.\n",
    "\n",
    "We can also add our own tags as follows"
   ]
  },
  {
   "cell_type": "code",
   "execution_count": 4,
   "metadata": {},
   "outputs": [
    {
     "name": "stdout",
     "output_type": "stream",
     "text": [
      "\u001b[1A\u001b[1B\u001b[0G\u001b[?25l[+] Building 0.0s (0/1)                                    docker:desktop-linux\n",
      "\u001b[?25h\u001b[1A\u001b[0G\u001b[?25l[+] Building 0.2s (1/2)                                    docker:desktop-linux\n",
      "\u001b[34m => [internal] load build definition from Dockerfile                       0.0s\n",
      "\u001b[0m\u001b[34m => => transferring dockerfile: 249B                                       0.0s\n",
      "\u001b[0m => [internal] load metadata for docker.io/library/python:3.7              0.2s\n",
      "\u001b[?25h\u001b[1A\u001b[1A\u001b[1A\u001b[1A\u001b[0G\u001b[?25l[+] Building 0.3s (1/2)                                    docker:desktop-linux\n",
      "\u001b[34m => [internal] load build definition from Dockerfile                       0.0s\n",
      "\u001b[0m\u001b[34m => => transferring dockerfile: 249B                                       0.0s\n",
      "\u001b[0m => [internal] load metadata for docker.io/library/python:3.7              0.3s\n",
      "\u001b[?25h\u001b[1A\u001b[1A\u001b[1A\u001b[1A\u001b[0G\u001b[?25l[+] Building 0.5s (1/2)                                    docker:desktop-linux\n",
      "\u001b[34m => [internal] load build definition from Dockerfile                       0.0s\n",
      "\u001b[0m\u001b[34m => => transferring dockerfile: 249B                                       0.0s\n",
      "\u001b[0m => [internal] load metadata for docker.io/library/python:3.7              0.5s\n",
      "\u001b[?25h\u001b[1A\u001b[1A\u001b[1A\u001b[1A\u001b[0G\u001b[?25l[+] Building 0.6s (2/2)                                    docker:desktop-linux\n",
      "\u001b[34m => [internal] load build definition from Dockerfile                       0.0s\n",
      "\u001b[0m\u001b[34m => => transferring dockerfile: 249B                                       0.0s\n",
      "\u001b[0m\u001b[34m => [internal] load metadata for docker.io/library/python:3.7              0.6s\n",
      "\u001b[0m\u001b[?25h\u001b[1A\u001b[1A\u001b[1A\u001b[1A\u001b[0G\u001b[?25l[+] Building 0.7s (10/10) FINISHED                         docker:desktop-linux\n",
      "\u001b[34m => [internal] load build definition from Dockerfile                       0.0s\n",
      "\u001b[0m\u001b[34m => => transferring dockerfile: 249B                                       0.0s\n",
      "\u001b[0m\u001b[34m => [internal] load metadata for docker.io/library/python:3.7              0.6s\n",
      "\u001b[0m\u001b[34m => [internal] load .dockerignore                                          0.0s\n",
      "\u001b[0m\u001b[34m => => transferring context: 2B                                            0.0s\n",
      "\u001b[0m\u001b[34m => [1/5] FROM docker.io/library/python:3.7@sha256:eedf63967cdb57d8214db3  0.0s\n",
      "\u001b[0m\u001b[34m => [internal] load build context                                          0.0s\n",
      "\u001b[0m\u001b[34m => => transferring context: 182B                                          0.0s\n",
      "\u001b[0m\u001b[34m => CACHED [2/5] RUN mkdir /app                                            0.0s\n",
      "\u001b[0m\u001b[34m => CACHED [3/5] RUN mkdir /app/code                                       0.0s\n",
      "\u001b[0m\u001b[34m => CACHED [4/5] COPY code/hello_world.py /app/code/hello_world.py         0.0s\n",
      "\u001b[0m\u001b[34m => CACHED [5/5] WORKDIR /app                                              0.0s\n",
      "\u001b[0m\u001b[34m => exporting to image                                                     0.0s\n",
      "\u001b[0m\u001b[34m => => exporting layers                                                    0.0s\n",
      "\u001b[0m\u001b[34m => => writing image sha256:d1e2dd6bf91c58327ddfa45efad7141fd337c0235ad33  0.0s\n",
      "\u001b[0m\u001b[34m => => naming to docker.io/library/hello:v1.0                              0.0s\n",
      "\u001b[0m\u001b[?25h\n",
      "View build details: \u001b]8;;docker-desktop://dashboard/build/desktop-linux/desktop-linux/smzjl0rwzbfpzcu8krn7qrllt\u001b\\docker-desktop://dashboard/build/desktop-linux/desktop-linux/smzjl0rwzbfpzcu8krn7qrllt\u001b]8;;\u001b\\\n",
      "\u001b[1m\n",
      "What's next:\u001b[0m\n",
      "    View a summary of image vulnerabilities and recommendations → \u001b[36mdocker scout quickview \u001b[0m\n"
     ]
    }
   ],
   "source": [
    "!docker build . -t hello:v1.0"
   ]
  },
  {
   "cell_type": "markdown",
   "metadata": {},
   "source": [
    "If we try to list all of our images, we will see that we have 3 images. \n",
    "\n",
    "* One `hello` with the tag `latest`\n",
    "* One `hello` with the tag `v1.0`\n",
    "* One `python` with the tag `3.7` *(that's the one we used as base image)*\n",
    "\n",
    "We can see it with:\n",
    "\n",
    "```bash\n",
    "docker image ls\n",
    "```"
   ]
  },
  {
   "cell_type": "code",
   "execution_count": 5,
   "metadata": {},
   "outputs": [
    {
     "name": "stdout",
     "output_type": "stream",
     "text": [
      "REPOSITORY   TAG       IMAGE ID       CREATED          SIZE\n",
      "hello        latest    d1e2dd6bf91c   37 minutes ago   994MB\n",
      "hello        v1.0      d1e2dd6bf91c   37 minutes ago   994MB\n"
     ]
    }
   ],
   "source": [
    "!docker image ls"
   ]
  },
  {
   "cell_type": "markdown",
   "metadata": {},
   "source": [
    "## Manage images\n",
    "As you can see images take a lot of place on you hard drive! And the more complex your images are and the more dependencies they have, the bigger they will be.\n",
    "\n",
    "It rapidly become a pain...\n",
    "\n",
    "Thankfully, we can remove the one that we don't use anymore with the command:\n",
    "\n",
    "```bash\n",
    "docker image rm <IMAGE_ID>\n",
    "````\n",
    "As we see in the `docker image ls` output, each image has an ID. We will use that to remove them. Let's say we want to remove our `hello:v1.0` image.\n",
    "```\n",
    "hello               latest              8f7ca704c0a8        7 minutes ago       876MB\n",
    "```\n",
    "Here the ID is `8f7ca704c0a8`. But here multiple images have the same ID. That's because multiples images you the same image.\n",
    "\n",
    "Confused? It's because Docker is really smart! We tried to create multiple images based on the same Dockerfile, and there were no changes between the creation of the first image and the last one. Neither in the files, nor in the Dockerfile. So Docker knows that it doesn't have to create multiple images! It creates and 'links' it to other tags.\n",
    "\n",
    "So if I try to delete with the ID it will give me a warning and not do it. Because multiple tags are linked to the same image.\n",
    "\n",
    "So instead of using IDs we will use tags."
   ]
  },
  {
   "cell_type": "code",
   "execution_count": 6,
   "metadata": {},
   "outputs": [
    {
     "name": "stdout",
     "output_type": "stream",
     "text": [
      "Untagged: hello:v1.0\n"
     ]
    }
   ],
   "source": [
    "!docker image rm hello:v1.0"
   ]
  },
  {
   "cell_type": "markdown",
   "metadata": {},
   "source": [
    "The tag has been removed!"
   ]
  },
  {
   "cell_type": "code",
   "execution_count": 7,
   "metadata": {},
   "outputs": [
    {
     "name": "stdout",
     "output_type": "stream",
     "text": [
      "REPOSITORY   TAG       IMAGE ID       CREATED          SIZE\n",
      "hello        latest    d1e2dd6bf91c   37 minutes ago   994MB\n"
     ]
    }
   ],
   "source": [
    "!docker image ls"
   ]
  },
  {
   "cell_type": "markdown",
   "metadata": {},
   "source": [
    "## Run it\n",
    "Perfect! You understand what an image is now! Let's run it. \n",
    "\n",
    "When we will run the image, Docker will create a `container`, an instance of the image and it will execute the command we added after the `CMD` keyword.\n",
    "\n",
    "We will do it with the command:\n",
    "```bash\n",
    "docker run -t hello:latest\n",
    "```\n",
    "\n",
    "* `run` is to tell to docker to create a container.\n",
    "* `-t hello:latest` is to specify which image it should use to create and run the `container`\n",
    "\n",
    "If you don't put `:<YOUR_TAG>` docker will add `:latest` by default."
   ]
  },
  {
   "cell_type": "code",
   "execution_count": 8,
   "metadata": {},
   "outputs": [
    {
     "name": "stdout",
     "output_type": "stream",
     "text": [
      "Hello world!\n"
     ]
    }
   ],
   "source": [
    "!docker run -t hello"
   ]
  },
  {
   "cell_type": "markdown",
   "metadata": {},
   "source": [
    "Our container successfully ran. We can see that it printed 'Hello world' as asked.\n",
    "\n",
    "Ok. So we created a container and we ran it. Can we see it stored somewhere?\n",
    "\n",
    "Let's try with `docker container ls` maybe?"
   ]
  },
  {
   "cell_type": "code",
   "execution_count": 9,
   "metadata": {},
   "outputs": [
    {
     "name": "stdout",
     "output_type": "stream",
     "text": [
      "CONTAINER ID   IMAGE     COMMAND   CREATED   STATUS    PORTS     NAMES\n"
     ]
    }
   ],
   "source": [
    "!docker container ls"
   ]
  },
  {
   "cell_type": "markdown",
   "metadata": {},
   "source": [
    "Damn it, the command seems to be right but there is nothing here!\n",
    "Well, `docker container ls` only show running containers. And this one is not running anymore because it completed the task we asked him to do!\n",
    "\n",
    "So if we want to see all the container, including the stopped one, we can do:\n",
    "```bash\n",
    "docker container ls -a\n",
    "```\n"
   ]
  },
  {
   "cell_type": "code",
   "execution_count": 3,
   "metadata": {},
   "outputs": [
    {
     "name": "stdout",
     "output_type": "stream",
     "text": [
      "CONTAINER ID   IMAGE          COMMAND   CREATED          STATUS                        PORTS     NAMES\n",
      "f6ebe604c452   hello:latest   \"bash\"    4 minutes ago    Up 4 minutes                            my_super_container\n",
      "2816123cd35e   hello:latest   \"bash\"    22 minutes ago   Exited (100) 17 minutes ago             beautiful_edison\n",
      "9ac9a8d4780f   hello:latest   \"bash\"    23 minutes ago   Exited (137) 22 minutes ago             intelligent_dirac\n"
     ]
    }
   ],
   "source": [
    "!docker container ls -a"
   ]
  },
  {
   "cell_type": "markdown",
   "metadata": {},
   "source": [
    "Ok good! We can of course remove it with:\n",
    "\n",
    "```bash\n",
    "docker contanier rm <CONTAINER_ID>\n",
    "```\n",
    "\n",
    "So in this case `cd585b842f8b`"
   ]
  },
  {
   "cell_type": "code",
   "execution_count": 20,
   "metadata": {},
   "outputs": [
    {
     "name": "stdout",
     "output_type": "stream",
     "text": [
      "278871a359da\n"
     ]
    }
   ],
   "source": [
    "!docker container rm 278871a359da"
   ]
  },
  {
   "cell_type": "markdown",
   "metadata": {},
   "source": [
    "It worked!\n",
    "\n",
    "## Conclusion\n",
    "Great! You now have a complete understanding of images and containers. \n",
    "\n",
    "In the next module, we will dive deeper into the container and see what we can do with them.\n",
    "\n",
    "![We will have so much fun!](./assets/have-fun.gif)"
   ]
  }
 ],
 "metadata": {
  "kernelspec": {
   "display_name": "Python 3",
   "language": "python",
   "name": "python3"
  },
  "language_info": {
   "codemirror_mode": {
    "name": "ipython",
    "version": 3
   },
   "file_extension": ".py",
   "mimetype": "text/x-python",
   "name": "python",
   "nbconvert_exporter": "python",
   "pygments_lexer": "ipython3",
   "version": "3.11.5"
  }
 },
 "nbformat": 4,
 "nbformat_minor": 4
}
