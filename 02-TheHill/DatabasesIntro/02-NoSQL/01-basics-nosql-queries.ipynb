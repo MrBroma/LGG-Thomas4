{
 "cells": [
  {
   "cell_type": "markdown",
   "metadata": {},
   "source": [
    "# NoSQL: Basic queries on non-relational databases\n",
    "\n",
    "## NoSQL: Review\n",
    "\n",
    "A NoSQL database is designed to handle data that are not structured in tabular relations. The data can be stored in key-value pairs (like Python dictionaries), documents (JSON), or graphs.\n",
    "\n",
    "<img src=\"../assets/nosql_vs_sql.jpeg\"  width = 500 px></img>\n",
    "\n",
    "Unlike relational databases (SQL), NoSQL does not (necessarily) employ tables and rows. Also they are much more flexible since the structure of the entries is not predefined. Therefore you can add data without defining anything (even not the table itself).\n",
    "\n",
    "[This article](https://www.integrate.io/blog/the-sql-vs-nosql-difference/) gives a recap of the biggest differences between SQL and NoSQL database systems:\n",
    "|SQL|NoSQL|\n",
    "|---|---|\n",
    "|SQL databases are relational| NoSQL databases are non-relational. In NoSQL you cannot make relationships between tables (`JOIN`)|\n",
    "|SQL databases are table-based |NoSQL databases are document, key-value, graph, or wide-column stores.|\n",
    "|SQL databases use structured query language and have a predefined schema.| NoSQL databases have dynamic schemas for unstructured data.|\n",
    "|SQL databases are vertically scalable (by adding processing power)|NoSQL databases are horizontally scalable (by adding servers/machines).|\n",
    "|SQL databases are better for multi-row transactions|NoSQL is better for unstructured data like documents or JSON.|\n",
    "\n",
    "In the image, below you will find examples of popular SQL and NoSQL databases. \n",
    "\n",
    "<img src=\"../assets/popular_examples_nosql_sql.jpeg\" width =500px></img>\n",
    "\n",
    "In the next section, we'll cover an example using MongoDB. You will see that we can translate many of the basic SQL queries you know.\n",
    "\n",
    "## MongoDB\n",
    "\n",
    "<img src=\"https://upload.wikimedia.org/wikipedia/fr/thumb/4/45/MongoDB-Logo.svg/527px-MongoDB-Logo.svg.png\" />\n",
    "\n",
    "A lot of companies provide NoSQL architectures. One of the most popular is [MongoDB](https://www.mongodb.com/). A MongoDB database contains collections (tables) of documents (entries). The documents are stored in the JSON format which is very convenient to handle with Python!\n",
    "\n",
    "The syntax of the queries is based on JavaScript. They basically look like python dictionaries.\n",
    "\n",
    "Before diving in some exercises, you can have a look to [this quick intro](https://www.mongodb.com/docs/manual/tutorial/query-documents/) about MongoDB queries.\n",
    "\n",
    "### Creating the database\n",
    "\n",
    "We have created and filled a MongoDB database for you. You probably know already the database. It is the list of country leaders that you have used already in the Wikipedia project.\n",
    "\n",
    "You can set it up by deploying the Docker image we have pre-built:"
   ]
  },
  {
   "cell_type": "code",
   "execution_count": 1,
   "metadata": {},
   "outputs": [
    {
     "name": "stdout",
     "output_type": "stream",
     "text": [
      "Traceback (most recent call last):\n",
      "  File \"/usr/lib/python3.12/site-packages/urllib3/connectionpool.py\", line 715, in urlopen\n",
      "    httplib_response = self._make_request(\n",
      "                       ^^^^^^^^^^^^^^^^^^^\n",
      "  File \"/usr/lib/python3.12/site-packages/urllib3/connectionpool.py\", line 416, in _make_request\n",
      "    conn.request(method, url, **httplib_request_kw)\n",
      "  File \"/usr/lib/python3.12/site-packages/urllib3/connection.py\", line 244, in request\n",
      "    super(HTTPConnection, self).request(method, url, body=body, headers=headers)\n",
      "  File \"/usr/lib64/python3.12/http/client.py\", line 1336, in request\n",
      "    self._send_request(method, url, body, headers, encode_chunked)\n",
      "  File \"/usr/lib64/python3.12/http/client.py\", line 1382, in _send_request\n",
      "    self.endheaders(body, encode_chunked=encode_chunked)\n",
      "  File \"/usr/lib64/python3.12/http/client.py\", line 1331, in endheaders\n",
      "    self._send_output(message_body, encode_chunked=encode_chunked)\n",
      "  File \"/usr/lib64/python3.12/http/client.py\", line 1091, in _send_output\n",
      "    self.send(msg)\n",
      "  File \"/usr/lib64/python3.12/http/client.py\", line 1035, in send\n",
      "    self.connect()\n",
      "  File \"/usr/lib/python3.12/site-packages/docker/transport/unixconn.py\", line 27, in connect\n",
      "    sock.connect(self.unix_socket)\n",
      "PermissionError: [Errno 13] Permission denied\n",
      "\n",
      "During handling of the above exception, another exception occurred:\n",
      "\n",
      "Traceback (most recent call last):\n",
      "  File \"/usr/lib/python3.12/site-packages/requests/adapters.py\", line 486, in send\n",
      "    resp = conn.urlopen(\n",
      "           ^^^^^^^^^^^^^\n",
      "  File \"/usr/lib/python3.12/site-packages/urllib3/connectionpool.py\", line 801, in urlopen\n",
      "    retries = retries.increment(\n",
      "              ^^^^^^^^^^^^^^^^^^\n",
      "  File \"/usr/lib/python3.12/site-packages/urllib3/util/retry.py\", line 552, in increment\n",
      "    raise six.reraise(type(error), error, _stacktrace)\n",
      "          ^^^^^^^^^^^^^^^^^^^^^^^^^^^^^^^^^^^^^^^^^^^^\n",
      "  File \"/usr/lib/python3.12/site-packages/urllib3/packages/six.py\", line 769, in reraise\n",
      "    raise value.with_traceback(tb)\n",
      "  File \"/usr/lib/python3.12/site-packages/urllib3/connectionpool.py\", line 715, in urlopen\n",
      "    httplib_response = self._make_request(\n",
      "                       ^^^^^^^^^^^^^^^^^^^\n",
      "  File \"/usr/lib/python3.12/site-packages/urllib3/connectionpool.py\", line 416, in _make_request\n",
      "    conn.request(method, url, **httplib_request_kw)\n",
      "  File \"/usr/lib/python3.12/site-packages/urllib3/connection.py\", line 244, in request\n",
      "    super(HTTPConnection, self).request(method, url, body=body, headers=headers)\n",
      "  File \"/usr/lib64/python3.12/http/client.py\", line 1336, in request\n",
      "    self._send_request(method, url, body, headers, encode_chunked)\n",
      "  File \"/usr/lib64/python3.12/http/client.py\", line 1382, in _send_request\n",
      "    self.endheaders(body, encode_chunked=encode_chunked)\n",
      "  File \"/usr/lib64/python3.12/http/client.py\", line 1331, in endheaders\n",
      "    self._send_output(message_body, encode_chunked=encode_chunked)\n",
      "  File \"/usr/lib64/python3.12/http/client.py\", line 1091, in _send_output\n",
      "    self.send(msg)\n",
      "  File \"/usr/lib64/python3.12/http/client.py\", line 1035, in send\n",
      "    self.connect()\n",
      "  File \"/usr/lib/python3.12/site-packages/docker/transport/unixconn.py\", line 27, in connect\n",
      "    sock.connect(self.unix_socket)\n",
      "urllib3.exceptions.ProtocolError: ('Connection aborted.', PermissionError(13, 'Permission denied'))\n",
      "\n",
      "During handling of the above exception, another exception occurred:\n",
      "\n",
      "Traceback (most recent call last):\n",
      "  File \"/usr/lib/python3.12/site-packages/docker/api/client.py\", line 214, in _retrieve_server_version\n",
      "    return self.version(api_version=False)[\"ApiVersion\"]\n",
      "           ^^^^^^^^^^^^^^^^^^^^^^^^^^^^^^^\n",
      "  File \"/usr/lib/python3.12/site-packages/docker/api/daemon.py\", line 181, in version\n",
      "    return self._result(self._get(url), json=True)\n",
      "                        ^^^^^^^^^^^^^^\n",
      "  File \"/usr/lib/python3.12/site-packages/docker/utils/decorators.py\", line 46, in inner\n",
      "    return f(self, *args, **kwargs)\n",
      "           ^^^^^^^^^^^^^^^^^^^^^^^^\n",
      "  File \"/usr/lib/python3.12/site-packages/docker/api/client.py\", line 237, in _get\n",
      "    return self.get(url, **self._set_request_timeout(kwargs))\n",
      "           ^^^^^^^^^^^^^^^^^^^^^^^^^^^^^^^^^^^^^^^^^^^^^^^^^^\n",
      "  File \"/usr/lib/python3.12/site-packages/requests/sessions.py\", line 602, in get\n",
      "    return self.request(\"GET\", url, **kwargs)\n",
      "           ^^^^^^^^^^^^^^^^^^^^^^^^^^^^^^^^^^\n",
      "  File \"/usr/lib/python3.12/site-packages/requests/sessions.py\", line 589, in request\n",
      "    resp = self.send(prep, **send_kwargs)\n",
      "           ^^^^^^^^^^^^^^^^^^^^^^^^^^^^^^\n",
      "  File \"/usr/lib/python3.12/site-packages/requests/sessions.py\", line 703, in send\n",
      "    r = adapter.send(request, **kwargs)\n",
      "        ^^^^^^^^^^^^^^^^^^^^^^^^^^^^^^^\n",
      "  File \"/usr/lib/python3.12/site-packages/requests/adapters.py\", line 501, in send\n",
      "    raise ConnectionError(err, request=request)\n",
      "requests.exceptions.ConnectionError: ('Connection aborted.', PermissionError(13, 'Permission denied'))\n",
      "\n",
      "During handling of the above exception, another exception occurred:\n",
      "\n",
      "Traceback (most recent call last):\n",
      "  File \"/usr/bin/docker-compose\", line 33, in <module>\n",
      "    sys.exit(load_entry_point('docker-compose==1.29.2', 'console_scripts', 'docker-compose')())\n",
      "             ^^^^^^^^^^^^^^^^^^^^^^^^^^^^^^^^^^^^^^^^^^^^^^^^^^^^^^^^^^^^^^^^^^^^^^^^^^^^^^^^^\n",
      "  File \"/usr/lib/python3.12/site-packages/compose/cli/main.py\", line 81, in main\n",
      "    command_func()\n",
      "  File \"/usr/lib/python3.12/site-packages/compose/cli/main.py\", line 200, in perform_command\n",
      "    project = project_from_options('.', options)\n",
      "              ^^^^^^^^^^^^^^^^^^^^^^^^^^^^^^^^^^\n",
      "  File \"/usr/lib/python3.12/site-packages/compose/cli/command.py\", line 60, in project_from_options\n",
      "    return get_project(\n",
      "           ^^^^^^^^^^^^\n",
      "  File \"/usr/lib/python3.12/site-packages/compose/cli/command.py\", line 152, in get_project\n",
      "    client = get_client(\n",
      "             ^^^^^^^^^^^\n",
      "  File \"/usr/lib/python3.12/site-packages/compose/cli/docker_client.py\", line 41, in get_client\n",
      "    client = docker_client(\n",
      "             ^^^^^^^^^^^^^^\n",
      "  File \"/usr/lib/python3.12/site-packages/compose/cli/docker_client.py\", line 170, in docker_client\n",
      "    client = APIClient(use_ssh_client=not use_paramiko_ssh, **kwargs)\n",
      "             ^^^^^^^^^^^^^^^^^^^^^^^^^^^^^^^^^^^^^^^^^^^^^^^^^^^^^^^^\n",
      "  File \"/usr/lib/python3.12/site-packages/docker/api/client.py\", line 197, in __init__\n",
      "    self._version = self._retrieve_server_version()\n",
      "                    ^^^^^^^^^^^^^^^^^^^^^^^^^^^^^^^\n",
      "  File \"/usr/lib/python3.12/site-packages/docker/api/client.py\", line 221, in _retrieve_server_version\n",
      "    raise DockerException(\n",
      "docker.errors.DockerException: Error while fetching server API version: ('Connection aborted.', PermissionError(13, 'Permission denied'))\n"
     ]
    }
   ],
   "source": [
    "# You can run it from this notebook with:\n",
    "!docker-compose up -d\n",
    "\n",
    "# Or in your terminal with:\n",
    "# docker-compose up -d\n"
   ]
  },
  {
   "cell_type": "markdown",
   "metadata": {},
   "source": [
    "### Conneting to the database\n",
    "\n",
    "For using MongoDB through Python you will need to install the `pymongo` library."
   ]
  },
  {
   "cell_type": "code",
   "execution_count": 2,
   "metadata": {},
   "outputs": [
    {
     "data": {
      "text/plain": [
       "['leaders']"
      ]
     },
     "execution_count": 2,
     "metadata": {},
     "output_type": "execute_result"
    }
   ],
   "source": [
    "from pymongo import MongoClient\n",
    "\n",
    "# Creation of a MongoDB Client (by giving the host and the port)\n",
    "client = MongoClient(host=\"localhost\", port=27017)\n",
    "\n",
    "# Instantiation of the database\n",
    "db = client[\"becode\"]\n",
    "\n",
    "# Let's see which collections are in the database\n",
    "db.list_collection_names()"
   ]
  },
  {
   "cell_type": "markdown",
   "metadata": {},
   "source": [
    "### Basic Queries"
   ]
  },
  {
   "cell_type": "markdown",
   "metadata": {},
   "source": [
    "**1. Show the first leader of the `leaders` collection by using the `find_one` method**\n",
    "\n",
    "The corresponding `SQL` query would be:\n",
    "\n",
    "```sql\n",
    "SELECT * FROM leaders LIMIT 1;\n",
    "```"
   ]
  },
  {
   "cell_type": "code",
   "execution_count": 3,
   "metadata": {},
   "outputs": [
    {
     "data": {
      "text/plain": [
       "{'_id': ObjectId('66bf5bbb624e2272be3418c4'),\n",
       " 'id': 'Q7747',\n",
       " 'first_name': 'Vladimir',\n",
       " 'last_name': 'Putin',\n",
       " 'birth_date': '1952-10-07',\n",
       " 'death_date': None,\n",
       " 'place_of_birth': 'Saint Petersburg',\n",
       " 'wikipedia_url': 'https://ru.wikipedia.org/wiki/%D0%9F%D1%83%D1%82%D0%B8%D0%BD,_%D0%92%D0%BB%D0%B0%D0%B4%D0%B8%D0%BC%D0%B8%D1%80_%D0%92%D0%BB%D0%B0%D0%B4%D0%B8%D0%BC%D0%B8%D1%80%D0%BE%D0%B2%D0%B8%D1%87',\n",
       " 'start_mandate': '2000-05-07',\n",
       " 'end_mandate': '2008-05-07',\n",
       " 'country': 'ru'}"
      ]
     },
     "execution_count": 3,
     "metadata": {},
     "output_type": "execute_result"
    }
   ],
   "source": [
    "db[\"leaders\"].find_one()"
   ]
  },
  {
   "cell_type": "markdown",
   "metadata": {},
   "source": [
    "**2. Show the first leader of the collection whose country is Belgium**\n",
    "\n",
    "To that purpose we will use the query as first parameter of the `find_one` function. The query is formatted as a dictionary.\n",
    "\n",
    "In SQL it would be like adding a `WHERE` condition to the query:\n",
    "\n",
    "```sql\n",
    "SELECT * FROM leaders WHERE country = 'be' LIMIT 1;\n",
    "```"
   ]
  },
  {
   "cell_type": "code",
   "execution_count": 30,
   "metadata": {},
   "outputs": [
    {
     "data": {
      "text/plain": [
       "{'_id': ObjectId('66bf5bbb624e2272be3418ef'),\n",
       " 'id': 'Q12978',\n",
       " 'first_name': 'Guy',\n",
       " 'last_name': 'Verhofstadt',\n",
       " 'birth_date': '1953-04-11',\n",
       " 'death_date': None,\n",
       " 'place_of_birth': 'Dendermonde',\n",
       " 'wikipedia_url': 'https://nl.wikipedia.org/wiki/Guy_Verhofstadt',\n",
       " 'start_mandate': '1999-07-12',\n",
       " 'end_mandate': '2008-03-20',\n",
       " 'country': 'be'}"
      ]
     },
     "execution_count": 30,
     "metadata": {},
     "output_type": "execute_result"
    }
   ],
   "source": [
    "db[\"leaders\"].find_one({\"country\": \"be\"})"
   ]
  },
  {
   "cell_type": "markdown",
   "metadata": {},
   "source": [
    "**3. Select some fields to display**\n",
    "\n",
    "Let's use the same query by displaying only the `first_name` and the `last_name` of the leader. It corresponds to a `SELECT` in SQL.\n",
    "\n",
    "We will use the [project](https://www.mongodb.com/docs/manual/tutorial/project-fields-from-query-results/) as the second parameter of the function. It is also formatted as a dictionary whose the key contains the targeted field and the value is `1` if we want the field to be displayed\n",
    "\n",
    "The corresponding SQL query would be:\n",
    "\n",
    "```sql\n",
    "SELECT first_name, last_name FROM leaders WHERE country = 'be' LIMIT 1;\n",
    "```"
   ]
  },
  {
   "cell_type": "code",
   "execution_count": 5,
   "metadata": {},
   "outputs": [
    {
     "data": {
      "text/plain": [
       "{'_id': ObjectId('66bf5bbb624e2272be3418ef'),\n",
       " 'first_name': 'Guy',\n",
       " 'last_name': 'Verhofstadt'}"
      ]
     },
     "execution_count": 5,
     "metadata": {},
     "output_type": "execute_result"
    }
   ],
   "source": [
    "db[\"leaders\"].find_one({\"country\": \"be\"}, {\"first_name\": 1, \"last_name\": 1})"
   ]
  },
  {
   "cell_type": "markdown",
   "metadata": {},
   "source": [
    "We can also decide to not display a field. In that case we put `0` as value for the dictionary."
   ]
  },
  {
   "cell_type": "code",
   "execution_count": 6,
   "metadata": {},
   "outputs": [
    {
     "data": {
      "text/plain": [
       "{'_id': ObjectId('66bf5bbb624e2272be3418ef'),\n",
       " 'first_name': 'Guy',\n",
       " 'last_name': 'Verhofstadt',\n",
       " 'birth_date': '1953-04-11',\n",
       " 'death_date': None,\n",
       " 'place_of_birth': 'Dendermonde',\n",
       " 'start_mandate': '1999-07-12',\n",
       " 'end_mandate': '2008-03-20',\n",
       " 'country': 'be'}"
      ]
     },
     "execution_count": 6,
     "metadata": {},
     "output_type": "execute_result"
    }
   ],
   "source": [
    "db[\"leaders\"].find_one({\"country\": \"be\"}, {\"wikipedia_url\": 0, \"id\": 0})"
   ]
  },
  {
   "cell_type": "markdown",
   "metadata": {},
   "source": [
    "**4. Find the distinct countries**\n",
    "\n",
    "The SQL equivalent:\n",
    "\n",
    "```sql\n",
    "SELECT DISTINCT country FROM leaders;\n",
    "```"
   ]
  },
  {
   "cell_type": "code",
   "execution_count": 7,
   "metadata": {},
   "outputs": [
    {
     "data": {
      "text/plain": [
       "['be', 'fr', 'ma', 'ru', 'us']"
      ]
     },
     "execution_count": 7,
     "metadata": {},
     "output_type": "execute_result"
    }
   ],
   "source": [
    "db[\"leaders\"].find().distinct(\"country\")"
   ]
  },
  {
   "cell_type": "markdown",
   "metadata": {},
   "source": [
    "**5. Find all the leaders who are still alive**\n",
    "\n",
    "We can assume that they have no `death_date`, isn't?"
   ]
  },
  {
   "cell_type": "code",
   "execution_count": 8,
   "metadata": {},
   "outputs": [
    {
     "data": {
      "text/plain": [
       "<pymongo.cursor.Cursor at 0x7f9a2eb64980>"
      ]
     },
     "execution_count": 8,
     "metadata": {},
     "output_type": "execute_result"
    }
   ],
   "source": [
    "db[\"leaders\"].find({\"death_date\": None}, {\"last_name\":1, \"first_name\":1, \"country\":1})"
   ]
  },
  {
   "cell_type": "markdown",
   "metadata": {},
   "source": [
    "As you see the `find` command returns a cursor. No worries we can process it by using a simple Python loop!"
   ]
  },
  {
   "cell_type": "code",
   "execution_count": 9,
   "metadata": {},
   "outputs": [
    {
     "name": "stdout",
     "output_type": "stream",
     "text": [
      "Vladimir Putin (ru)\n",
      "George Bush (us)\n",
      "Donald Trump (us)\n",
      "Jimmy Carter (us)\n",
      "Dmitry Medvedev (ru)\n",
      "Mohammed None (ma)\n",
      "Bill Clinton (us)\n",
      "Joe Biden (us)\n",
      "Guy Verhofstadt (be)\n",
      "Yves Leterme (be)\n",
      "Herman Van Rompaey (be)\n",
      "Mohammed None (ma)\n",
      "Elio Di Rupo (be)\n",
      "Mohammed None (ma)\n",
      "Mark Eyskens (be)\n",
      "Alexander De Croo (be)\n",
      "Sophie Wilmès (be)\n",
      "Barack Obama (us)\n",
      "François Hollande (fr)\n",
      "Nicolas Sarkozy (fr)\n",
      "Emmanuel Macron (fr)\n",
      "Charles Michel (be)\n",
      "Mohammed None (ma)\n",
      "Donald Trump (us)\n",
      "Jimmy Carter (us)\n",
      "Barack Obama (us)\n",
      "Vladimir Putin (ru)\n",
      "Mohammed None (ma)\n",
      "George Bush (us)\n",
      "Mohammed None (ma)\n",
      "Dmitry Medvedev (ru)\n",
      "Guy Verhofstadt (be)\n",
      "Yves Leterme (be)\n",
      "Herman Van Rompaey (be)\n",
      "Bill Clinton (us)\n",
      "Mark Eyskens (be)\n",
      "Elio Di Rupo (be)\n",
      "Charles Michel (be)\n",
      "François Hollande (fr)\n",
      "Sophie Wilmès (be)\n",
      "Nicolas Sarkozy (fr)\n",
      "Joe Biden (us)\n",
      "Alexander De Croo (be)\n",
      "Emmanuel Macron (fr)\n",
      "Mohammed None (ma)\n",
      "Mohammed None (ma)\n",
      "Mohammed None (ma)\n",
      "Dmitry Medvedev (ru)\n",
      "Barack Obama (us)\n",
      "George Bush (us)\n",
      "Bill Clinton (us)\n",
      "Joe Biden (us)\n",
      "Vladimir Putin (ru)\n",
      "Donald Trump (us)\n",
      "Jimmy Carter (us)\n",
      "Yves Leterme (be)\n",
      "Guy Verhofstadt (be)\n",
      "Herman Van Rompaey (be)\n",
      "Elio Di Rupo (be)\n",
      "Mark Eyskens (be)\n",
      "Sophie Wilmès (be)\n",
      "Nicolas Sarkozy (fr)\n",
      "François Hollande (fr)\n",
      "Charles Michel (be)\n",
      "Alexander De Croo (be)\n",
      "Emmanuel Macron (fr)\n"
     ]
    }
   ],
   "source": [
    "for leader in db[\"leaders\"].find({\"death_date\": None}, {\"last_name\":1, \"first_name\":1, \"country\":1}):\n",
    "    print(f\"{leader['first_name']} {leader['last_name']} ({leader['country']})\")"
   ]
  },
  {
   "cell_type": "markdown",
   "metadata": {},
   "source": [
    "**6. Let's now insert the leader of tomorrow: you?**\n",
    "\n",
    "As you know, MongoDB is flexible. It means that you can add entries although some fields are missing. Let's give a try:"
   ]
  },
  {
   "cell_type": "code",
   "execution_count": 10,
   "metadata": {},
   "outputs": [
    {
     "data": {
      "text/plain": [
       "InsertOneResult(ObjectId('66bf6aaa04f60ace1419f1dd'), acknowledged=True)"
      ]
     },
     "execution_count": 10,
     "metadata": {},
     "output_type": "execute_result"
    }
   ],
   "source": [
    "you = {\n",
    "    'first_name': 'ADD HERE YOUR FIRST NAME',\n",
    "    'last_name': 'ADD HERE YOUR LAST NAME',\n",
    "    'birth_date': 'ADD HERE YOUR BIRTH DATE',\n",
    "    'country': 'ADD HERE YOUR COUNTRY CODE'\n",
    "}\n",
    "db[\"leaders\"].insert_one(you)"
   ]
  },
  {
   "cell_type": "markdown",
   "metadata": {},
   "source": [
    "Let's have a look to your data!"
   ]
  },
  {
   "cell_type": "code",
   "execution_count": 11,
   "metadata": {},
   "outputs": [
    {
     "data": {
      "text/plain": [
       "{'_id': ObjectId('66bf6aaa04f60ace1419f1dd'),\n",
       " 'first_name': 'ADD HERE YOUR FIRST NAME',\n",
       " 'last_name': 'ADD HERE YOUR LAST NAME',\n",
       " 'birth_date': 'ADD HERE YOUR BIRTH DATE',\n",
       " 'country': 'ADD HERE YOUR COUNTRY CODE'}"
      ]
     },
     "execution_count": 11,
     "metadata": {},
     "output_type": "execute_result"
    }
   ],
   "source": [
    "db[\"leaders\"].find_one({\"first_name\": \"ADD HERE YOUR FIRST NAME\"})"
   ]
  },
  {
   "cell_type": "markdown",
   "metadata": {},
   "source": [
    "We can observe two things here:\n",
    "- A field `_id` has been automatically added by Mongo. This field is incremental. That means that it will always be higher than the previous element of the collection.\n",
    "- Some fields are missing (the `place_of_birth` for instance). This is a property of NoSQL. All fields are not mandatory!\n",
    "\n",
    "We can check missing values by using the query `{\"$exists\":False}`:"
   ]
  },
  {
   "cell_type": "code",
   "execution_count": 12,
   "metadata": {},
   "outputs": [
    {
     "name": "stdout",
     "output_type": "stream",
     "text": [
      "{'_id': ObjectId('66bf6aaa04f60ace1419f1dd'), 'first_name': 'ADD HERE YOUR FIRST NAME', 'last_name': 'ADD HERE YOUR LAST NAME', 'birth_date': 'ADD HERE YOUR BIRTH DATE', 'country': 'ADD HERE YOUR COUNTRY CODE'}\n"
     ]
    }
   ],
   "source": [
    "for leader in db[\"leaders\"].find({\"place_of_birth\":{\"$exists\":False}}):\n",
    "    print(leader)"
   ]
  },
  {
   "cell_type": "markdown",
   "metadata": {},
   "source": [
    "### Update data\n",
    "\n",
    "Since your place of birth is missing in the data, let's add it now. The update function has two main arguments:\n",
    "- a query that will select the entries to update\n",
    "- an update operation. As always, it is formatted as a dictionary"
   ]
  },
  {
   "cell_type": "code",
   "execution_count": 13,
   "metadata": {},
   "outputs": [
    {
     "data": {
      "text/plain": [
       "UpdateResult({'n': 1, 'nModified': 1, 'ok': 1.0, 'updatedExisting': True}, acknowledged=True)"
      ]
     },
     "execution_count": 13,
     "metadata": {},
     "output_type": "execute_result"
    }
   ],
   "source": [
    "db[\"leaders\"].update_one({\"first_name\": \"ADD HERE YOUR FIRST NAME\"}, {\"$set\": {\"place_of_birth\": \"ADD HERE YOUR PLACE OF BIRTH\"}})"
   ]
  },
  {
   "cell_type": "markdown",
   "metadata": {},
   "source": [
    "#### Remove data\n",
    "\n",
    "Your dream is over ;-) Since you will not be a leader of tomorrow, we will remove you from the collection. The `delete` (or `delete_one`) function has one main argument: the query that will select the entries to be removed."
   ]
  },
  {
   "cell_type": "code",
   "execution_count": 14,
   "metadata": {},
   "outputs": [
    {
     "data": {
      "text/plain": [
       "DeleteResult({'n': 1, 'ok': 1.0}, acknowledged=True)"
      ]
     },
     "execution_count": 14,
     "metadata": {},
     "output_type": "execute_result"
    }
   ],
   "source": [
    "db[\"leaders\"].delete_one({\"first_name\": \"ADD HERE YOUR FIRST NAME\"})"
   ]
  },
  {
   "cell_type": "markdown",
   "metadata": {},
   "source": [
    "## Your Turn!\n",
    "\n",
    "Based on your knowledge and some Google search try to create the following queries:\n",
    "\n",
    "- Remove the leaders who have an empty or null (`None`) last name\n",
    "- Display all unique first names from the collection\n",
    "- Transform all the dates of the dataset by a datetime object (they are currently strings which is not a good practice). You can use a python script that interacts with the DB instead of doing everything in a single query\n",
    "- Display the 10 older leaders ordered by their birth date (search for how to sort and to use limits in MongoDB)\n",
    "- Create a Python script that computes the numbers of leaders by country\n",
    "- Do the same by using a MongoDB [aggregation pipeline](https://www.mongodb.com/docs/manual/aggregation/)"
   ]
  },
  {
   "cell_type": "code",
   "execution_count": 15,
   "metadata": {},
   "outputs": [
    {
     "data": {
      "text/plain": [
       "DeleteResult({'n': 45, 'ok': 1.0}, acknowledged=True)"
      ]
     },
     "execution_count": 15,
     "metadata": {},
     "output_type": "execute_result"
    }
   ],
   "source": [
    "# Your code here (feel free to add some extra code blocks!)\n",
    "db.leaders.delete_many({\n",
    "    'last_name': { '$eq': 'None' }\n",
    "    })\n"
   ]
  },
  {
   "cell_type": "code",
   "execution_count": 44,
   "metadata": {},
   "outputs": [
    {
     "data": {
      "text/plain": [
       "['Abraham',\n",
       " 'Achille',\n",
       " 'Adolphe',\n",
       " 'Alain',\n",
       " 'Albert',\n",
       " 'Alexander',\n",
       " 'Alexandre',\n",
       " 'Aloïs',\n",
       " 'Andrew',\n",
       " 'Auguste',\n",
       " 'Barack',\n",
       " 'Benjamin',\n",
       " 'Bill',\n",
       " 'Boris',\n",
       " 'Camille',\n",
       " 'Charles',\n",
       " 'Chester',\n",
       " 'Clément',\n",
       " 'Dmitry',\n",
       " 'Donald',\n",
       " 'Dwight',\n",
       " 'Elio',\n",
       " 'Emmanuel',\n",
       " 'Franklin',\n",
       " 'Frans',\n",
       " 'François',\n",
       " 'Félix',\n",
       " 'Gaston',\n",
       " 'George',\n",
       " 'Georges',\n",
       " 'Gerald',\n",
       " 'Guy',\n",
       " 'Gérard',\n",
       " 'Harry',\n",
       " 'Henri',\n",
       " 'Henry',\n",
       " 'Herbert',\n",
       " 'Herman',\n",
       " 'Hubert',\n",
       " 'Jacques',\n",
       " 'James',\n",
       " 'Jean',\n",
       " 'Jean-Baptiste',\n",
       " 'Jean-Luc',\n",
       " 'Jimmy',\n",
       " 'Joe',\n",
       " 'John',\n",
       " 'Joseph',\n",
       " 'Jules',\n",
       " 'Leo',\n",
       " 'Louis',\n",
       " 'Lyndon',\n",
       " 'Léon',\n",
       " 'Marie',\n",
       " 'Mark',\n",
       " 'Martin',\n",
       " 'Millard',\n",
       " 'Napoléon',\n",
       " 'Nicolas',\n",
       " 'Patrice',\n",
       " 'Paul',\n",
       " 'Paul-Henri',\n",
       " 'Pierre',\n",
       " 'Pieter',\n",
       " 'Prosper',\n",
       " 'Raymond',\n",
       " 'René',\n",
       " 'Richard',\n",
       " 'Ronald',\n",
       " 'Rutherford',\n",
       " 'Sophie',\n",
       " 'Stephen',\n",
       " 'Sylvain',\n",
       " 'Theodore',\n",
       " 'Thomas',\n",
       " 'Théodore',\n",
       " 'Ulysses',\n",
       " 'Valéry',\n",
       " 'Vincent',\n",
       " 'Vladimir',\n",
       " 'Walthère',\n",
       " 'Warren',\n",
       " 'Wilfried',\n",
       " 'William',\n",
       " 'Woodrow',\n",
       " 'Yves',\n",
       " 'Zachary',\n",
       " 'Émile',\n",
       " 'Étienne']"
      ]
     },
     "execution_count": 44,
     "metadata": {},
     "output_type": "execute_result"
    }
   ],
   "source": [
    "db.leaders.distinct('first_name')"
   ]
  },
  {
   "cell_type": "code",
   "execution_count": 48,
   "metadata": {},
   "outputs": [
    {
     "data": {
      "text/plain": [
       "UpdateResult({'n': 366, 'nModified': 366, 'ok': 1.0, 'updatedExisting': True}, acknowledged=True)"
      ]
     },
     "execution_count": 48,
     "metadata": {},
     "output_type": "execute_result"
    }
   ],
   "source": [
    "db.leaders.update_many(\n",
    "    {}, \n",
    "    [{'$set': {'date_field': {'$dateFromString': {'dateString': '$date_field'}}}}]\n",
    ")"
   ]
  },
  {
   "cell_type": "code",
   "execution_count": null,
   "metadata": {},
   "outputs": [],
   "source": []
  },
  {
   "cell_type": "code",
   "execution_count": null,
   "metadata": {},
   "outputs": [],
   "source": []
  },
  {
   "cell_type": "code",
   "execution_count": null,
   "metadata": {},
   "outputs": [],
   "source": []
  },
  {
   "cell_type": "code",
   "execution_count": 49,
   "metadata": {},
   "outputs": [
    {
     "name": "stdout",
     "output_type": "stream",
     "text": [
      "{'_id': ObjectId('66bf5bbb624e2272be3418c4'), 'id': 'Q7747', 'first_name': 'Vladimir', 'last_name': 'Putin', 'birth_date': '1952-10-07', 'death_date': None, 'place_of_birth': 'Saint Petersburg', 'wikipedia_url': 'https://ru.wikipedia.org/wiki/%D0%9F%D1%83%D1%82%D0%B8%D0%BD,_%D0%92%D0%BB%D0%B0%D0%B4%D0%B8%D0%BC%D0%B8%D1%80_%D0%92%D0%BB%D0%B0%D0%B4%D0%B8%D0%BC%D0%B8%D1%80%D0%BE%D0%B2%D0%B8%D1%87', 'start_mandate': '2000-05-07', 'end_mandate': '2008-05-07', 'country': 'ru', 'date_field': None}\n",
      "{'_id': ObjectId('66bf5bbb624e2272be3418c5'), 'id': 'Q11812', 'first_name': 'Thomas', 'last_name': 'Jefferson', 'birth_date': None, 'death_date': '1826-07-04', 'place_of_birth': 'Shadwell', 'wikipedia_url': 'https://en.wikipedia.org/wiki/Thomas_Jefferson', 'start_mandate': '1801-03-04', 'end_mandate': '1809-03-04', 'country': 'us', 'date_field': None}\n",
      "{'_id': ObjectId('66bf5bbb624e2272be3418c6'), 'id': 'Q207', 'first_name': 'George', 'last_name': 'Bush', 'birth_date': '1946-07-06', 'death_date': None, 'place_of_birth': 'New Haven', 'wikipedia_url': 'https://en.wikipedia.org/wiki/George_W._Bush', 'start_mandate': '2001-01-20', 'end_mandate': '2009-01-20', 'country': 'us', 'date_field': None}\n",
      "{'_id': ObjectId('66bf5bbb624e2272be3418c7'), 'id': 'Q9588', 'first_name': 'Richard', 'last_name': 'Nixon', 'birth_date': '1913-01-09', 'death_date': '1994-04-22', 'place_of_birth': 'Yorba Linda', 'wikipedia_url': 'https://en.wikipedia.org/wiki/Richard_Nixon', 'start_mandate': '1969-01-20', 'end_mandate': '1974-08-09', 'country': 'us', 'date_field': None}\n",
      "{'_id': ObjectId('66bf5bbb624e2272be3418c8'), 'id': 'Q11813', 'first_name': 'James', 'last_name': 'Madison', 'birth_date': '1751-03-16', 'death_date': '1836-06-28', 'place_of_birth': 'Port Conway', 'wikipedia_url': 'https://en.wikipedia.org/wiki/James_Madison', 'start_mandate': '1809-03-04', 'end_mandate': '1817-03-04', 'country': 'us', 'date_field': None}\n",
      "{'_id': ObjectId('66bf5bbb624e2272be3418c9'), 'id': 'Q11816', 'first_name': 'John', 'last_name': 'Adams', 'birth_date': '1767-07-11', 'death_date': '1848-02-23', 'place_of_birth': 'Braintree', 'wikipedia_url': 'https://en.wikipedia.org/wiki/John_Quincy_Adams', 'start_mandate': '1825-03-04', 'end_mandate': '1829-03-04', 'country': 'us', 'date_field': None}\n",
      "{'_id': ObjectId('66bf5bbb624e2272be3418ca'), 'id': 'Q11815', 'first_name': 'James', 'last_name': 'Monroe', 'birth_date': '1758-04-28', 'death_date': '1831-07-04', 'place_of_birth': 'Monroe Hall', 'wikipedia_url': 'https://en.wikipedia.org/wiki/James_Monroe', 'start_mandate': '1817-03-04', 'end_mandate': '1825-03-04', 'country': 'us', 'date_field': None}\n",
      "{'_id': ObjectId('66bf5bbb624e2272be3418cb'), 'id': 'Q11820', 'first_name': 'Martin', 'last_name': 'Van Buren', 'birth_date': '1782-12-05', 'death_date': '1862-07-24', 'place_of_birth': 'Kinderhook', 'wikipedia_url': 'https://en.wikipedia.org/wiki/Martin_Van_Buren', 'start_mandate': '1837-03-04', 'end_mandate': '1841-03-04', 'country': 'us', 'date_field': None}\n",
      "{'_id': ObjectId('66bf5bbb624e2272be3418cc'), 'id': 'Q11869', 'first_name': 'William', 'last_name': 'Harrison', 'birth_date': '1773-02-09', 'death_date': '1841-04-04', 'place_of_birth': 'Charles City County', 'wikipedia_url': 'https://en.wikipedia.org/wiki/William_Henry_Harrison', 'start_mandate': '1841-03-04', 'end_mandate': '1841-04-04', 'country': 'us', 'date_field': None}\n",
      "{'_id': ObjectId('66bf5bbb624e2272be3418cd'), 'id': 'Q11817', 'first_name': 'Andrew', 'last_name': 'Jackson', 'birth_date': '1767-03-15', 'death_date': '1845-06-08', 'place_of_birth': 'Waxhaws', 'wikipedia_url': 'https://en.wikipedia.org/wiki/Andrew_Jackson', 'start_mandate': '1829-03-04', 'end_mandate': '1837-03-04', 'country': 'us', 'date_field': None}\n",
      "{'_id': ObjectId('66bf5bbb624e2272be3418ce'), 'id': 'Q11891', 'first_name': 'James', 'last_name': 'Polk', 'birth_date': '1795-11-02', 'death_date': '1849-06-15', 'place_of_birth': 'Pineville', 'wikipedia_url': 'https://en.wikipedia.org/wiki/James_K._Polk', 'start_mandate': '1845-03-04', 'end_mandate': '1849-03-04', 'country': 'us', 'date_field': None}\n",
      "{'_id': ObjectId('66bf5bbb624e2272be3418cf'), 'id': 'Q11881', 'first_name': 'John', 'last_name': 'Tyler', 'birth_date': '1790-03-29', 'death_date': '1862-01-18', 'place_of_birth': 'Charles City County', 'wikipedia_url': 'https://en.wikipedia.org/wiki/John_Tyler', 'start_mandate': '1841-04-04', 'end_mandate': '1845-03-04', 'country': 'us', 'date_field': None}\n",
      "{'_id': ObjectId('66bf5bbb624e2272be3418d0'), 'id': 'Q11896', 'first_name': 'Zachary', 'last_name': 'Taylor', 'birth_date': '1784-11-24', 'death_date': '1850-07-09', 'place_of_birth': 'Barboursville', 'wikipedia_url': 'https://en.wikipedia.org/wiki/Zachary_Taylor', 'start_mandate': '1849-03-04', 'end_mandate': '1850-07-09', 'country': 'us', 'date_field': None}\n",
      "{'_id': ObjectId('66bf5bbb624e2272be3418d1'), 'id': 'Q12306', 'first_name': 'Millard', 'last_name': 'Fillmore', 'birth_date': '1800-01-07', 'death_date': '1874-03-08', 'place_of_birth': 'Summerhill', 'wikipedia_url': 'https://en.wikipedia.org/wiki/Millard_Fillmore', 'start_mandate': '1850-07-09', 'end_mandate': '1853-03-04', 'country': 'us', 'date_field': None}\n",
      "{'_id': ObjectId('66bf5bbb624e2272be3418d2'), 'id': 'Q12312', 'first_name': 'Franklin', 'last_name': 'Pierce', 'birth_date': '1804-11-23', 'death_date': '1869-10-08', 'place_of_birth': 'Hillsborough', 'wikipedia_url': 'https://en.wikipedia.org/wiki/Franklin_Pierce', 'start_mandate': '1853-03-04', 'end_mandate': '1857-03-04', 'country': 'us', 'date_field': None}\n",
      "{'_id': ObjectId('66bf5bbb624e2272be3418d3'), 'id': 'Q11806', 'first_name': 'John', 'last_name': 'Adams', 'birth_date': None, 'death_date': '1826-07-04', 'place_of_birth': 'Braintree', 'wikipedia_url': 'https://en.wikipedia.org/wiki/John_Adams', 'start_mandate': '1797-03-04', 'end_mandate': '1801-03-04', 'country': 'us', 'date_field': None}\n",
      "{'_id': ObjectId('66bf5bbb624e2272be3418d4'), 'id': 'Q12325', 'first_name': 'James', 'last_name': 'Buchanan', 'birth_date': '1791-04-23', 'death_date': '1868-06-01', 'place_of_birth': 'Stony Batter', 'wikipedia_url': 'https://en.wikipedia.org/wiki/James_Buchanan', 'start_mandate': '1857-03-04', 'end_mandate': '1861-03-04', 'country': 'us', 'date_field': None}\n",
      "{'_id': ObjectId('66bf5bbb624e2272be3418d5'), 'id': 'Q22686', 'first_name': 'Donald', 'last_name': 'Trump', 'birth_date': '1946-06-14', 'death_date': None, 'place_of_birth': 'Jamaica Hospital Medical Center', 'wikipedia_url': 'https://en.wikipedia.org/wiki/Donald_Trump', 'start_mandate': '2017-01-20', 'end_mandate': '2021-01-20', 'country': 'us', 'date_field': None}\n",
      "{'_id': ObjectId('66bf5bbb624e2272be3418d6'), 'id': 'Q23505', 'first_name': 'George', 'last_name': 'Bush', 'birth_date': '1924-06-12', 'death_date': '2018-11-30', 'place_of_birth': 'Milton', 'wikipedia_url': 'https://en.wikipedia.org/wiki/George_H._W._Bush', 'start_mandate': '1989-01-20', 'end_mandate': '1993-01-20', 'country': 'us', 'date_field': None}\n",
      "{'_id': ObjectId('66bf5bbb624e2272be3418d7'), 'id': 'Q23685', 'first_name': 'Jimmy', 'last_name': 'Carter', 'birth_date': '1924-10-01', 'death_date': None, 'place_of_birth': 'Lillian G. Carter Nursing Center', 'wikipedia_url': 'https://en.wikipedia.org/wiki/Jimmy_Carter', 'start_mandate': '1977-01-20', 'end_mandate': '1981-01-20', 'country': 'us', 'date_field': None}\n",
      "{'_id': ObjectId('66bf5bbb624e2272be3418d8'), 'id': 'Q33866', 'first_name': 'Theodore', 'last_name': 'Roosevelt', 'birth_date': '1858-10-27', 'death_date': '1919-01-06', 'place_of_birth': 'Manhattan', 'wikipedia_url': 'https://en.wikipedia.org/wiki/Theodore_Roosevelt', 'start_mandate': '1901-09-14', 'end_mandate': '1909-03-04', 'country': 'us', 'date_field': None}\n",
      "{'_id': ObjectId('66bf5bbb624e2272be3418d9'), 'id': 'Q23530', 'first_name': 'Dmitry', 'last_name': 'Medvedev', 'birth_date': '1965-09-14', 'death_date': None, 'place_of_birth': 'Saint Petersburg', 'wikipedia_url': 'https://ru.wikipedia.org/wiki/%D0%9C%D0%B5%D0%B4%D0%B2%D0%B5%D0%B4%D0%B5%D0%B2,_%D0%94%D0%BC%D0%B8%D1%82%D1%80%D0%B8%D0%B9_%D0%90%D0%BD%D0%B0%D1%82%D0%BE%D0%BB%D1%8C%D0%B5%D0%B2%D0%B8%D1%87', 'start_mandate': '2008-05-07', 'end_mandate': '2012-05-07', 'country': 'ru', 'date_field': None}\n",
      "{'_id': ObjectId('66bf5bbb624e2272be3418da'), 'id': 'Q9640', 'first_name': 'Lyndon', 'last_name': 'Johnson', 'birth_date': '1908-08-27', 'death_date': '1973-01-22', 'place_of_birth': 'Stonewall', 'wikipedia_url': 'https://en.wikipedia.org/wiki/Lyndon_B._Johnson', 'start_mandate': '1963-11-22', 'end_mandate': '1969-01-20', 'country': 'us', 'date_field': None}\n",
      "{'_id': ObjectId('66bf5bbb624e2272be3418db'), 'id': 'Q34453', 'first_name': 'Boris', 'last_name': 'Yeltsin', 'birth_date': '1931-02-01', 'death_date': '2007-04-23', 'place_of_birth': 'Butka', 'wikipedia_url': 'https://ru.wikipedia.org/wiki/%D0%95%D0%BB%D1%8C%D1%86%D0%B8%D0%BD,_%D0%91%D0%BE%D1%80%D0%B8%D1%81_%D0%9D%D0%B8%D0%BA%D0%BE%D0%BB%D0%B0%D0%B5%D0%B2%D0%B8%D1%87', 'start_mandate': '1991-07-10', 'end_mandate': '1999-12-31', 'country': 'ru', 'date_field': None}\n",
      "{'_id': ObjectId('66bf5bbb624e2272be3418dc'), 'id': 'Q8007', 'first_name': 'Franklin', 'last_name': 'Roosevelt', 'birth_date': '1882-01-30', 'death_date': '1945-04-12', 'place_of_birth': 'Hyde Park', 'wikipedia_url': 'https://en.wikipedia.org/wiki/Franklin_D._Roosevelt', 'start_mandate': '1933-03-04', 'end_mandate': '1945-04-12', 'country': 'us', 'date_field': None}\n",
      "{'_id': ObjectId('66bf5bbb624e2272be3418dd'), 'id': 'Q9696', 'first_name': 'John', 'last_name': 'Kennedy', 'birth_date': '1917-05-29', 'death_date': '1963-11-22', 'place_of_birth': 'Brookline', 'wikipedia_url': 'https://en.wikipedia.org/wiki/John_F._Kennedy', 'start_mandate': '1961-01-20', 'end_mandate': '1963-11-22', 'country': 'us', 'date_field': None}\n",
      "{'_id': ObjectId('66bf5bbb624e2272be3418df'), 'id': 'Q9582', 'first_name': 'Gerald', 'last_name': 'Ford', 'birth_date': '1913-07-14', 'death_date': '2006-12-26', 'place_of_birth': 'Omaha', 'wikipedia_url': 'https://en.wikipedia.org/wiki/Gerald_Ford', 'start_mandate': '1974-08-09', 'end_mandate': '1977-01-20', 'country': 'us', 'date_field': None}\n",
      "{'_id': ObjectId('66bf5bbb624e2272be3418e0'), 'id': 'Q1124', 'first_name': 'Bill', 'last_name': 'Clinton', 'birth_date': '1946-08-19', 'death_date': None, 'place_of_birth': 'Hope', 'wikipedia_url': 'https://en.wikipedia.org/wiki/Bill_Clinton', 'start_mandate': '1993-01-20', 'end_mandate': '2001-01-20', 'country': 'us', 'date_field': None}\n",
      "{'_id': ObjectId('66bf5bbb624e2272be3418e2'), 'id': 'Q6279', 'first_name': 'Joe', 'last_name': 'Biden', 'birth_date': '1942-11-20', 'death_date': None, 'place_of_birth': \"St. Mary's Hospital\", 'wikipedia_url': 'https://en.wikipedia.org/wiki/Joe_Biden', 'start_mandate': '2021-01-20', 'end_mandate': None, 'country': 'us', 'date_field': None}\n",
      "{'_id': ObjectId('66bf5bbb624e2272be3418e3'), 'id': 'Q34296', 'first_name': 'Woodrow', 'last_name': 'Wilson', 'birth_date': '1856-12-28', 'death_date': '1924-02-03', 'place_of_birth': 'Staunton', 'wikipedia_url': 'https://en.wikipedia.org/wiki/Woodrow_Wilson', 'start_mandate': '1913-03-04', 'end_mandate': '1921-03-04', 'country': 'us', 'date_field': None}\n",
      "{'_id': ObjectId('66bf5bbb624e2272be3418e4'), 'id': 'Q9916', 'first_name': 'Dwight', 'last_name': 'Eisenhower', 'birth_date': '1890-10-14', 'death_date': '1969-03-28', 'place_of_birth': 'Denison', 'wikipedia_url': 'https://en.wikipedia.org/wiki/Dwight_D._Eisenhower', 'start_mandate': '1953-01-20', 'end_mandate': '1961-01-20', 'country': 'us', 'date_field': None}\n",
      "{'_id': ObjectId('66bf5bbb624e2272be3418e5'), 'id': 'Q34597', 'first_name': 'James', 'last_name': 'Garfield', 'birth_date': '1831-11-19', 'death_date': '1881-09-19', 'place_of_birth': 'Moreland Hills', 'wikipedia_url': 'https://en.wikipedia.org/wiki/James_A._Garfield', 'start_mandate': '1881-03-04', 'end_mandate': '1881-09-19', 'country': 'us', 'date_field': None}\n",
      "{'_id': ObjectId('66bf5bbb624e2272be3418e6'), 'id': 'Q34836', 'first_name': 'Ulysses', 'last_name': 'Grant', 'birth_date': '1822-04-27', 'death_date': '1885-07-23', 'place_of_birth': 'Point Pleasant', 'wikipedia_url': 'https://en.wikipedia.org/wiki/Ulysses_S._Grant', 'start_mandate': '1869-03-04', 'end_mandate': '1877-03-04', 'country': 'us', 'date_field': None}\n",
      "{'_id': ObjectId('66bf5bbb624e2272be3418e7'), 'id': 'Q35041', 'first_name': 'William', 'last_name': 'McKinley', 'birth_date': '1843-01-29', 'death_date': '1901-09-14', 'place_of_birth': 'Niles', 'wikipedia_url': 'https://en.wikipedia.org/wiki/William_McKinley', 'start_mandate': '1897-03-04', 'end_mandate': '1901-09-14', 'country': 'us', 'date_field': None}\n",
      "{'_id': ObjectId('66bf5bbb624e2272be3418e8'), 'id': 'Q35236', 'first_name': 'Herbert', 'last_name': 'Hoover', 'birth_date': '1874-08-10', 'death_date': '1964-10-20', 'place_of_birth': 'West Branch', 'wikipedia_url': 'https://en.wikipedia.org/wiki/Herbert_Hoover', 'start_mandate': '1929-03-04', 'end_mandate': '1933-03-04', 'country': 'us', 'date_field': None}\n",
      "{'_id': ObjectId('66bf5bbb624e2272be3418e9'), 'id': 'Q35171', 'first_name': 'Stephen', 'last_name': 'Cleveland', 'birth_date': '1837-03-18', 'death_date': '1908-06-24', 'place_of_birth': 'Caldwell', 'wikipedia_url': 'https://en.wikipedia.org/wiki/Grover_Cleveland', 'start_mandate': '1893-03-04', 'end_mandate': '1897-03-04', 'country': 'us', 'date_field': None}\n",
      "{'_id': ObjectId('66bf5bbb624e2272be3418ea'), 'id': 'Q35286', 'first_name': 'Warren', 'last_name': 'Harding', 'birth_date': '1865-11-02', 'death_date': '1923-08-02', 'place_of_birth': 'Blooming Grove', 'wikipedia_url': 'https://en.wikipedia.org/wiki/Warren_G._Harding', 'start_mandate': '1921-03-04', 'end_mandate': '1923-08-02', 'country': 'us', 'date_field': None}\n",
      "{'_id': ObjectId('66bf5bbb624e2272be3418eb'), 'id': 'Q35498', 'first_name': 'Chester', 'last_name': 'Arthur', 'birth_date': '1829-10-05', 'death_date': '1886-11-18', 'place_of_birth': 'Fairfield', 'wikipedia_url': 'https://en.wikipedia.org/wiki/Chester_A._Arthur', 'start_mandate': '1881-09-19', 'end_mandate': '1885-03-04', 'country': 'us', 'date_field': None}\n",
      "{'_id': ObjectId('66bf5bbb624e2272be3418ec'), 'id': 'Q35648', 'first_name': 'William', 'last_name': 'Taft', 'birth_date': '1857-09-15', 'death_date': '1930-03-08', 'place_of_birth': 'Cincinnati', 'wikipedia_url': 'https://en.wikipedia.org/wiki/William_Howard_Taft', 'start_mandate': '1909-03-04', 'end_mandate': '1913-03-04', 'country': 'us', 'date_field': None}\n",
      "{'_id': ObjectId('66bf5bbb624e2272be3418ed'), 'id': 'Q35686', 'first_name': 'Rutherford', 'last_name': 'Hayes', 'birth_date': '1822-10-04', 'death_date': '1893-01-17', 'place_of_birth': 'Delaware', 'wikipedia_url': 'https://en.wikipedia.org/wiki/Rutherford_B._Hayes', 'start_mandate': '1877-03-04', 'end_mandate': '1881-03-04', 'country': 'us', 'date_field': None}\n",
      "{'_id': ObjectId('66bf5bbb624e2272be3418ee'), 'id': 'Q35678', 'first_name': 'Benjamin', 'last_name': 'Harrison', 'birth_date': '1833-08-20', 'death_date': '1901-03-13', 'place_of_birth': 'North Bend', 'wikipedia_url': 'https://en.wikipedia.org/wiki/Benjamin_Harrison', 'start_mandate': '1889-03-04', 'end_mandate': '1893-03-04', 'country': 'us', 'date_field': None}\n",
      "{'_id': ObjectId('66bf5bbb624e2272be3418ef'), 'id': 'Q12978', 'first_name': 'Guy', 'last_name': 'Verhofstadt', 'birth_date': '1953-04-11', 'death_date': None, 'place_of_birth': 'Dendermonde', 'wikipedia_url': 'https://nl.wikipedia.org/wiki/Guy_Verhofstadt', 'start_mandate': '1999-07-12', 'end_mandate': '2008-03-20', 'country': 'be', 'date_field': None}\n",
      "{'_id': ObjectId('66bf5bbb624e2272be3418f0'), 'id': 'Q36023', 'first_name': 'John', 'last_name': 'Coolidge', 'birth_date': '1872-07-04', 'death_date': '1933-01-05', 'place_of_birth': 'Plymouth Notch', 'wikipedia_url': 'https://en.wikipedia.org/wiki/Calvin_Coolidge', 'start_mandate': '1923-08-02', 'end_mandate': '1929-03-04', 'country': 'us', 'date_field': None}\n",
      "{'_id': ObjectId('66bf5bbb624e2272be3418f1'), 'id': 'Q12981', 'first_name': 'Yves', 'last_name': 'Leterme', 'birth_date': '1960-10-06', 'death_date': None, 'place_of_birth': 'Wervik', 'wikipedia_url': 'https://nl.wikipedia.org/wiki/Yves_Leterme', 'start_mandate': '2009-11-25', 'end_mandate': '2011-12-06', 'country': 'be', 'date_field': None}\n",
      "{'_id': ObjectId('66bf5bbb624e2272be3418f2'), 'id': 'Q12983', 'first_name': 'Herman', 'last_name': 'Van Rompaey', 'birth_date': '1947-10-31', 'death_date': None, 'place_of_birth': 'Etterbeek', 'wikipedia_url': 'https://nl.wikipedia.org/wiki/Herman_Van_Rompuy', 'start_mandate': '2008-12-30', 'end_mandate': '2009-11-25', 'country': 'be', 'date_field': None}\n",
      "{'_id': ObjectId('66bf5bbb624e2272be3418f3'), 'id': 'Q14989', 'first_name': 'Léon', 'last_name': 'Delacroix', 'birth_date': '1867-12-27', 'death_date': '1929-10-15', 'place_of_birth': 'Saint-Josse-ten-Noode', 'wikipedia_url': 'https://nl.wikipedia.org/wiki/L%C3%A9on_Delacroix', 'start_mandate': '1918-11-21', 'end_mandate': '1920-11-20', 'country': 'be', 'date_field': None}\n",
      "{'_id': ObjectId('66bf5bbb624e2272be3418f4'), 'id': 'Q14991', 'first_name': 'Georges', 'last_name': 'Theunis', 'birth_date': '1873-02-28', 'death_date': '1966-01-04', 'place_of_birth': 'Montegnée', 'wikipedia_url': 'https://nl.wikipedia.org/wiki/Georges_Theunis', 'start_mandate': '1934-11-20', 'end_mandate': '1935-03-25', 'country': 'be', 'date_field': None}\n",
      "{'_id': ObjectId('66bf5bbb624e2272be3418f5'), 'id': 'Q14990', 'first_name': 'Henry', 'last_name': 'Carton', 'birth_date': '1869-01-31', 'death_date': '1951-05-06', 'place_of_birth': 'City of Brussels', 'wikipedia_url': 'https://nl.wikipedia.org/wiki/Henri_Carton_de_Wiart', 'start_mandate': '1920-11-20', 'end_mandate': '1921-12-16', 'country': 'be', 'date_field': None}\n",
      "{'_id': ObjectId('66bf5bbb624e2272be3418f6'), 'id': 'Q14992', 'first_name': 'Aloïs', 'last_name': 'Van de Vyvere', 'birth_date': '1871-06-08', 'death_date': '1961-10-22', 'place_of_birth': 'Tielt', 'wikipedia_url': 'https://nl.wikipedia.org/wiki/Aloys_Van_de_Vyvere', 'start_mandate': '1925-05-13', 'end_mandate': '1925-06-17', 'country': 'be', 'date_field': None}\n",
      "{'_id': ObjectId('66bf5bbb624e2272be3418f7'), 'id': 'Q14994', 'first_name': 'Henri', 'last_name': 'Jaspar', 'birth_date': '1870-07-28', 'death_date': '1939-02-15', 'place_of_birth': 'Schaerbeek - Schaarbeek', 'wikipedia_url': 'https://nl.wikipedia.org/wiki/Henri_Jaspar', 'start_mandate': '1926-05-20', 'end_mandate': '1931-06-06', 'country': 'be', 'date_field': None}\n",
      "{'_id': ObjectId('66bf5bbb624e2272be3418f8'), 'id': 'Q14993', 'first_name': 'Prosper', 'last_name': 'Poullet', 'birth_date': '1868-03-05', 'death_date': '1937-12-03', 'place_of_birth': 'Leuven', 'wikipedia_url': 'https://nl.wikipedia.org/wiki/Prosper_Poullet', 'start_mandate': '1925-06-17', 'end_mandate': '1926-05-20', 'country': 'be', 'date_field': None}\n",
      "{'_id': ObjectId('66bf5bbb624e2272be3418fa'), 'id': 'Q14996', 'first_name': 'Paul', 'last_name': 'Van Zeeland', 'birth_date': '1893-11-11', 'death_date': '1973-09-22', 'place_of_birth': 'Soignies', 'wikipedia_url': 'https://nl.wikipedia.org/wiki/Paul_van_Zeeland', 'start_mandate': '1935-03-25', 'end_mandate': '1937-11-24', 'country': 'be', 'date_field': None}\n",
      "{'_id': ObjectId('66bf5bbb624e2272be3418fb'), 'id': 'Q8612', 'first_name': 'Andrew', 'last_name': 'Johnson', 'birth_date': '1808-12-29', 'death_date': '1875-07-31', 'place_of_birth': 'Raleigh', 'wikipedia_url': 'https://en.wikipedia.org/wiki/Andrew_Johnson', 'start_mandate': '1865-04-15', 'end_mandate': '1869-03-04', 'country': 'us', 'date_field': None}\n",
      "{'_id': ObjectId('66bf5bbb624e2272be3418fc'), 'id': 'Q14997', 'first_name': 'Achille', 'last_name': 'Van Acker', 'birth_date': '1898-04-08', 'death_date': '1975-07-10', 'place_of_birth': 'Bruges', 'wikipedia_url': 'https://nl.wikipedia.org/wiki/Achiel_Van_Acker', 'start_mandate': '1954-04-23', 'end_mandate': '1958-06-26', 'country': 'be', 'date_field': None}\n",
      "{'_id': ObjectId('66bf5bbb624e2272be3418fd'), 'id': 'Q14998', 'first_name': 'Camille', 'last_name': 'Huysmans', 'birth_date': '1871-05-26', 'death_date': '1968-02-25', 'place_of_birth': 'Bilzen', 'wikipedia_url': 'https://nl.wikipedia.org/wiki/Camille_Huysmans', 'start_mandate': '1946-08-03', 'end_mandate': '1947-03-20', 'country': 'be', 'date_field': None}\n",
      "{'_id': ObjectId('66bf5bbb624e2272be3418fe'), 'id': 'Q9960', 'first_name': 'Ronald', 'last_name': 'Reagan', 'birth_date': '1911-02-06', 'death_date': '2004-06-05', 'place_of_birth': 'Tampico', 'wikipedia_url': 'https://en.wikipedia.org/wiki/Ronald_Reagan', 'start_mandate': '1981-01-20', 'end_mandate': '1989-01-20', 'country': 'us', 'date_field': None}\n",
      "{'_id': ObjectId('66bf5bbb624e2272be341900'), 'id': 'Q91', 'first_name': 'Abraham', 'last_name': 'Lincoln', 'birth_date': '1809-02-12', 'death_date': '1865-04-15', 'place_of_birth': 'Sinking Spring Farm', 'wikipedia_url': 'https://en.wikipedia.org/wiki/Abraham_Lincoln', 'start_mandate': '1861-03-04', 'end_mandate': '1865-04-15', 'country': 'us', 'date_field': None}\n",
      "{'_id': ObjectId('66bf5bbb624e2272be341901'), 'id': 'Q11613', 'first_name': 'Harry', 'last_name': 'Truman', 'birth_date': '1884-05-08', 'death_date': '1972-12-26', 'place_of_birth': 'Lamar', 'wikipedia_url': 'https://en.wikipedia.org/wiki/Harry_S._Truman', 'start_mandate': '1945-04-12', 'end_mandate': '1953-01-20', 'country': 'us', 'date_field': None}\n",
      "{'_id': ObjectId('66bf5bbb624e2272be341902'), 'id': 'Q15048', 'first_name': 'Elio', 'last_name': 'Di Rupo', 'birth_date': '1951-07-18', 'death_date': None, 'place_of_birth': 'Morlanwelz', 'wikipedia_url': 'https://nl.wikipedia.org/wiki/Elio_Di_Rupo', 'start_mandate': '2011-12-06', 'end_mandate': '2014-10-11', 'country': 'be', 'date_field': None}\n",
      "{'_id': ObjectId('66bf5bbb624e2272be341903'), 'id': 'Q14999', 'first_name': 'Gaston', 'last_name': 'Eyskens', 'birth_date': '1905-04-01', 'death_date': '1988-01-03', 'place_of_birth': 'Lier', 'wikipedia_url': 'https://nl.wikipedia.org/wiki/Gaston_Eyskens', 'start_mandate': '1968-07-17', 'end_mandate': '1973-01-26', 'country': 'be', 'date_field': None}\n",
      "{'_id': ObjectId('66bf5bbb624e2272be341904'), 'id': 'Q15002', 'first_name': 'Leo', 'last_name': 'Tindemans', 'birth_date': '1922-04-16', 'death_date': '2014-12-26', 'place_of_birth': 'Zwijndrecht', 'wikipedia_url': 'https://nl.wikipedia.org/wiki/Leo_Tindemans', 'start_mandate': '1974-04-25', 'end_mandate': '1978-10-20', 'country': 'be', 'date_field': None}\n",
      "{'_id': ObjectId('66bf5bbb624e2272be341906'), 'id': 'Q155691', 'first_name': 'Paul-Henri', 'last_name': 'Spaak', 'birth_date': '1899-01-25', 'death_date': '1972-07-31', 'place_of_birth': 'Schaerbeek - Schaarbeek', 'wikipedia_url': 'https://nl.wikipedia.org/wiki/Paul-Henri_Spaak', 'start_mandate': '1947-03-20', 'end_mandate': '1949-08-11', 'country': 'be', 'date_field': None}\n",
      "{'_id': ObjectId('66bf5bbb624e2272be341909'), 'id': 'Q363942', 'first_name': 'Pierre', 'last_name': 'Harmel', 'birth_date': '1911-03-16', 'death_date': '2009-11-15', 'place_of_birth': 'Uccle', 'wikipedia_url': 'https://nl.wikipedia.org/wiki/Pierre_Harmel', 'start_mandate': '1965-07-28', 'end_mandate': '1966-03-19', 'country': 'be', 'date_field': None}\n",
      "{'_id': ObjectId('66bf5bbb624e2272be34190a'), 'id': 'Q15056', 'first_name': 'Jean-Luc', 'last_name': 'Dehaene', 'birth_date': '1940-08-07', 'death_date': '2014-05-15', 'place_of_birth': 'Montpellier', 'wikipedia_url': 'https://nl.wikipedia.org/wiki/Jean-Luc_Dehaene', 'start_mandate': '1992-03-07', 'end_mandate': '1999-07-12', 'country': 'be', 'date_field': None}\n",
      "{'_id': ObjectId('66bf5bbb624e2272be34190b'), 'id': 'Q23', 'first_name': 'George', 'last_name': 'Washington', 'birth_date': '1732-02-22', 'death_date': '1799-12-14', 'place_of_birth': 'Westmoreland County', 'wikipedia_url': 'https://en.wikipedia.org/wiki/George_Washington', 'start_mandate': '1789-04-30', 'end_mandate': '1797-03-04', 'country': 'us', 'date_field': None}\n",
      "{'_id': ObjectId('66bf5bbb624e2272be34190c'), 'id': 'Q202049', 'first_name': 'Auguste', 'last_name': 'Beernaert', 'birth_date': '1829-07-26', 'death_date': '1912-10-06', 'place_of_birth': 'Ostend', 'wikipedia_url': 'https://nl.wikipedia.org/wiki/Auguste_Beernaert', 'start_mandate': '1884-10-26', 'end_mandate': '1894-03-26', 'country': 'be', 'date_field': None}\n",
      "{'_id': ObjectId('66bf5bbb624e2272be34190d'), 'id': 'Q15956', 'first_name': 'Frans', 'last_name': 'Schollaert', 'birth_date': '1851-08-19', 'death_date': '1917-06-29', 'place_of_birth': 'Wilsele', 'wikipedia_url': 'https://nl.wikipedia.org/wiki/Frans_Schollaert', 'start_mandate': '1908-01-09', 'end_mandate': '1911-06-17', 'country': 'be', 'date_field': None}\n",
      "{'_id': ObjectId('66bf5bbb624e2272be34190e'), 'id': 'Q313809', 'first_name': 'Wilfried', 'last_name': 'Martens', 'birth_date': '1936-04-19', 'death_date': '2013-10-09', 'place_of_birth': 'Sleidinge', 'wikipedia_url': 'https://nl.wikipedia.org/wiki/Wilfried_Martens', 'start_mandate': '1981-12-17', 'end_mandate': '1992-03-07', 'country': 'be', 'date_field': None}\n",
      "{'_id': ObjectId('66bf5bbb624e2272be34190f'), 'id': 'Q143202', 'first_name': 'Pieter', 'last_name': 'Decker', 'birth_date': '1812-01-25', 'death_date': '1891-01-04', 'place_of_birth': 'Zele', 'wikipedia_url': 'https://nl.wikipedia.org/wiki/Pieter_de_Decker', 'start_mandate': '1855-03-30', 'end_mandate': '1857-11-09', 'country': 'be', 'date_field': None}\n",
      "{'_id': ObjectId('66bf5bbb624e2272be341910'), 'id': 'Q221781', 'first_name': 'Théodore', 'last_name': 'Lefèvre', 'birth_date': '1914-01-17', 'death_date': '1973-09-18', 'place_of_birth': 'Ghent', 'wikipedia_url': 'https://nl.wikipedia.org/wiki/Th%C3%A9o_Lef%C3%A8vre', 'start_mandate': '1961-04-25', 'end_mandate': '1965-07-28', 'country': 'be', 'date_field': None}\n",
      "{'_id': ObjectId('66bf5bbb624e2272be341911'), 'id': 'Q349477', 'first_name': 'Mark', 'last_name': 'Eyskens', 'birth_date': '1933-04-29', 'death_date': None, 'place_of_birth': 'Leuven', 'wikipedia_url': 'https://nl.wikipedia.org/wiki/Mark_Eyskens', 'start_mandate': '1981-04-06', 'end_mandate': '1981-12-17', 'country': 'be', 'date_field': None}\n",
      "{'_id': ObjectId('66bf5bbb624e2272be341912'), 'id': 'Q289570', 'first_name': 'Étienne', 'last_name': 'Gerlache', 'birth_date': '1785-12-26', 'death_date': '1871-02-10', 'place_of_birth': 'Château of Biourge', 'wikipedia_url': 'https://nl.wikipedia.org/wiki/Etienne_de_Gerlache', 'start_mandate': '1831-02-27', 'end_mandate': '1831-03-10', 'country': 'be', 'date_field': None}\n",
      "{'_id': ObjectId('66bf5bbb624e2272be341914'), 'id': 'Q546727', 'first_name': 'Sylvain', 'last_name': 'Weyer', 'birth_date': '1802-01-19', 'death_date': '1874-05-23', 'place_of_birth': 'Leuven', 'wikipedia_url': 'https://nl.wikipedia.org/wiki/Sylvain_Van_de_Weyer', 'start_mandate': '1845-07-30', 'end_mandate': '1846-03-31', 'country': 'be', 'date_field': None}\n",
      "{'_id': ObjectId('66bf5bbb624e2272be341915'), 'id': 'Q527479', 'first_name': 'Henri', 'last_name': 'de Brouckère', 'birth_date': '1801-01-25', 'death_date': '1891-01-25', 'place_of_birth': 'Bruges', 'wikipedia_url': 'https://nl.wikipedia.org/wiki/Henri_de_Brouck%C3%A8re', 'start_mandate': '1852-10-31', 'end_mandate': '1855-03-30', 'country': 'be', 'date_field': None}\n",
      "{'_id': ObjectId('66bf5bbb624e2272be341918'), 'id': 'Q476596', 'first_name': 'Alexander', 'last_name': 'De Croo', 'birth_date': '1975-11-03', 'death_date': None, 'place_of_birth': 'Vilvoorde', 'wikipedia_url': 'https://nl.wikipedia.org/wiki/Alexander_De_Croo', 'start_mandate': '2020-10-01', 'end_mandate': None, 'country': 'be', 'date_field': None}\n",
      "{'_id': ObjectId('66bf5bbb624e2272be341919'), 'id': 'Q705103', 'first_name': 'Charles', 'last_name': 'Broqueville', 'birth_date': '1860-12-04', 'death_date': '1940-09-05', 'place_of_birth': 'Postel', 'wikipedia_url': 'https://nl.wikipedia.org/wiki/Charles_de_Broqueville', 'start_mandate': '1932-10-22', 'end_mandate': '1934-11-20', 'country': 'be', 'date_field': None}\n",
      "{'_id': ObjectId('66bf5bbb624e2272be34191a'), 'id': 'Q442578', 'first_name': 'Hubert', 'last_name': 'Pierlot', 'birth_date': '1883-12-23', 'death_date': '1963-12-13', 'place_of_birth': 'Bertrix', 'wikipedia_url': 'https://nl.wikipedia.org/wiki/Hubert_Pierlot', 'start_mandate': '1939-02-22', 'end_mandate': '1945-02-12', 'country': 'be', 'date_field': None}\n",
      "{'_id': ObjectId('66bf5bbb624e2272be34191d'), 'id': 'Q569138', 'first_name': 'Jules', 'last_name': 'Burlet', 'birth_date': '1844-04-10', 'death_date': '1897-03-01', 'place_of_birth': 'Ixelles - Elsene', 'wikipedia_url': 'https://nl.wikipedia.org/wiki/Jules_de_Burlet', 'start_mandate': '1894-03-26', 'end_mandate': '1896-02-25', 'country': 'be', 'date_field': None}\n",
      "{'_id': ObjectId('66bf5bbb624e2272be34191e'), 'id': 'Q468104', 'first_name': 'Joseph', 'last_name': 'Lebeau', 'birth_date': '1794-01-03', 'death_date': '1865-03-19', 'place_of_birth': 'Huy', 'wikipedia_url': 'https://nl.wikipedia.org/wiki/Joseph_Lebeau', 'start_mandate': '1840-04-18', 'end_mandate': '1841-04-13', 'country': 'be', 'date_field': None}\n",
      "{'_id': ObjectId('66bf5bbb624e2272be34191f'), 'id': 'Q678535', 'first_name': 'Jules', 'last_name': 'Malou', 'birth_date': '1810-10-19', 'death_date': '1886-07-11', 'place_of_birth': 'Ypres', 'wikipedia_url': 'https://nl.wikipedia.org/wiki/Jules_Malou', 'start_mandate': '1884-06-16', 'end_mandate': '1884-10-26', 'country': 'be', 'date_field': None}\n",
      "{'_id': ObjectId('66bf5bbb624e2272be341920'), 'id': 'Q18434995', 'first_name': 'Sophie', 'last_name': 'Wilmès', 'birth_date': '1975-01-15', 'death_date': None, 'place_of_birth': 'Ixelles - Elsene', 'wikipedia_url': 'https://nl.wikipedia.org/wiki/Sophie_Wilm%C3%A8s', 'start_mandate': '2019-10-27', 'end_mandate': '2020-10-01', 'country': 'be', 'date_field': None}\n",
      "{'_id': ObjectId('66bf5bbb624e2272be341921'), 'id': 'Q721798', 'first_name': 'Jules', 'last_name': 'Trooz', 'birth_date': '1857-02-21', 'death_date': '1907-12-31', 'place_of_birth': 'Leuven', 'wikipedia_url': 'https://nl.wikipedia.org/wiki/Jules_de_Trooz', 'start_mandate': '1907-05-02', 'end_mandate': '1907-12-31', 'country': 'be', 'date_field': None}\n",
      "{'_id': ObjectId('66bf5bbb624e2272be341922'), 'id': 'Q76', 'first_name': 'Barack', 'last_name': 'Obama', 'birth_date': '1961-08-04', 'death_date': None, 'place_of_birth': 'Kapiolani Medical Center for Women and Children', 'wikipedia_url': 'https://en.wikipedia.org/wiki/Barack_Obama', 'start_mandate': '2009-01-20', 'end_mandate': '2017-01-20', 'country': 'us', 'date_field': None}\n",
      "{'_id': ObjectId('66bf5bbb624e2272be341923'), 'id': 'Q705111', 'first_name': 'Joseph', 'last_name': 'Pholien', 'birth_date': '1884-12-28', 'death_date': '1968-01-04', 'place_of_birth': 'Liège', 'wikipedia_url': 'https://nl.wikipedia.org/wiki/Joseph_Pholien', 'start_mandate': '1950-08-16', 'end_mandate': '1952-01-15', 'country': 'be', 'date_field': None}\n",
      "{'_id': ObjectId('66bf5bbb624e2272be341924'), 'id': 'Q468109', 'first_name': 'Charles', 'last_name': 'Rogier', 'birth_date': '1800-08-17', 'death_date': '1885-05-27', 'place_of_birth': 'Saint-Quentin', 'wikipedia_url': 'https://nl.wikipedia.org/wiki/Charles_Rogier', 'start_mandate': '1857-11-09', 'end_mandate': '1868-01-03', 'country': 'be', 'date_field': None}\n",
      "{'_id': ObjectId('66bf5bbb624e2272be341926'), 'id': 'Q446472', 'first_name': 'Jean-Baptiste', 'last_name': 'Nothomb', 'birth_date': '1805-07-03', 'death_date': '1881-09-16', 'place_of_birth': 'Messancy', 'wikipedia_url': 'https://nl.wikipedia.org/wiki/Jean-Baptiste_Nothomb', 'start_mandate': '1841-04-13', 'end_mandate': '1845-07-30', 'country': 'be', 'date_field': None}\n",
      "{'_id': ObjectId('66bf5bbb624e2272be341927'), 'id': 'Q725589', 'first_name': 'Jules', 'last_name': \"d'Anethan\", 'birth_date': '1803-04-23', 'death_date': '1888-10-08', 'place_of_birth': 'Brussels metropolitan area', 'wikipedia_url': 'https://nl.wikipedia.org/wiki/Jules_Joseph_d%27Anethan', 'start_mandate': '1870-07-02', 'end_mandate': '1871-12-07', 'country': 'be', 'date_field': None}\n",
      "{'_id': ObjectId('66bf5bbb624e2272be341928'), 'id': 'Q705128', 'first_name': 'Jean', 'last_name': 'Van Houtte', 'birth_date': '1907-03-17', 'death_date': '1991-05-23', 'place_of_birth': 'Ghent', 'wikipedia_url': 'https://nl.wikipedia.org/wiki/Jean_Van_Houtte', 'start_mandate': '1952-01-15', 'end_mandate': '1954-04-23', 'country': 'be', 'date_field': None}\n",
      "{'_id': ObjectId('66bf5bbb624e2272be341929'), 'id': 'Q2038', 'first_name': 'François', 'last_name': 'Mitterrand', 'birth_date': '1916-10-26', 'death_date': '1996-01-08', 'place_of_birth': 'Jarnac', 'wikipedia_url': 'https://fr.wikipedia.org/wiki/Fran%C3%A7ois_Mitterrand', 'start_mandate': '1981-05-21', 'end_mandate': '1995-05-17', 'country': 'fr', 'date_field': None}\n",
      "{'_id': ObjectId('66bf5bbb624e2272be34192a'), 'id': 'Q719483', 'first_name': 'Gérard', 'last_name': 'Cooreman', 'birth_date': '1852-03-25', 'death_date': '1926-12-02', 'place_of_birth': 'Ghent', 'wikipedia_url': 'https://nl.wikipedia.org/wiki/Gerard_Cooreman', 'start_mandate': '1918-06-01', 'end_mandate': '1918-11-21', 'country': 'be', 'date_field': None}\n",
      "{'_id': ObjectId('66bf5bbb624e2272be34192b'), 'id': 'Q2124', 'first_name': 'Valéry', 'last_name': \"Giscard d'Estaing\", 'birth_date': '1926-02-02', 'death_date': '2020-12-02', 'place_of_birth': 'Koblenz', 'wikipedia_url': 'https://fr.wikipedia.org/wiki/Val%C3%A9ry_Giscard_d%27Estaing', 'start_mandate': '1974-05-27', 'end_mandate': '1981-05-21', 'country': 'fr', 'date_field': None}\n",
      "{'_id': ObjectId('66bf5bbb624e2272be34192c'), 'id': 'Q157', 'first_name': 'François', 'last_name': 'Hollande', 'birth_date': '1954-08-12', 'death_date': None, 'place_of_birth': 'Rouen', 'wikipedia_url': 'https://fr.wikipedia.org/wiki/Fran%C3%A7ois_Hollande', 'start_mandate': '2012-05-15', 'end_mandate': '2017-05-14', 'country': 'fr', 'date_field': None}\n",
      "{'_id': ObjectId('66bf5bbb624e2272be34192d'), 'id': 'Q721772', 'first_name': 'Jules', 'last_name': 'Vandenpeereboom', 'birth_date': '1843-03-18', 'death_date': '1917-03-06', 'place_of_birth': 'Kortrijk', 'wikipedia_url': 'https://nl.wikipedia.org/wiki/Jules_Vandenpeereboom', 'start_mandate': '1899-01-24', 'end_mandate': '1899-08-05', 'country': 'be', 'date_field': None}\n",
      "{'_id': ObjectId('66bf5bbb624e2272be34192e'), 'id': 'Q329', 'first_name': 'Nicolas', 'last_name': 'Sarkozy', 'birth_date': '1955-01-28', 'death_date': None, 'place_of_birth': 'Paris', 'wikipedia_url': 'https://fr.wikipedia.org/wiki/Nicolas_Sarkozy', 'start_mandate': '2007-05-16', 'end_mandate': '2012-05-15', 'country': 'fr', 'date_field': None}\n",
      "{'_id': ObjectId('66bf5bbb624e2272be34192f'), 'id': 'Q705791', 'first_name': 'Walthère', 'last_name': 'Frère', 'birth_date': '1812-04-22', 'death_date': '1896-01-02', 'place_of_birth': 'Liège', 'wikipedia_url': 'https://nl.wikipedia.org/wiki/Walth%C3%A8re_Fr%C3%A8re-Orban', 'start_mandate': '1878-06-19', 'end_mandate': '1884-06-16', 'country': 'be', 'date_field': None}\n",
      "{'_id': ObjectId('66bf5bbb624e2272be341930'), 'id': 'Q158749', 'first_name': 'Albert', 'last_name': 'Lebrun', 'birth_date': '1871-08-29', 'death_date': '1950-03-06', 'place_of_birth': 'Mercy-le-Haut', 'wikipedia_url': 'https://fr.wikipedia.org/wiki/Albert_Lebrun', 'start_mandate': '1932-05-10', 'end_mandate': '1940-07-11', 'country': 'fr', 'date_field': None}\n",
      "{'_id': ObjectId('66bf5bbb624e2272be341931'), 'id': 'Q2042', 'first_name': 'Charles', 'last_name': 'de Gaulle', 'birth_date': '1890-11-22', 'death_date': '1970-11-09', 'place_of_birth': 'Lille', 'wikipedia_url': 'https://fr.wikipedia.org/wiki/Charles_de_Gaulle', 'start_mandate': '1959-01-08', 'end_mandate': '1969-04-28', 'country': 'fr', 'date_field': None}\n",
      "{'_id': ObjectId('66bf5bbb624e2272be341932'), 'id': 'Q721781', 'first_name': 'Paul', 'last_name': 'De Smet de Naeyer', 'birth_date': '1843-05-13', 'death_date': '1913-09-09', 'place_of_birth': 'Ghent', 'wikipedia_url': 'https://nl.wikipedia.org/wiki/Paul_de_Smet_de_Naeyer', 'start_mandate': '1899-08-05', 'end_mandate': '1907-05-02', 'country': 'be', 'date_field': None}\n",
      "{'_id': ObjectId('66bf5bbb624e2272be341933'), 'id': 'Q215778', 'first_name': 'Marie', 'last_name': 'Carnot', 'birth_date': '1837-08-11', 'death_date': '1894-06-25', 'place_of_birth': 'Limoges', 'wikipedia_url': 'https://fr.wikipedia.org/wiki/Sadi_Carnot_(homme_d%27%C3%89tat)', 'start_mandate': '1887-12-03', 'end_mandate': '1894-06-25', 'country': 'fr', 'date_field': None}\n",
      "{'_id': ObjectId('66bf5bbb624e2272be341934'), 'id': 'Q7721', 'first_name': 'Napoléon', 'last_name': 'Bonaparte', 'birth_date': '1808-04-20', 'death_date': '1873-01-09', 'place_of_birth': 'Paris', 'wikipedia_url': 'https://fr.wikipedia.org/wiki/Napol%C3%A9on_III', 'start_mandate': '1848-12-20', 'end_mandate': '1852-12-02', 'country': 'fr', 'date_field': None}\n",
      "{'_id': ObjectId('66bf5bbb624e2272be341935'), 'id': 'Q2185', 'first_name': 'Georges', 'last_name': 'Pompidou', 'birth_date': '1911-07-05', 'death_date': '1974-04-02', 'place_of_birth': 'Montboudif', 'wikipedia_url': 'https://fr.wikipedia.org/wiki/Georges_Pompidou', 'start_mandate': '1969-06-20', 'end_mandate': '1974-04-02', 'country': 'fr', 'date_field': None}\n",
      "{'_id': ObjectId('66bf5bbb624e2272be341936'), 'id': 'Q169502', 'first_name': 'Émile', 'last_name': 'Loubet', 'birth_date': '1838-12-31', 'death_date': '1929-12-20', 'place_of_birth': 'Marsanne', 'wikipedia_url': 'https://fr.wikipedia.org/wiki/%C3%89mile_Loubet', 'start_mandate': '1899-02-18', 'end_mandate': '1906-02-18', 'country': 'fr', 'date_field': None}\n",
      "{'_id': ObjectId('66bf5bbb624e2272be341937'), 'id': 'Q191974', 'first_name': 'Raymond', 'last_name': 'Poincaré', 'birth_date': '1860-08-20', 'death_date': '1934-10-15', 'place_of_birth': 'Bar-le-Duc', 'wikipedia_url': 'https://fr.wikipedia.org/wiki/Raymond_Poincar%C3%A9', 'start_mandate': '1913-02-18', 'end_mandate': '1920-02-18', 'country': 'fr', 'date_field': None}\n",
      "{'_id': ObjectId('66bf5bbb624e2272be341938'), 'id': 'Q2105', 'first_name': 'Jacques', 'last_name': 'Chirac', 'birth_date': '1932-11-29', 'death_date': '2019-09-26', 'place_of_birth': '5th arrondissement of Paris', 'wikipedia_url': 'https://fr.wikipedia.org/wiki/Jacques_Chirac', 'start_mandate': '1995-05-17', 'end_mandate': '2007-05-16', 'country': 'fr', 'date_field': None}\n",
      "{'_id': ObjectId('66bf5bbb624e2272be341939'), 'id': 'Q158768', 'first_name': 'René', 'last_name': 'Coty', 'birth_date': '1882-03-20', 'death_date': '1962-11-22', 'place_of_birth': 'Le Havre', 'wikipedia_url': 'https://fr.wikipedia.org/wiki/Ren%C3%A9_Coty', 'start_mandate': '1954-01-16', 'end_mandate': '1959-01-08', 'country': 'fr', 'date_field': None}\n",
      "{'_id': ObjectId('66bf5bbb624e2272be34193a'), 'id': 'Q5738', 'first_name': 'Adolphe', 'last_name': 'Thiers', 'birth_date': '1797-04-15', 'death_date': '1877-09-03', 'place_of_birth': 'Marseille', 'wikipedia_url': 'https://fr.wikipedia.org/wiki/Adolphe_Thiers', 'start_mandate': '1871-08-31', 'end_mandate': '1873-05-24', 'country': 'fr', 'date_field': None}\n",
      "{'_id': ObjectId('66bf5bbb624e2272be34193b'), 'id': 'Q12680', 'first_name': 'Paul', 'last_name': 'Doumer', 'birth_date': '1857-03-22', 'death_date': '1932-05-07', 'place_of_birth': 'Aurillac', 'wikipedia_url': 'https://fr.wikipedia.org/wiki/Paul_Doumer', 'start_mandate': '1931-06-13', 'end_mandate': '1932-05-07', 'country': 'fr', 'date_field': None}\n",
      "{'_id': ObjectId('66bf5bbb624e2272be34193c'), 'id': 'Q158772', 'first_name': 'Vincent', 'last_name': 'Auriol', 'birth_date': '1884-08-27', 'death_date': '1966-01-01', 'place_of_birth': 'Revel', 'wikipedia_url': 'https://fr.wikipedia.org/wiki/Vincent_Auriol', 'start_mandate': '1947-01-16', 'end_mandate': '1954-01-16', 'country': 'fr', 'date_field': None}\n",
      "{'_id': ObjectId('66bf5bbb624e2272be34193d'), 'id': 'Q3052772', 'first_name': 'Emmanuel', 'last_name': 'Macron', 'birth_date': '1977-12-21', 'death_date': None, 'place_of_birth': 'Amiens', 'wikipedia_url': 'https://fr.wikipedia.org/wiki/Emmanuel_Macron', 'start_mandate': '2017-05-14', 'end_mandate': None, 'country': 'fr', 'date_field': None}\n",
      "{'_id': ObjectId('66bf5bbb624e2272be34193e'), 'id': 'Q12950', 'first_name': 'Alain', 'last_name': 'Poher', 'birth_date': '1909-04-17', 'death_date': '1996-12-09', 'place_of_birth': 'Ablon-sur-Seine', 'wikipedia_url': 'https://fr.wikipedia.org/wiki/Alain_Poher', 'start_mandate': '1969-04-28', 'end_mandate': '1969-06-20', 'country': 'fr', 'date_field': None}\n",
      "{'_id': ObjectId('66bf5bbb624e2272be34193f'), 'id': 'Q158838', 'first_name': 'Patrice', 'last_name': 'de Mac Mahon', 'birth_date': '1808-06-13', 'death_date': '1893-10-17', 'place_of_birth': 'Sully', 'wikipedia_url': 'https://fr.wikipedia.org/wiki/Patrice_de_Mac_Mahon', 'start_mandate': '1873-05-24', 'end_mandate': '1879-01-30', 'country': 'fr', 'date_field': None}\n",
      "{'_id': ObjectId('66bf5bbb624e2272be341940'), 'id': 'Q356032', 'first_name': 'Charles', 'last_name': 'Dupuy', 'birth_date': '1851-11-05', 'death_date': '1923-07-23', 'place_of_birth': 'Le Puy-en-Velay', 'wikipedia_url': 'https://fr.wikipedia.org/wiki/Charles_Dupuy', 'start_mandate': '1894-06-25', 'end_mandate': '1894-06-27', 'country': 'fr', 'date_field': None}\n",
      "{'_id': ObjectId('66bf5bbb624e2272be341941'), 'id': 'Q950958', 'first_name': 'Charles', 'last_name': 'Michel', 'birth_date': '1975-12-21', 'death_date': None, 'place_of_birth': 'Namur', 'wikipedia_url': 'https://nl.wikipedia.org/wiki/Charles_Michel', 'start_mandate': '2014-10-11', 'end_mandate': '2019-10-27', 'country': 'be', 'date_field': None}\n",
      "{'_id': ObjectId('66bf5bbb624e2272be341942'), 'id': 'Q296083', 'first_name': 'Jules', 'last_name': 'Grévy', 'birth_date': '1807-08-15', 'death_date': '1891-09-09', 'place_of_birth': 'Mont-sous-Vaudrey', 'wikipedia_url': 'https://fr.wikipedia.org/wiki/Jules_Gr%C3%A9vy', 'start_mandate': '1879-01-30', 'end_mandate': '1887-12-02', 'country': 'fr', 'date_field': None}\n",
      "{'_id': ObjectId('66bf5bbb624e2272be341943'), 'id': 'Q296064', 'first_name': 'Gaston', 'last_name': 'Doumergue', 'birth_date': '1863-08-01', 'death_date': '1937-06-18', 'place_of_birth': 'Aigues-Vives', 'wikipedia_url': 'https://fr.wikipedia.org/wiki/Gaston_Doumergue', 'start_mandate': '1924-06-13', 'end_mandate': '1931-06-13', 'country': 'fr', 'date_field': None}\n",
      "{'_id': ObjectId('66bf5bbb624e2272be341944'), 'id': 'Q379702', 'first_name': 'Louis', 'last_name': 'Cavaignac', 'birth_date': '1802-10-15', 'death_date': '1857-10-28', 'place_of_birth': 'Paris', 'wikipedia_url': 'https://fr.wikipedia.org/wiki/Eug%C3%A8ne_Cavaignac', 'start_mandate': '1848-06-28', 'end_mandate': '1848-12-20', 'country': 'fr', 'date_field': None}\n",
      "{'_id': ObjectId('66bf5bbb624e2272be341945'), 'id': 'Q274540', 'first_name': 'Alexandre', 'last_name': 'Millerand', 'birth_date': '1859-02-10', 'death_date': '1943-04-06', 'place_of_birth': 'Paris', 'wikipedia_url': 'https://fr.wikipedia.org/wiki/Alexandre_Millerand', 'start_mandate': '1920-09-23', 'end_mandate': '1924-06-11', 'country': 'fr', 'date_field': None}\n",
      "{'_id': ObjectId('66bf5bbb624e2272be341946'), 'id': 'Q296076', 'first_name': 'Félix', 'last_name': 'Faure', 'birth_date': '1841-01-30', 'death_date': '1899-02-16', 'place_of_birth': 'Paris', 'wikipedia_url': 'https://fr.wikipedia.org/wiki/F%C3%A9lix_Faure', 'start_mandate': '1895-01-17', 'end_mandate': '1899-02-16', 'country': 'fr', 'date_field': None}\n",
      "{'_id': ObjectId('66bf5bbb624e2272be341947'), 'id': 'Q309995', 'first_name': 'Paul', 'last_name': 'Deschanel', 'birth_date': '1855-02-13', 'death_date': '1922-04-28', 'place_of_birth': 'Schaerbeek - Schaarbeek', 'wikipedia_url': 'https://fr.wikipedia.org/wiki/Paul_Deschanel', 'start_mandate': '1920-02-18', 'end_mandate': '1920-09-21', 'country': 'fr', 'date_field': None}\n",
      "{'_id': ObjectId('66bf5bbb624e2272be341948'), 'id': 'Q312026', 'first_name': 'Georges', 'last_name': 'Bidault', 'birth_date': '1899-10-05', 'death_date': '1983-01-27', 'place_of_birth': 'Moulins', 'wikipedia_url': 'https://fr.wikipedia.org/wiki/Georges_Bidault', 'start_mandate': '1946-06-24', 'end_mandate': '1946-10-14', 'country': 'fr', 'date_field': None}\n",
      "{'_id': ObjectId('66bf5bbb624e2272be341949'), 'id': 'Q296673', 'first_name': 'Clément', 'last_name': 'Fallières', 'birth_date': '1841-11-06', 'death_date': '1931-06-22', 'place_of_birth': 'Mézin', 'wikipedia_url': 'https://fr.wikipedia.org/wiki/Armand_Falli%C3%A8res', 'start_mandate': '1906-02-18', 'end_mandate': '1913-02-18', 'country': 'fr', 'date_field': None}\n",
      "{'_id': ObjectId('66bf5bbb624e2272be34194c'), 'id': 'Q315656', 'first_name': 'Jean', 'last_name': 'Casimir-Perier', 'birth_date': '1847-11-08', 'death_date': '1907-03-11', 'place_of_birth': 'Paris', 'wikipedia_url': 'https://fr.wikipedia.org/wiki/Jean_Casimir-Perier', 'start_mandate': '1894-06-27', 'end_mandate': '1895-01-16', 'country': 'fr', 'date_field': None}\n",
      "{'_id': ObjectId('66bf5cb4d0abae571ed66c60'), 'id': 'Q11812', 'first_name': 'Thomas', 'last_name': 'Jefferson', 'birth_date': None, 'death_date': '1826-07-04', 'place_of_birth': 'Shadwell', 'wikipedia_url': 'https://en.wikipedia.org/wiki/Thomas_Jefferson', 'start_mandate': '1801-03-04', 'end_mandate': '1809-03-04', 'country': 'us', 'date_field': None}\n",
      "{'_id': ObjectId('66bf5cb4d0abae571ed66c61'), 'id': 'Q34453', 'first_name': 'Boris', 'last_name': 'Yeltsin', 'birth_date': '1931-02-01', 'death_date': '2007-04-23', 'place_of_birth': 'Butka', 'wikipedia_url': 'https://ru.wikipedia.org/wiki/%D0%95%D0%BB%D1%8C%D1%86%D0%B8%D0%BD,_%D0%91%D0%BE%D1%80%D0%B8%D1%81_%D0%9D%D0%B8%D0%BA%D0%BE%D0%BB%D0%B0%D0%B5%D0%B2%D0%B8%D1%87', 'start_mandate': '1991-07-10', 'end_mandate': '1999-12-31', 'country': 'ru', 'date_field': None}\n",
      "{'_id': ObjectId('66bf5cb4d0abae571ed66c62'), 'id': 'Q11813', 'first_name': 'James', 'last_name': 'Madison', 'birth_date': '1751-03-16', 'death_date': '1836-06-28', 'place_of_birth': 'Port Conway', 'wikipedia_url': 'https://en.wikipedia.org/wiki/James_Madison', 'start_mandate': '1809-03-04', 'end_mandate': '1817-03-04', 'country': 'us', 'date_field': None}\n",
      "{'_id': ObjectId('66bf5cb4d0abae571ed66c64'), 'id': 'Q11815', 'first_name': 'James', 'last_name': 'Monroe', 'birth_date': '1758-04-28', 'death_date': '1831-07-04', 'place_of_birth': 'Monroe Hall', 'wikipedia_url': 'https://en.wikipedia.org/wiki/James_Monroe', 'start_mandate': '1817-03-04', 'end_mandate': '1825-03-04', 'country': 'us', 'date_field': None}\n",
      "{'_id': ObjectId('66bf5cb4d0abae571ed66c65'), 'id': 'Q11817', 'first_name': 'Andrew', 'last_name': 'Jackson', 'birth_date': '1767-03-15', 'death_date': '1845-06-08', 'place_of_birth': 'Waxhaws', 'wikipedia_url': 'https://en.wikipedia.org/wiki/Andrew_Jackson', 'start_mandate': '1829-03-04', 'end_mandate': '1837-03-04', 'country': 'us', 'date_field': None}\n",
      "{'_id': ObjectId('66bf5cb4d0abae571ed66c66'), 'id': 'Q11820', 'first_name': 'Martin', 'last_name': 'Van Buren', 'birth_date': '1782-12-05', 'death_date': '1862-07-24', 'place_of_birth': 'Kinderhook', 'wikipedia_url': 'https://en.wikipedia.org/wiki/Martin_Van_Buren', 'start_mandate': '1837-03-04', 'end_mandate': '1841-03-04', 'country': 'us', 'date_field': None}\n",
      "{'_id': ObjectId('66bf5cb4d0abae571ed66c67'), 'id': 'Q11816', 'first_name': 'John', 'last_name': 'Adams', 'birth_date': '1767-07-11', 'death_date': '1848-02-23', 'place_of_birth': 'Braintree', 'wikipedia_url': 'https://en.wikipedia.org/wiki/John_Quincy_Adams', 'start_mandate': '1825-03-04', 'end_mandate': '1829-03-04', 'country': 'us', 'date_field': None}\n",
      "{'_id': ObjectId('66bf5cb4d0abae571ed66c68'), 'id': 'Q11869', 'first_name': 'William', 'last_name': 'Harrison', 'birth_date': '1773-02-09', 'death_date': '1841-04-04', 'place_of_birth': 'Charles City County', 'wikipedia_url': 'https://en.wikipedia.org/wiki/William_Henry_Harrison', 'start_mandate': '1841-03-04', 'end_mandate': '1841-04-04', 'country': 'us', 'date_field': None}\n",
      "{'_id': ObjectId('66bf5cb4d0abae571ed66c6a'), 'id': 'Q11891', 'first_name': 'James', 'last_name': 'Polk', 'birth_date': '1795-11-02', 'death_date': '1849-06-15', 'place_of_birth': 'Pineville', 'wikipedia_url': 'https://en.wikipedia.org/wiki/James_K._Polk', 'start_mandate': '1845-03-04', 'end_mandate': '1849-03-04', 'country': 'us', 'date_field': None}\n",
      "{'_id': ObjectId('66bf5cb4d0abae571ed66c6b'), 'id': 'Q11881', 'first_name': 'John', 'last_name': 'Tyler', 'birth_date': '1790-03-29', 'death_date': '1862-01-18', 'place_of_birth': 'Charles City County', 'wikipedia_url': 'https://en.wikipedia.org/wiki/John_Tyler', 'start_mandate': '1841-04-04', 'end_mandate': '1845-03-04', 'country': 'us', 'date_field': None}\n",
      "{'_id': ObjectId('66bf5cb4d0abae571ed66c6c'), 'id': 'Q11896', 'first_name': 'Zachary', 'last_name': 'Taylor', 'birth_date': '1784-11-24', 'death_date': '1850-07-09', 'place_of_birth': 'Barboursville', 'wikipedia_url': 'https://en.wikipedia.org/wiki/Zachary_Taylor', 'start_mandate': '1849-03-04', 'end_mandate': '1850-07-09', 'country': 'us', 'date_field': None}\n",
      "{'_id': ObjectId('66bf5cb4d0abae571ed66c6d'), 'id': 'Q12325', 'first_name': 'James', 'last_name': 'Buchanan', 'birth_date': '1791-04-23', 'death_date': '1868-06-01', 'place_of_birth': 'Stony Batter', 'wikipedia_url': 'https://en.wikipedia.org/wiki/James_Buchanan', 'start_mandate': '1857-03-04', 'end_mandate': '1861-03-04', 'country': 'us', 'date_field': None}\n",
      "{'_id': ObjectId('66bf5cb4d0abae571ed66c6e'), 'id': 'Q11806', 'first_name': 'John', 'last_name': 'Adams', 'birth_date': None, 'death_date': '1826-07-04', 'place_of_birth': 'Braintree', 'wikipedia_url': 'https://en.wikipedia.org/wiki/John_Adams', 'start_mandate': '1797-03-04', 'end_mandate': '1801-03-04', 'country': 'us', 'date_field': None}\n",
      "{'_id': ObjectId('66bf5cb4d0abae571ed66c6f'), 'id': 'Q12312', 'first_name': 'Franklin', 'last_name': 'Pierce', 'birth_date': '1804-11-23', 'death_date': '1869-10-08', 'place_of_birth': 'Hillsborough', 'wikipedia_url': 'https://en.wikipedia.org/wiki/Franklin_Pierce', 'start_mandate': '1853-03-04', 'end_mandate': '1857-03-04', 'country': 'us', 'date_field': None}\n",
      "{'_id': ObjectId('66bf5cb4d0abae571ed66c70'), 'id': 'Q12306', 'first_name': 'Millard', 'last_name': 'Fillmore', 'birth_date': '1800-01-07', 'death_date': '1874-03-08', 'place_of_birth': 'Summerhill', 'wikipedia_url': 'https://en.wikipedia.org/wiki/Millard_Fillmore', 'start_mandate': '1850-07-09', 'end_mandate': '1853-03-04', 'country': 'us', 'date_field': None}\n",
      "{'_id': ObjectId('66bf5cb4d0abae571ed66c71'), 'id': 'Q22686', 'first_name': 'Donald', 'last_name': 'Trump', 'birth_date': '1946-06-14', 'death_date': None, 'place_of_birth': 'Jamaica Hospital Medical Center', 'wikipedia_url': 'https://en.wikipedia.org/wiki/Donald_Trump', 'start_mandate': '2017-01-20', 'end_mandate': '2021-01-20', 'country': 'us', 'date_field': None}\n",
      "{'_id': ObjectId('66bf5cb4d0abae571ed66c72'), 'id': 'Q23505', 'first_name': 'George', 'last_name': 'Bush', 'birth_date': '1924-06-12', 'death_date': '2018-11-30', 'place_of_birth': 'Milton', 'wikipedia_url': 'https://en.wikipedia.org/wiki/George_H._W._Bush', 'start_mandate': '1989-01-20', 'end_mandate': '1993-01-20', 'country': 'us', 'date_field': None}\n",
      "{'_id': ObjectId('66bf5cb4d0abae571ed66c73'), 'id': 'Q23685', 'first_name': 'Jimmy', 'last_name': 'Carter', 'birth_date': '1924-10-01', 'death_date': None, 'place_of_birth': 'Lillian G. Carter Nursing Center', 'wikipedia_url': 'https://en.wikipedia.org/wiki/Jimmy_Carter', 'start_mandate': '1977-01-20', 'end_mandate': '1981-01-20', 'country': 'us', 'date_field': None}\n",
      "{'_id': ObjectId('66bf5cb4d0abae571ed66c74'), 'id': 'Q33866', 'first_name': 'Theodore', 'last_name': 'Roosevelt', 'birth_date': '1858-10-27', 'death_date': '1919-01-06', 'place_of_birth': 'Manhattan', 'wikipedia_url': 'https://en.wikipedia.org/wiki/Theodore_Roosevelt', 'start_mandate': '1901-09-14', 'end_mandate': '1909-03-04', 'country': 'us', 'date_field': None}\n",
      "{'_id': ObjectId('66bf5cb4d0abae571ed66c75'), 'id': 'Q76', 'first_name': 'Barack', 'last_name': 'Obama', 'birth_date': '1961-08-04', 'death_date': None, 'place_of_birth': 'Kapiolani Medical Center for Women and Children', 'wikipedia_url': 'https://en.wikipedia.org/wiki/Barack_Obama', 'start_mandate': '2009-01-20', 'end_mandate': '2017-01-20', 'country': 'us', 'date_field': None}\n",
      "{'_id': ObjectId('66bf5cb4d0abae571ed66c76'), 'id': 'Q8612', 'first_name': 'Andrew', 'last_name': 'Johnson', 'birth_date': '1808-12-29', 'death_date': '1875-07-31', 'place_of_birth': 'Raleigh', 'wikipedia_url': 'https://en.wikipedia.org/wiki/Andrew_Johnson', 'start_mandate': '1865-04-15', 'end_mandate': '1869-03-04', 'country': 'us', 'date_field': None}\n",
      "{'_id': ObjectId('66bf5cb4d0abae571ed66c77'), 'id': 'Q7747', 'first_name': 'Vladimir', 'last_name': 'Putin', 'birth_date': '1952-10-07', 'death_date': None, 'place_of_birth': 'Saint Petersburg', 'wikipedia_url': 'https://ru.wikipedia.org/wiki/%D0%9F%D1%83%D1%82%D0%B8%D0%BD,_%D0%92%D0%BB%D0%B0%D0%B4%D0%B8%D0%BC%D0%B8%D1%80_%D0%92%D0%BB%D0%B0%D0%B4%D0%B8%D0%BC%D0%B8%D1%80%D0%BE%D0%B2%D0%B8%D1%87', 'start_mandate': '2000-05-07', 'end_mandate': '2008-05-07', 'country': 'ru', 'date_field': None}\n",
      "{'_id': ObjectId('66bf5cb4d0abae571ed66c79'), 'id': 'Q9582', 'first_name': 'Gerald', 'last_name': 'Ford', 'birth_date': '1913-07-14', 'death_date': '2006-12-26', 'place_of_birth': 'Omaha', 'wikipedia_url': 'https://en.wikipedia.org/wiki/Gerald_Ford', 'start_mandate': '1974-08-09', 'end_mandate': '1977-01-20', 'country': 'us', 'date_field': None}\n",
      "{'_id': ObjectId('66bf5cb4d0abae571ed66c7a'), 'id': 'Q207', 'first_name': 'George', 'last_name': 'Bush', 'birth_date': '1946-07-06', 'death_date': None, 'place_of_birth': 'New Haven', 'wikipedia_url': 'https://en.wikipedia.org/wiki/George_W._Bush', 'start_mandate': '2001-01-20', 'end_mandate': '2009-01-20', 'country': 'us', 'date_field': None}\n",
      "{'_id': ObjectId('66bf5cb4d0abae571ed66c7c'), 'id': 'Q9588', 'first_name': 'Richard', 'last_name': 'Nixon', 'birth_date': '1913-01-09', 'death_date': '1994-04-22', 'place_of_birth': 'Yorba Linda', 'wikipedia_url': 'https://en.wikipedia.org/wiki/Richard_Nixon', 'start_mandate': '1969-01-20', 'end_mandate': '1974-08-09', 'country': 'us', 'date_field': None}\n",
      "{'_id': ObjectId('66bf5cb4d0abae571ed66c7d'), 'id': 'Q23530', 'first_name': 'Dmitry', 'last_name': 'Medvedev', 'birth_date': '1965-09-14', 'death_date': None, 'place_of_birth': 'Saint Petersburg', 'wikipedia_url': 'https://ru.wikipedia.org/wiki/%D0%9C%D0%B5%D0%B4%D0%B2%D0%B5%D0%B4%D0%B5%D0%B2,_%D0%94%D0%BC%D0%B8%D1%82%D1%80%D0%B8%D0%B9_%D0%90%D0%BD%D0%B0%D1%82%D0%BE%D0%BB%D1%8C%D0%B5%D0%B2%D0%B8%D1%87', 'start_mandate': '2008-05-07', 'end_mandate': '2012-05-07', 'country': 'ru', 'date_field': None}\n",
      "{'_id': ObjectId('66bf5cb4d0abae571ed66c7e'), 'id': 'Q34597', 'first_name': 'James', 'last_name': 'Garfield', 'birth_date': '1831-11-19', 'death_date': '1881-09-19', 'place_of_birth': 'Moreland Hills', 'wikipedia_url': 'https://en.wikipedia.org/wiki/James_A._Garfield', 'start_mandate': '1881-03-04', 'end_mandate': '1881-09-19', 'country': 'us', 'date_field': None}\n",
      "{'_id': ObjectId('66bf5cb4d0abae571ed66c7f'), 'id': 'Q34296', 'first_name': 'Woodrow', 'last_name': 'Wilson', 'birth_date': '1856-12-28', 'death_date': '1924-02-03', 'place_of_birth': 'Staunton', 'wikipedia_url': 'https://en.wikipedia.org/wiki/Woodrow_Wilson', 'start_mandate': '1913-03-04', 'end_mandate': '1921-03-04', 'country': 'us', 'date_field': None}\n",
      "{'_id': ObjectId('66bf5cb4d0abae571ed66c80'), 'id': 'Q34836', 'first_name': 'Ulysses', 'last_name': 'Grant', 'birth_date': '1822-04-27', 'death_date': '1885-07-23', 'place_of_birth': 'Point Pleasant', 'wikipedia_url': 'https://en.wikipedia.org/wiki/Ulysses_S._Grant', 'start_mandate': '1869-03-04', 'end_mandate': '1877-03-04', 'country': 'us', 'date_field': None}\n",
      "{'_id': ObjectId('66bf5cb4d0abae571ed66c81'), 'id': 'Q35041', 'first_name': 'William', 'last_name': 'McKinley', 'birth_date': '1843-01-29', 'death_date': '1901-09-14', 'place_of_birth': 'Niles', 'wikipedia_url': 'https://en.wikipedia.org/wiki/William_McKinley', 'start_mandate': '1897-03-04', 'end_mandate': '1901-09-14', 'country': 'us', 'date_field': None}\n",
      "{'_id': ObjectId('66bf5cb4d0abae571ed66c82'), 'id': 'Q35236', 'first_name': 'Herbert', 'last_name': 'Hoover', 'birth_date': '1874-08-10', 'death_date': '1964-10-20', 'place_of_birth': 'West Branch', 'wikipedia_url': 'https://en.wikipedia.org/wiki/Herbert_Hoover', 'start_mandate': '1929-03-04', 'end_mandate': '1933-03-04', 'country': 'us', 'date_field': None}\n",
      "{'_id': ObjectId('66bf5cb4d0abae571ed66c83'), 'id': 'Q35171', 'first_name': 'Stephen', 'last_name': 'Cleveland', 'birth_date': '1837-03-18', 'death_date': '1908-06-24', 'place_of_birth': 'Caldwell', 'wikipedia_url': 'https://en.wikipedia.org/wiki/Grover_Cleveland', 'start_mandate': '1893-03-04', 'end_mandate': '1897-03-04', 'country': 'us', 'date_field': None}\n",
      "{'_id': ObjectId('66bf5cb4d0abae571ed66c84'), 'id': 'Q35498', 'first_name': 'Chester', 'last_name': 'Arthur', 'birth_date': '1829-10-05', 'death_date': '1886-11-18', 'place_of_birth': 'Fairfield', 'wikipedia_url': 'https://en.wikipedia.org/wiki/Chester_A._Arthur', 'start_mandate': '1881-09-19', 'end_mandate': '1885-03-04', 'country': 'us', 'date_field': None}\n",
      "{'_id': ObjectId('66bf5cb4d0abae571ed66c85'), 'id': 'Q35286', 'first_name': 'Warren', 'last_name': 'Harding', 'birth_date': '1865-11-02', 'death_date': '1923-08-02', 'place_of_birth': 'Blooming Grove', 'wikipedia_url': 'https://en.wikipedia.org/wiki/Warren_G._Harding', 'start_mandate': '1921-03-04', 'end_mandate': '1923-08-02', 'country': 'us', 'date_field': None}\n",
      "{'_id': ObjectId('66bf5cb4d0abae571ed66c86'), 'id': 'Q35678', 'first_name': 'Benjamin', 'last_name': 'Harrison', 'birth_date': '1833-08-20', 'death_date': '1901-03-13', 'place_of_birth': 'North Bend', 'wikipedia_url': 'https://en.wikipedia.org/wiki/Benjamin_Harrison', 'start_mandate': '1889-03-04', 'end_mandate': '1893-03-04', 'country': 'us', 'date_field': None}\n",
      "{'_id': ObjectId('66bf5cb4d0abae571ed66c87'), 'id': 'Q35648', 'first_name': 'William', 'last_name': 'Taft', 'birth_date': '1857-09-15', 'death_date': '1930-03-08', 'place_of_birth': 'Cincinnati', 'wikipedia_url': 'https://en.wikipedia.org/wiki/William_Howard_Taft', 'start_mandate': '1909-03-04', 'end_mandate': '1913-03-04', 'country': 'us', 'date_field': None}\n",
      "{'_id': ObjectId('66bf5cb4d0abae571ed66c88'), 'id': 'Q35686', 'first_name': 'Rutherford', 'last_name': 'Hayes', 'birth_date': '1822-10-04', 'death_date': '1893-01-17', 'place_of_birth': 'Delaware', 'wikipedia_url': 'https://en.wikipedia.org/wiki/Rutherford_B._Hayes', 'start_mandate': '1877-03-04', 'end_mandate': '1881-03-04', 'country': 'us', 'date_field': None}\n",
      "{'_id': ObjectId('66bf5cb4d0abae571ed66c89'), 'id': 'Q36023', 'first_name': 'John', 'last_name': 'Coolidge', 'birth_date': '1872-07-04', 'death_date': '1933-01-05', 'place_of_birth': 'Plymouth Notch', 'wikipedia_url': 'https://en.wikipedia.org/wiki/Calvin_Coolidge', 'start_mandate': '1923-08-02', 'end_mandate': '1929-03-04', 'country': 'us', 'date_field': None}\n",
      "{'_id': ObjectId('66bf5cb4d0abae571ed66c8a'), 'id': 'Q12978', 'first_name': 'Guy', 'last_name': 'Verhofstadt', 'birth_date': '1953-04-11', 'death_date': None, 'place_of_birth': 'Dendermonde', 'wikipedia_url': 'https://nl.wikipedia.org/wiki/Guy_Verhofstadt', 'start_mandate': '1999-07-12', 'end_mandate': '2008-03-20', 'country': 'be', 'date_field': None}\n",
      "{'_id': ObjectId('66bf5cb4d0abae571ed66c8b'), 'id': 'Q8007', 'first_name': 'Franklin', 'last_name': 'Roosevelt', 'birth_date': '1882-01-30', 'death_date': '1945-04-12', 'place_of_birth': 'Hyde Park', 'wikipedia_url': 'https://en.wikipedia.org/wiki/Franklin_D._Roosevelt', 'start_mandate': '1933-03-04', 'end_mandate': '1945-04-12', 'country': 'us', 'date_field': None}\n",
      "{'_id': ObjectId('66bf5cb4d0abae571ed66c8c'), 'id': 'Q12981', 'first_name': 'Yves', 'last_name': 'Leterme', 'birth_date': '1960-10-06', 'death_date': None, 'place_of_birth': 'Wervik', 'wikipedia_url': 'https://nl.wikipedia.org/wiki/Yves_Leterme', 'start_mandate': '2009-11-25', 'end_mandate': '2011-12-06', 'country': 'be', 'date_field': None}\n",
      "{'_id': ObjectId('66bf5cb4d0abae571ed66c8d'), 'id': 'Q12983', 'first_name': 'Herman', 'last_name': 'Van Rompaey', 'birth_date': '1947-10-31', 'death_date': None, 'place_of_birth': 'Etterbeek', 'wikipedia_url': 'https://nl.wikipedia.org/wiki/Herman_Van_Rompuy', 'start_mandate': '2008-12-30', 'end_mandate': '2009-11-25', 'country': 'be', 'date_field': None}\n",
      "{'_id': ObjectId('66bf5cb4d0abae571ed66c8e'), 'id': 'Q14989', 'first_name': 'Léon', 'last_name': 'Delacroix', 'birth_date': '1867-12-27', 'death_date': '1929-10-15', 'place_of_birth': 'Saint-Josse-ten-Noode', 'wikipedia_url': 'https://nl.wikipedia.org/wiki/L%C3%A9on_Delacroix', 'start_mandate': '1918-11-21', 'end_mandate': '1920-11-20', 'country': 'be', 'date_field': None}\n",
      "{'_id': ObjectId('66bf5cb4d0abae571ed66c8f'), 'id': 'Q14991', 'first_name': 'Georges', 'last_name': 'Theunis', 'birth_date': '1873-02-28', 'death_date': '1966-01-04', 'place_of_birth': 'Montegnée', 'wikipedia_url': 'https://nl.wikipedia.org/wiki/Georges_Theunis', 'start_mandate': '1934-11-20', 'end_mandate': '1935-03-25', 'country': 'be', 'date_field': None}\n",
      "{'_id': ObjectId('66bf5cb4d0abae571ed66c90'), 'id': 'Q14990', 'first_name': 'Henry', 'last_name': 'Carton', 'birth_date': '1869-01-31', 'death_date': '1951-05-06', 'place_of_birth': 'City of Brussels', 'wikipedia_url': 'https://nl.wikipedia.org/wiki/Henri_Carton_de_Wiart', 'start_mandate': '1920-11-20', 'end_mandate': '1921-12-16', 'country': 'be', 'date_field': None}\n",
      "{'_id': ObjectId('66bf5cb4d0abae571ed66c91'), 'id': 'Q14992', 'first_name': 'Aloïs', 'last_name': 'Van de Vyvere', 'birth_date': '1871-06-08', 'death_date': '1961-10-22', 'place_of_birth': 'Tielt', 'wikipedia_url': 'https://nl.wikipedia.org/wiki/Aloys_Van_de_Vyvere', 'start_mandate': '1925-05-13', 'end_mandate': '1925-06-17', 'country': 'be', 'date_field': None}\n",
      "{'_id': ObjectId('66bf5cb4d0abae571ed66c92'), 'id': 'Q14993', 'first_name': 'Prosper', 'last_name': 'Poullet', 'birth_date': '1868-03-05', 'death_date': '1937-12-03', 'place_of_birth': 'Leuven', 'wikipedia_url': 'https://nl.wikipedia.org/wiki/Prosper_Poullet', 'start_mandate': '1925-06-17', 'end_mandate': '1926-05-20', 'country': 'be', 'date_field': None}\n",
      "{'_id': ObjectId('66bf5cb4d0abae571ed66c93'), 'id': 'Q14994', 'first_name': 'Henri', 'last_name': 'Jaspar', 'birth_date': '1870-07-28', 'death_date': '1939-02-15', 'place_of_birth': 'Schaerbeek - Schaarbeek', 'wikipedia_url': 'https://nl.wikipedia.org/wiki/Henri_Jaspar', 'start_mandate': '1926-05-20', 'end_mandate': '1931-06-06', 'country': 'be', 'date_field': None}\n",
      "{'_id': ObjectId('66bf5cb4d0abae571ed66c95'), 'id': 'Q14996', 'first_name': 'Paul', 'last_name': 'Van Zeeland', 'birth_date': '1893-11-11', 'death_date': '1973-09-22', 'place_of_birth': 'Soignies', 'wikipedia_url': 'https://nl.wikipedia.org/wiki/Paul_van_Zeeland', 'start_mandate': '1935-03-25', 'end_mandate': '1937-11-24', 'country': 'be', 'date_field': None}\n",
      "{'_id': ObjectId('66bf5cb4d0abae571ed66c96'), 'id': 'Q14998', 'first_name': 'Camille', 'last_name': 'Huysmans', 'birth_date': '1871-05-26', 'death_date': '1968-02-25', 'place_of_birth': 'Bilzen', 'wikipedia_url': 'https://nl.wikipedia.org/wiki/Camille_Huysmans', 'start_mandate': '1946-08-03', 'end_mandate': '1947-03-20', 'country': 'be', 'date_field': None}\n",
      "{'_id': ObjectId('66bf5cb4d0abae571ed66c97'), 'id': 'Q9640', 'first_name': 'Lyndon', 'last_name': 'Johnson', 'birth_date': '1908-08-27', 'death_date': '1973-01-22', 'place_of_birth': 'Stonewall', 'wikipedia_url': 'https://en.wikipedia.org/wiki/Lyndon_B._Johnson', 'start_mandate': '1963-11-22', 'end_mandate': '1969-01-20', 'country': 'us', 'date_field': None}\n",
      "{'_id': ObjectId('66bf5cb4d0abae571ed66c98'), 'id': 'Q14997', 'first_name': 'Achille', 'last_name': 'Van Acker', 'birth_date': '1898-04-08', 'death_date': '1975-07-10', 'place_of_birth': 'Bruges', 'wikipedia_url': 'https://nl.wikipedia.org/wiki/Achiel_Van_Acker', 'start_mandate': '1954-04-23', 'end_mandate': '1958-06-26', 'country': 'be', 'date_field': None}\n",
      "{'_id': ObjectId('66bf5cb4d0abae571ed66c99'), 'id': 'Q23', 'first_name': 'George', 'last_name': 'Washington', 'birth_date': '1732-02-22', 'death_date': '1799-12-14', 'place_of_birth': 'Westmoreland County', 'wikipedia_url': 'https://en.wikipedia.org/wiki/George_Washington', 'start_mandate': '1789-04-30', 'end_mandate': '1797-03-04', 'country': 'us', 'date_field': None}\n",
      "{'_id': ObjectId('66bf5cb4d0abae571ed66c9a'), 'id': 'Q91', 'first_name': 'Abraham', 'last_name': 'Lincoln', 'birth_date': '1809-02-12', 'death_date': '1865-04-15', 'place_of_birth': 'Sinking Spring Farm', 'wikipedia_url': 'https://en.wikipedia.org/wiki/Abraham_Lincoln', 'start_mandate': '1861-03-04', 'end_mandate': '1865-04-15', 'country': 'us', 'date_field': None}\n",
      "{'_id': ObjectId('66bf5cb4d0abae571ed66c9b'), 'id': 'Q9696', 'first_name': 'John', 'last_name': 'Kennedy', 'birth_date': '1917-05-29', 'death_date': '1963-11-22', 'place_of_birth': 'Brookline', 'wikipedia_url': 'https://en.wikipedia.org/wiki/John_F._Kennedy', 'start_mandate': '1961-01-20', 'end_mandate': '1963-11-22', 'country': 'us', 'date_field': None}\n",
      "{'_id': ObjectId('66bf5cb4d0abae571ed66c9c'), 'id': 'Q15002', 'first_name': 'Leo', 'last_name': 'Tindemans', 'birth_date': '1922-04-16', 'death_date': '2014-12-26', 'place_of_birth': 'Zwijndrecht', 'wikipedia_url': 'https://nl.wikipedia.org/wiki/Leo_Tindemans', 'start_mandate': '1974-04-25', 'end_mandate': '1978-10-20', 'country': 'be', 'date_field': None}\n",
      "{'_id': ObjectId('66bf5cb4d0abae571ed66c9d'), 'id': 'Q143202', 'first_name': 'Pieter', 'last_name': 'Decker', 'birth_date': '1812-01-25', 'death_date': '1891-01-04', 'place_of_birth': 'Zele', 'wikipedia_url': 'https://nl.wikipedia.org/wiki/Pieter_de_Decker', 'start_mandate': '1855-03-30', 'end_mandate': '1857-11-09', 'country': 'be', 'date_field': None}\n",
      "{'_id': ObjectId('66bf5cb4d0abae571ed66c9e'), 'id': 'Q11613', 'first_name': 'Harry', 'last_name': 'Truman', 'birth_date': '1884-05-08', 'death_date': '1972-12-26', 'place_of_birth': 'Lamar', 'wikipedia_url': 'https://en.wikipedia.org/wiki/Harry_S._Truman', 'start_mandate': '1945-04-12', 'end_mandate': '1953-01-20', 'country': 'us', 'date_field': None}\n",
      "{'_id': ObjectId('66bf5cb4d0abae571ed66c9f'), 'id': 'Q9960', 'first_name': 'Ronald', 'last_name': 'Reagan', 'birth_date': '1911-02-06', 'death_date': '2004-06-05', 'place_of_birth': 'Tampico', 'wikipedia_url': 'https://en.wikipedia.org/wiki/Ronald_Reagan', 'start_mandate': '1981-01-20', 'end_mandate': '1989-01-20', 'country': 'us', 'date_field': None}\n",
      "{'_id': ObjectId('66bf5cb4d0abae571ed66ca0'), 'id': 'Q1124', 'first_name': 'Bill', 'last_name': 'Clinton', 'birth_date': '1946-08-19', 'death_date': None, 'place_of_birth': 'Hope', 'wikipedia_url': 'https://en.wikipedia.org/wiki/Bill_Clinton', 'start_mandate': '1993-01-20', 'end_mandate': '2001-01-20', 'country': 'us', 'date_field': None}\n",
      "{'_id': ObjectId('66bf5cb4d0abae571ed66ca1'), 'id': 'Q15056', 'first_name': 'Jean-Luc', 'last_name': 'Dehaene', 'birth_date': '1940-08-07', 'death_date': '2014-05-15', 'place_of_birth': 'Montpellier', 'wikipedia_url': 'https://nl.wikipedia.org/wiki/Jean-Luc_Dehaene', 'start_mandate': '1992-03-07', 'end_mandate': '1999-07-12', 'country': 'be', 'date_field': None}\n",
      "{'_id': ObjectId('66bf5cb4d0abae571ed66ca2'), 'id': 'Q15956', 'first_name': 'Frans', 'last_name': 'Schollaert', 'birth_date': '1851-08-19', 'death_date': '1917-06-29', 'place_of_birth': 'Wilsele', 'wikipedia_url': 'https://nl.wikipedia.org/wiki/Frans_Schollaert', 'start_mandate': '1908-01-09', 'end_mandate': '1911-06-17', 'country': 'be', 'date_field': None}\n",
      "{'_id': ObjectId('66bf5cb4d0abae571ed66ca3'), 'id': 'Q349477', 'first_name': 'Mark', 'last_name': 'Eyskens', 'birth_date': '1933-04-29', 'death_date': None, 'place_of_birth': 'Leuven', 'wikipedia_url': 'https://nl.wikipedia.org/wiki/Mark_Eyskens', 'start_mandate': '1981-04-06', 'end_mandate': '1981-12-17', 'country': 'be', 'date_field': None}\n",
      "{'_id': ObjectId('66bf5cb4d0abae571ed66ca4'), 'id': 'Q15048', 'first_name': 'Elio', 'last_name': 'Di Rupo', 'birth_date': '1951-07-18', 'death_date': None, 'place_of_birth': 'Morlanwelz', 'wikipedia_url': 'https://nl.wikipedia.org/wiki/Elio_Di_Rupo', 'start_mandate': '2011-12-06', 'end_mandate': '2014-10-11', 'country': 'be', 'date_field': None}\n",
      "{'_id': ObjectId('66bf5cb4d0abae571ed66ca6'), 'id': 'Q14999', 'first_name': 'Gaston', 'last_name': 'Eyskens', 'birth_date': '1905-04-01', 'death_date': '1988-01-03', 'place_of_birth': 'Lier', 'wikipedia_url': 'https://nl.wikipedia.org/wiki/Gaston_Eyskens', 'start_mandate': '1968-07-17', 'end_mandate': '1973-01-26', 'country': 'be', 'date_field': None}\n",
      "{'_id': ObjectId('66bf5cb4d0abae571ed66ca7'), 'id': 'Q569138', 'first_name': 'Jules', 'last_name': 'Burlet', 'birth_date': '1844-04-10', 'death_date': '1897-03-01', 'place_of_birth': 'Ixelles - Elsene', 'wikipedia_url': 'https://nl.wikipedia.org/wiki/Jules_de_Burlet', 'start_mandate': '1894-03-26', 'end_mandate': '1896-02-25', 'country': 'be', 'date_field': None}\n",
      "{'_id': ObjectId('66bf5cb4d0abae571ed66ca8'), 'id': 'Q442578', 'first_name': 'Hubert', 'last_name': 'Pierlot', 'birth_date': '1883-12-23', 'death_date': '1963-12-13', 'place_of_birth': 'Bertrix', 'wikipedia_url': 'https://nl.wikipedia.org/wiki/Hubert_Pierlot', 'start_mandate': '1939-02-22', 'end_mandate': '1945-02-12', 'country': 'be', 'date_field': None}\n",
      "{'_id': ObjectId('66bf5cb4d0abae571ed66ca9'), 'id': 'Q678535', 'first_name': 'Jules', 'last_name': 'Malou', 'birth_date': '1810-10-19', 'death_date': '1886-07-11', 'place_of_birth': 'Ypres', 'wikipedia_url': 'https://nl.wikipedia.org/wiki/Jules_Malou', 'start_mandate': '1884-06-16', 'end_mandate': '1884-10-26', 'country': 'be', 'date_field': None}\n",
      "{'_id': ObjectId('66bf5cb4d0abae571ed66caa'), 'id': 'Q363942', 'first_name': 'Pierre', 'last_name': 'Harmel', 'birth_date': '1911-03-16', 'death_date': '2009-11-15', 'place_of_birth': 'Uccle', 'wikipedia_url': 'https://nl.wikipedia.org/wiki/Pierre_Harmel', 'start_mandate': '1965-07-28', 'end_mandate': '1966-03-19', 'country': 'be', 'date_field': None}\n",
      "{'_id': ObjectId('66bf5cb4d0abae571ed66cab'), 'id': 'Q9916', 'first_name': 'Dwight', 'last_name': 'Eisenhower', 'birth_date': '1890-10-14', 'death_date': '1969-03-28', 'place_of_birth': 'Denison', 'wikipedia_url': 'https://en.wikipedia.org/wiki/Dwight_D._Eisenhower', 'start_mandate': '1953-01-20', 'end_mandate': '1961-01-20', 'country': 'us', 'date_field': None}\n",
      "{'_id': ObjectId('66bf5cb4d0abae571ed66cac'), 'id': 'Q705103', 'first_name': 'Charles', 'last_name': 'Broqueville', 'birth_date': '1860-12-04', 'death_date': '1940-09-05', 'place_of_birth': 'Postel', 'wikipedia_url': 'https://nl.wikipedia.org/wiki/Charles_de_Broqueville', 'start_mandate': '1932-10-22', 'end_mandate': '1934-11-20', 'country': 'be', 'date_field': None}\n",
      "{'_id': ObjectId('66bf5cb4d0abae571ed66cad'), 'id': 'Q705111', 'first_name': 'Joseph', 'last_name': 'Pholien', 'birth_date': '1884-12-28', 'death_date': '1968-01-04', 'place_of_birth': 'Liège', 'wikipedia_url': 'https://nl.wikipedia.org/wiki/Joseph_Pholien', 'start_mandate': '1950-08-16', 'end_mandate': '1952-01-15', 'country': 'be', 'date_field': None}\n",
      "{'_id': ObjectId('66bf5cb4d0abae571ed66cae'), 'id': 'Q721772', 'first_name': 'Jules', 'last_name': 'Vandenpeereboom', 'birth_date': '1843-03-18', 'death_date': '1917-03-06', 'place_of_birth': 'Kortrijk', 'wikipedia_url': 'https://nl.wikipedia.org/wiki/Jules_Vandenpeereboom', 'start_mandate': '1899-01-24', 'end_mandate': '1899-08-05', 'country': 'be', 'date_field': None}\n",
      "{'_id': ObjectId('66bf5cb4d0abae571ed66caf'), 'id': 'Q705791', 'first_name': 'Walthère', 'last_name': 'Frère', 'birth_date': '1812-04-22', 'death_date': '1896-01-02', 'place_of_birth': 'Liège', 'wikipedia_url': 'https://nl.wikipedia.org/wiki/Walth%C3%A8re_Fr%C3%A8re-Orban', 'start_mandate': '1878-06-19', 'end_mandate': '1884-06-16', 'country': 'be', 'date_field': None}\n",
      "{'_id': ObjectId('66bf5cb4d0abae571ed66cb0'), 'id': 'Q719483', 'first_name': 'Gérard', 'last_name': 'Cooreman', 'birth_date': '1852-03-25', 'death_date': '1926-12-02', 'place_of_birth': 'Ghent', 'wikipedia_url': 'https://nl.wikipedia.org/wiki/Gerard_Cooreman', 'start_mandate': '1918-06-01', 'end_mandate': '1918-11-21', 'country': 'be', 'date_field': None}\n",
      "{'_id': ObjectId('66bf5cb4d0abae571ed66cb1'), 'id': 'Q705128', 'first_name': 'Jean', 'last_name': 'Van Houtte', 'birth_date': '1907-03-17', 'death_date': '1991-05-23', 'place_of_birth': 'Ghent', 'wikipedia_url': 'https://nl.wikipedia.org/wiki/Jean_Van_Houtte', 'start_mandate': '1952-01-15', 'end_mandate': '1954-04-23', 'country': 'be', 'date_field': None}\n",
      "{'_id': ObjectId('66bf5cb4d0abae571ed66cb2'), 'id': 'Q721798', 'first_name': 'Jules', 'last_name': 'Trooz', 'birth_date': '1857-02-21', 'death_date': '1907-12-31', 'place_of_birth': 'Leuven', 'wikipedia_url': 'https://nl.wikipedia.org/wiki/Jules_de_Trooz', 'start_mandate': '1907-05-02', 'end_mandate': '1907-12-31', 'country': 'be', 'date_field': None}\n",
      "{'_id': ObjectId('66bf5cb4d0abae571ed66cb3'), 'id': 'Q721781', 'first_name': 'Paul', 'last_name': 'De Smet de Naeyer', 'birth_date': '1843-05-13', 'death_date': '1913-09-09', 'place_of_birth': 'Ghent', 'wikipedia_url': 'https://nl.wikipedia.org/wiki/Paul_de_Smet_de_Naeyer', 'start_mandate': '1899-08-05', 'end_mandate': '1907-05-02', 'country': 'be', 'date_field': None}\n",
      "{'_id': ObjectId('66bf5cb4d0abae571ed66cb4'), 'id': 'Q950958', 'first_name': 'Charles', 'last_name': 'Michel', 'birth_date': '1975-12-21', 'death_date': None, 'place_of_birth': 'Namur', 'wikipedia_url': 'https://nl.wikipedia.org/wiki/Charles_Michel', 'start_mandate': '2014-10-11', 'end_mandate': '2019-10-27', 'country': 'be', 'date_field': None}\n",
      "{'_id': ObjectId('66bf5cb4d0abae571ed66cb5'), 'id': 'Q725589', 'first_name': 'Jules', 'last_name': \"d'Anethan\", 'birth_date': '1803-04-23', 'death_date': '1888-10-08', 'place_of_birth': 'Brussels metropolitan area', 'wikipedia_url': 'https://nl.wikipedia.org/wiki/Jules_Joseph_d%27Anethan', 'start_mandate': '1870-07-02', 'end_mandate': '1871-12-07', 'country': 'be', 'date_field': None}\n",
      "{'_id': ObjectId('66bf5cb4d0abae571ed66cb6'), 'id': 'Q157', 'first_name': 'François', 'last_name': 'Hollande', 'birth_date': '1954-08-12', 'death_date': None, 'place_of_birth': 'Rouen', 'wikipedia_url': 'https://fr.wikipedia.org/wiki/Fran%C3%A7ois_Hollande', 'start_mandate': '2012-05-15', 'end_mandate': '2017-05-14', 'country': 'fr', 'date_field': None}\n",
      "{'_id': ObjectId('66bf5cb4d0abae571ed66cb7'), 'id': 'Q2038', 'first_name': 'François', 'last_name': 'Mitterrand', 'birth_date': '1916-10-26', 'death_date': '1996-01-08', 'place_of_birth': 'Jarnac', 'wikipedia_url': 'https://fr.wikipedia.org/wiki/Fran%C3%A7ois_Mitterrand', 'start_mandate': '1981-05-21', 'end_mandate': '1995-05-17', 'country': 'fr', 'date_field': None}\n",
      "{'_id': ObjectId('66bf5cb4d0abae571ed66cb8'), 'id': 'Q18434995', 'first_name': 'Sophie', 'last_name': 'Wilmès', 'birth_date': '1975-01-15', 'death_date': None, 'place_of_birth': 'Ixelles - Elsene', 'wikipedia_url': 'https://nl.wikipedia.org/wiki/Sophie_Wilm%C3%A8s', 'start_mandate': '2019-10-27', 'end_mandate': '2020-10-01', 'country': 'be', 'date_field': None}\n",
      "{'_id': ObjectId('66bf5cb4d0abae571ed66cb9'), 'id': 'Q2042', 'first_name': 'Charles', 'last_name': 'de Gaulle', 'birth_date': '1890-11-22', 'death_date': '1970-11-09', 'place_of_birth': 'Lille', 'wikipedia_url': 'https://fr.wikipedia.org/wiki/Charles_de_Gaulle', 'start_mandate': '1959-01-08', 'end_mandate': '1969-04-28', 'country': 'fr', 'date_field': None}\n",
      "{'_id': ObjectId('66bf5cb4d0abae571ed66cba'), 'id': 'Q329', 'first_name': 'Nicolas', 'last_name': 'Sarkozy', 'birth_date': '1955-01-28', 'death_date': None, 'place_of_birth': 'Paris', 'wikipedia_url': 'https://fr.wikipedia.org/wiki/Nicolas_Sarkozy', 'start_mandate': '2007-05-16', 'end_mandate': '2012-05-15', 'country': 'fr', 'date_field': None}\n",
      "{'_id': ObjectId('66bf5cb4d0abae571ed66cbb'), 'id': 'Q2105', 'first_name': 'Jacques', 'last_name': 'Chirac', 'birth_date': '1932-11-29', 'death_date': '2019-09-26', 'place_of_birth': '5th arrondissement of Paris', 'wikipedia_url': 'https://fr.wikipedia.org/wiki/Jacques_Chirac', 'start_mandate': '1995-05-17', 'end_mandate': '2007-05-16', 'country': 'fr', 'date_field': None}\n",
      "{'_id': ObjectId('66bf5cb4d0abae571ed66cbc'), 'id': 'Q155691', 'first_name': 'Paul-Henri', 'last_name': 'Spaak', 'birth_date': '1899-01-25', 'death_date': '1972-07-31', 'place_of_birth': 'Schaerbeek - Schaarbeek', 'wikipedia_url': 'https://nl.wikipedia.org/wiki/Paul-Henri_Spaak', 'start_mandate': '1947-03-20', 'end_mandate': '1949-08-11', 'country': 'be', 'date_field': None}\n",
      "{'_id': ObjectId('66bf5cb4d0abae571ed66cbe'), 'id': 'Q468104', 'first_name': 'Joseph', 'last_name': 'Lebeau', 'birth_date': '1794-01-03', 'death_date': '1865-03-19', 'place_of_birth': 'Huy', 'wikipedia_url': 'https://nl.wikipedia.org/wiki/Joseph_Lebeau', 'start_mandate': '1840-04-18', 'end_mandate': '1841-04-13', 'country': 'be', 'date_field': None}\n",
      "{'_id': ObjectId('66bf5cb4d0abae571ed66cbf'), 'id': 'Q6279', 'first_name': 'Joe', 'last_name': 'Biden', 'birth_date': '1942-11-20', 'death_date': None, 'place_of_birth': \"St. Mary's Hospital\", 'wikipedia_url': 'https://en.wikipedia.org/wiki/Joe_Biden', 'start_mandate': '2021-01-20', 'end_mandate': None, 'country': 'us', 'date_field': None}\n",
      "{'_id': ObjectId('66bf5cb4d0abae571ed66cc1'), 'id': 'Q2124', 'first_name': 'Valéry', 'last_name': \"Giscard d'Estaing\", 'birth_date': '1926-02-02', 'death_date': '2020-12-02', 'place_of_birth': 'Koblenz', 'wikipedia_url': 'https://fr.wikipedia.org/wiki/Val%C3%A9ry_Giscard_d%27Estaing', 'start_mandate': '1974-05-27', 'end_mandate': '1981-05-21', 'country': 'fr', 'date_field': None}\n",
      "{'_id': ObjectId('66bf5cb4d0abae571ed66cc2'), 'id': 'Q202049', 'first_name': 'Auguste', 'last_name': 'Beernaert', 'birth_date': '1829-07-26', 'death_date': '1912-10-06', 'place_of_birth': 'Ostend', 'wikipedia_url': 'https://nl.wikipedia.org/wiki/Auguste_Beernaert', 'start_mandate': '1884-10-26', 'end_mandate': '1894-03-26', 'country': 'be', 'date_field': None}\n",
      "{'_id': ObjectId('66bf5cb4d0abae571ed66cc3'), 'id': 'Q289570', 'first_name': 'Étienne', 'last_name': 'Gerlache', 'birth_date': '1785-12-26', 'death_date': '1871-02-10', 'place_of_birth': 'Château of Biourge', 'wikipedia_url': 'https://nl.wikipedia.org/wiki/Etienne_de_Gerlache', 'start_mandate': '1831-02-27', 'end_mandate': '1831-03-10', 'country': 'be', 'date_field': None}\n",
      "{'_id': ObjectId('66bf5cb4d0abae571ed66cc5'), 'id': 'Q468109', 'first_name': 'Charles', 'last_name': 'Rogier', 'birth_date': '1800-08-17', 'death_date': '1885-05-27', 'place_of_birth': 'Saint-Quentin', 'wikipedia_url': 'https://nl.wikipedia.org/wiki/Charles_Rogier', 'start_mandate': '1857-11-09', 'end_mandate': '1868-01-03', 'country': 'be', 'date_field': None}\n",
      "{'_id': ObjectId('66bf5cb4d0abae571ed66cc7'), 'id': 'Q221781', 'first_name': 'Théodore', 'last_name': 'Lefèvre', 'birth_date': '1914-01-17', 'death_date': '1973-09-18', 'place_of_birth': 'Ghent', 'wikipedia_url': 'https://nl.wikipedia.org/wiki/Th%C3%A9o_Lef%C3%A8vre', 'start_mandate': '1961-04-25', 'end_mandate': '1965-07-28', 'country': 'be', 'date_field': None}\n",
      "{'_id': ObjectId('66bf5cb4d0abae571ed66cc8'), 'id': 'Q527479', 'first_name': 'Henri', 'last_name': 'de Brouckère', 'birth_date': '1801-01-25', 'death_date': '1891-01-25', 'place_of_birth': 'Bruges', 'wikipedia_url': 'https://nl.wikipedia.org/wiki/Henri_de_Brouck%C3%A8re', 'start_mandate': '1852-10-31', 'end_mandate': '1855-03-30', 'country': 'be', 'date_field': None}\n",
      "{'_id': ObjectId('66bf5cb4d0abae571ed66cc9'), 'id': 'Q476596', 'first_name': 'Alexander', 'last_name': 'De Croo', 'birth_date': '1975-11-03', 'death_date': None, 'place_of_birth': 'Vilvoorde', 'wikipedia_url': 'https://nl.wikipedia.org/wiki/Alexander_De_Croo', 'start_mandate': '2020-10-01', 'end_mandate': None, 'country': 'be', 'date_field': None}\n",
      "{'_id': ObjectId('66bf5cb4d0abae571ed66ccb'), 'id': 'Q546727', 'first_name': 'Sylvain', 'last_name': 'Weyer', 'birth_date': '1802-01-19', 'death_date': '1874-05-23', 'place_of_birth': 'Leuven', 'wikipedia_url': 'https://nl.wikipedia.org/wiki/Sylvain_Van_de_Weyer', 'start_mandate': '1845-07-30', 'end_mandate': '1846-03-31', 'country': 'be', 'date_field': None}\n",
      "{'_id': ObjectId('66bf5cb4d0abae571ed66ccc'), 'id': 'Q313809', 'first_name': 'Wilfried', 'last_name': 'Martens', 'birth_date': '1936-04-19', 'death_date': '2013-10-09', 'place_of_birth': 'Sleidinge', 'wikipedia_url': 'https://nl.wikipedia.org/wiki/Wilfried_Martens', 'start_mandate': '1981-12-17', 'end_mandate': '1992-03-07', 'country': 'be', 'date_field': None}\n",
      "{'_id': ObjectId('66bf5cb4d0abae571ed66ccd'), 'id': 'Q2185', 'first_name': 'Georges', 'last_name': 'Pompidou', 'birth_date': '1911-07-05', 'death_date': '1974-04-02', 'place_of_birth': 'Montboudif', 'wikipedia_url': 'https://fr.wikipedia.org/wiki/Georges_Pompidou', 'start_mandate': '1969-06-20', 'end_mandate': '1974-04-02', 'country': 'fr', 'date_field': None}\n",
      "{'_id': ObjectId('66bf5cb4d0abae571ed66ccf'), 'id': 'Q5738', 'first_name': 'Adolphe', 'last_name': 'Thiers', 'birth_date': '1797-04-15', 'death_date': '1877-09-03', 'place_of_birth': 'Marseille', 'wikipedia_url': 'https://fr.wikipedia.org/wiki/Adolphe_Thiers', 'start_mandate': '1871-08-31', 'end_mandate': '1873-05-24', 'country': 'fr', 'date_field': None}\n",
      "{'_id': ObjectId('66bf5cb4d0abae571ed66cd0'), 'id': 'Q446472', 'first_name': 'Jean-Baptiste', 'last_name': 'Nothomb', 'birth_date': '1805-07-03', 'death_date': '1881-09-16', 'place_of_birth': 'Messancy', 'wikipedia_url': 'https://nl.wikipedia.org/wiki/Jean-Baptiste_Nothomb', 'start_mandate': '1841-04-13', 'end_mandate': '1845-07-30', 'country': 'be', 'date_field': None}\n",
      "{'_id': ObjectId('66bf5cb4d0abae571ed66cd1'), 'id': 'Q12680', 'first_name': 'Paul', 'last_name': 'Doumer', 'birth_date': '1857-03-22', 'death_date': '1932-05-07', 'place_of_birth': 'Aurillac', 'wikipedia_url': 'https://fr.wikipedia.org/wiki/Paul_Doumer', 'start_mandate': '1931-06-13', 'end_mandate': '1932-05-07', 'country': 'fr', 'date_field': None}\n",
      "{'_id': ObjectId('66bf5cb4d0abae571ed66cd2'), 'id': 'Q158749', 'first_name': 'Albert', 'last_name': 'Lebrun', 'birth_date': '1871-08-29', 'death_date': '1950-03-06', 'place_of_birth': 'Mercy-le-Haut', 'wikipedia_url': 'https://fr.wikipedia.org/wiki/Albert_Lebrun', 'start_mandate': '1932-05-10', 'end_mandate': '1940-07-11', 'country': 'fr', 'date_field': None}\n",
      "{'_id': ObjectId('66bf5cb4d0abae571ed66cd3'), 'id': 'Q158768', 'first_name': 'René', 'last_name': 'Coty', 'birth_date': '1882-03-20', 'death_date': '1962-11-22', 'place_of_birth': 'Le Havre', 'wikipedia_url': 'https://fr.wikipedia.org/wiki/Ren%C3%A9_Coty', 'start_mandate': '1954-01-16', 'end_mandate': '1959-01-08', 'country': 'fr', 'date_field': None}\n",
      "{'_id': ObjectId('66bf5cb4d0abae571ed66cd4'), 'id': 'Q12950', 'first_name': 'Alain', 'last_name': 'Poher', 'birth_date': '1909-04-17', 'death_date': '1996-12-09', 'place_of_birth': 'Ablon-sur-Seine', 'wikipedia_url': 'https://fr.wikipedia.org/wiki/Alain_Poher', 'start_mandate': '1969-04-28', 'end_mandate': '1969-06-20', 'country': 'fr', 'date_field': None}\n",
      "{'_id': ObjectId('66bf5cb4d0abae571ed66cd5'), 'id': 'Q158772', 'first_name': 'Vincent', 'last_name': 'Auriol', 'birth_date': '1884-08-27', 'death_date': '1966-01-01', 'place_of_birth': 'Revel', 'wikipedia_url': 'https://fr.wikipedia.org/wiki/Vincent_Auriol', 'start_mandate': '1947-01-16', 'end_mandate': '1954-01-16', 'country': 'fr', 'date_field': None}\n",
      "{'_id': ObjectId('66bf5cb4d0abae571ed66cd6'), 'id': 'Q158838', 'first_name': 'Patrice', 'last_name': 'de Mac Mahon', 'birth_date': '1808-06-13', 'death_date': '1893-10-17', 'place_of_birth': 'Sully', 'wikipedia_url': 'https://fr.wikipedia.org/wiki/Patrice_de_Mac_Mahon', 'start_mandate': '1873-05-24', 'end_mandate': '1879-01-30', 'country': 'fr', 'date_field': None}\n",
      "{'_id': ObjectId('66bf5cb4d0abae571ed66cd7'), 'id': 'Q191974', 'first_name': 'Raymond', 'last_name': 'Poincaré', 'birth_date': '1860-08-20', 'death_date': '1934-10-15', 'place_of_birth': 'Bar-le-Duc', 'wikipedia_url': 'https://fr.wikipedia.org/wiki/Raymond_Poincar%C3%A9', 'start_mandate': '1913-02-18', 'end_mandate': '1920-02-18', 'country': 'fr', 'date_field': None}\n",
      "{'_id': ObjectId('66bf5cb4d0abae571ed66cd8'), 'id': 'Q296064', 'first_name': 'Gaston', 'last_name': 'Doumergue', 'birth_date': '1863-08-01', 'death_date': '1937-06-18', 'place_of_birth': 'Aigues-Vives', 'wikipedia_url': 'https://fr.wikipedia.org/wiki/Gaston_Doumergue', 'start_mandate': '1924-06-13', 'end_mandate': '1931-06-13', 'country': 'fr', 'date_field': None}\n",
      "{'_id': ObjectId('66bf5cb4d0abae571ed66cd9'), 'id': 'Q169502', 'first_name': 'Émile', 'last_name': 'Loubet', 'birth_date': '1838-12-31', 'death_date': '1929-12-20', 'place_of_birth': 'Marsanne', 'wikipedia_url': 'https://fr.wikipedia.org/wiki/%C3%89mile_Loubet', 'start_mandate': '1899-02-18', 'end_mandate': '1906-02-18', 'country': 'fr', 'date_field': None}\n",
      "{'_id': ObjectId('66bf5cb4d0abae571ed66cda'), 'id': 'Q215778', 'first_name': 'Marie', 'last_name': 'Carnot', 'birth_date': '1837-08-11', 'death_date': '1894-06-25', 'place_of_birth': 'Limoges', 'wikipedia_url': 'https://fr.wikipedia.org/wiki/Sadi_Carnot_(homme_d%27%C3%89tat)', 'start_mandate': '1887-12-03', 'end_mandate': '1894-06-25', 'country': 'fr', 'date_field': None}\n",
      "{'_id': ObjectId('66bf5cb4d0abae571ed66cdb'), 'id': 'Q274540', 'first_name': 'Alexandre', 'last_name': 'Millerand', 'birth_date': '1859-02-10', 'death_date': '1943-04-06', 'place_of_birth': 'Paris', 'wikipedia_url': 'https://fr.wikipedia.org/wiki/Alexandre_Millerand', 'start_mandate': '1920-09-23', 'end_mandate': '1924-06-11', 'country': 'fr', 'date_field': None}\n",
      "{'_id': ObjectId('66bf5cb4d0abae571ed66cdc'), 'id': 'Q296083', 'first_name': 'Jules', 'last_name': 'Grévy', 'birth_date': '1807-08-15', 'death_date': '1891-09-09', 'place_of_birth': 'Mont-sous-Vaudrey', 'wikipedia_url': 'https://fr.wikipedia.org/wiki/Jules_Gr%C3%A9vy', 'start_mandate': '1879-01-30', 'end_mandate': '1887-12-02', 'country': 'fr', 'date_field': None}\n",
      "{'_id': ObjectId('66bf5cb4d0abae571ed66cdd'), 'id': 'Q296076', 'first_name': 'Félix', 'last_name': 'Faure', 'birth_date': '1841-01-30', 'death_date': '1899-02-16', 'place_of_birth': 'Paris', 'wikipedia_url': 'https://fr.wikipedia.org/wiki/F%C3%A9lix_Faure', 'start_mandate': '1895-01-17', 'end_mandate': '1899-02-16', 'country': 'fr', 'date_field': None}\n",
      "{'_id': ObjectId('66bf5cb4d0abae571ed66cde'), 'id': 'Q312026', 'first_name': 'Georges', 'last_name': 'Bidault', 'birth_date': '1899-10-05', 'death_date': '1983-01-27', 'place_of_birth': 'Moulins', 'wikipedia_url': 'https://fr.wikipedia.org/wiki/Georges_Bidault', 'start_mandate': '1946-06-24', 'end_mandate': '1946-10-14', 'country': 'fr', 'date_field': None}\n",
      "{'_id': ObjectId('66bf5cb4d0abae571ed66cdf'), 'id': 'Q309995', 'first_name': 'Paul', 'last_name': 'Deschanel', 'birth_date': '1855-02-13', 'death_date': '1922-04-28', 'place_of_birth': 'Schaerbeek - Schaarbeek', 'wikipedia_url': 'https://fr.wikipedia.org/wiki/Paul_Deschanel', 'start_mandate': '1920-02-18', 'end_mandate': '1920-09-21', 'country': 'fr', 'date_field': None}\n",
      "{'_id': ObjectId('66bf5cb4d0abae571ed66ce0'), 'id': 'Q315656', 'first_name': 'Jean', 'last_name': 'Casimir-Perier', 'birth_date': '1847-11-08', 'death_date': '1907-03-11', 'place_of_birth': 'Paris', 'wikipedia_url': 'https://fr.wikipedia.org/wiki/Jean_Casimir-Perier', 'start_mandate': '1894-06-27', 'end_mandate': '1895-01-16', 'country': 'fr', 'date_field': None}\n",
      "{'_id': ObjectId('66bf5cb4d0abae571ed66ce1'), 'id': 'Q296673', 'first_name': 'Clément', 'last_name': 'Fallières', 'birth_date': '1841-11-06', 'death_date': '1931-06-22', 'place_of_birth': 'Mézin', 'wikipedia_url': 'https://fr.wikipedia.org/wiki/Armand_Falli%C3%A8res', 'start_mandate': '1906-02-18', 'end_mandate': '1913-02-18', 'country': 'fr', 'date_field': None}\n",
      "{'_id': ObjectId('66bf5cb4d0abae571ed66ce2'), 'id': 'Q7721', 'first_name': 'Napoléon', 'last_name': 'Bonaparte', 'birth_date': '1808-04-20', 'death_date': '1873-01-09', 'place_of_birth': 'Paris', 'wikipedia_url': 'https://fr.wikipedia.org/wiki/Napol%C3%A9on_III', 'start_mandate': '1848-12-20', 'end_mandate': '1852-12-02', 'country': 'fr', 'date_field': None}\n",
      "{'_id': ObjectId('66bf5cb4d0abae571ed66ce3'), 'id': 'Q356032', 'first_name': 'Charles', 'last_name': 'Dupuy', 'birth_date': '1851-11-05', 'death_date': '1923-07-23', 'place_of_birth': 'Le Puy-en-Velay', 'wikipedia_url': 'https://fr.wikipedia.org/wiki/Charles_Dupuy', 'start_mandate': '1894-06-25', 'end_mandate': '1894-06-27', 'country': 'fr', 'date_field': None}\n",
      "{'_id': ObjectId('66bf5cb4d0abae571ed66ce5'), 'id': 'Q379702', 'first_name': 'Louis', 'last_name': 'Cavaignac', 'birth_date': '1802-10-15', 'death_date': '1857-10-28', 'place_of_birth': 'Paris', 'wikipedia_url': 'https://fr.wikipedia.org/wiki/Eug%C3%A8ne_Cavaignac', 'start_mandate': '1848-06-28', 'end_mandate': '1848-12-20', 'country': 'fr', 'date_field': None}\n",
      "{'_id': ObjectId('66bf5cb4d0abae571ed66ce7'), 'id': 'Q3052772', 'first_name': 'Emmanuel', 'last_name': 'Macron', 'birth_date': '1977-12-21', 'death_date': None, 'place_of_birth': 'Amiens', 'wikipedia_url': 'https://fr.wikipedia.org/wiki/Emmanuel_Macron', 'start_mandate': '2017-05-14', 'end_mandate': None, 'country': 'fr', 'date_field': None}\n",
      "{'_id': ObjectId('66bf5cd6222217814ec9b5ad'), 'id': 'Q23', 'first_name': 'George', 'last_name': 'Washington', 'birth_date': '1732-02-22', 'death_date': '1799-12-14', 'place_of_birth': 'Westmoreland County', 'wikipedia_url': 'https://en.wikipedia.org/wiki/George_Washington', 'start_mandate': '1789-04-30', 'end_mandate': '1797-03-04', 'country': 'us', 'date_field': None}\n",
      "{'_id': ObjectId('66bf5cd6222217814ec9b5af'), 'id': 'Q23530', 'first_name': 'Dmitry', 'last_name': 'Medvedev', 'birth_date': '1965-09-14', 'death_date': None, 'place_of_birth': 'Saint Petersburg', 'wikipedia_url': 'https://ru.wikipedia.org/wiki/%D0%9C%D0%B5%D0%B4%D0%B2%D0%B5%D0%B4%D0%B5%D0%B2,_%D0%94%D0%BC%D0%B8%D1%82%D1%80%D0%B8%D0%B9_%D0%90%D0%BD%D0%B0%D1%82%D0%BE%D0%BB%D1%8C%D0%B5%D0%B2%D0%B8%D1%87', 'start_mandate': '2008-05-07', 'end_mandate': '2012-05-07', 'country': 'ru', 'date_field': None}\n",
      "{'_id': ObjectId('66bf5cd6222217814ec9b5b0'), 'id': 'Q91', 'first_name': 'Abraham', 'last_name': 'Lincoln', 'birth_date': '1809-02-12', 'death_date': '1865-04-15', 'place_of_birth': 'Sinking Spring Farm', 'wikipedia_url': 'https://en.wikipedia.org/wiki/Abraham_Lincoln', 'start_mandate': '1861-03-04', 'end_mandate': '1865-04-15', 'country': 'us', 'date_field': None}\n",
      "{'_id': ObjectId('66bf5cd6222217814ec9b5b1'), 'id': 'Q76', 'first_name': 'Barack', 'last_name': 'Obama', 'birth_date': '1961-08-04', 'death_date': None, 'place_of_birth': 'Kapiolani Medical Center for Women and Children', 'wikipedia_url': 'https://en.wikipedia.org/wiki/Barack_Obama', 'start_mandate': '2009-01-20', 'end_mandate': '2017-01-20', 'country': 'us', 'date_field': None}\n",
      "{'_id': ObjectId('66bf5cd6222217814ec9b5b2'), 'id': 'Q207', 'first_name': 'George', 'last_name': 'Bush', 'birth_date': '1946-07-06', 'death_date': None, 'place_of_birth': 'New Haven', 'wikipedia_url': 'https://en.wikipedia.org/wiki/George_W._Bush', 'start_mandate': '2001-01-20', 'end_mandate': '2009-01-20', 'country': 'us', 'date_field': None}\n",
      "{'_id': ObjectId('66bf5cd6222217814ec9b5b3'), 'id': 'Q1124', 'first_name': 'Bill', 'last_name': 'Clinton', 'birth_date': '1946-08-19', 'death_date': None, 'place_of_birth': 'Hope', 'wikipedia_url': 'https://en.wikipedia.org/wiki/Bill_Clinton', 'start_mandate': '1993-01-20', 'end_mandate': '2001-01-20', 'country': 'us', 'date_field': None}\n",
      "{'_id': ObjectId('66bf5cd6222217814ec9b5b4'), 'id': 'Q9582', 'first_name': 'Gerald', 'last_name': 'Ford', 'birth_date': '1913-07-14', 'death_date': '2006-12-26', 'place_of_birth': 'Omaha', 'wikipedia_url': 'https://en.wikipedia.org/wiki/Gerald_Ford', 'start_mandate': '1974-08-09', 'end_mandate': '1977-01-20', 'country': 'us', 'date_field': None}\n",
      "{'_id': ObjectId('66bf5cd6222217814ec9b5b5'), 'id': 'Q8612', 'first_name': 'Andrew', 'last_name': 'Johnson', 'birth_date': '1808-12-29', 'death_date': '1875-07-31', 'place_of_birth': 'Raleigh', 'wikipedia_url': 'https://en.wikipedia.org/wiki/Andrew_Johnson', 'start_mandate': '1865-04-15', 'end_mandate': '1869-03-04', 'country': 'us', 'date_field': None}\n",
      "{'_id': ObjectId('66bf5cd6222217814ec9b5b6'), 'id': 'Q6279', 'first_name': 'Joe', 'last_name': 'Biden', 'birth_date': '1942-11-20', 'death_date': None, 'place_of_birth': \"St. Mary's Hospital\", 'wikipedia_url': 'https://en.wikipedia.org/wiki/Joe_Biden', 'start_mandate': '2021-01-20', 'end_mandate': None, 'country': 'us', 'date_field': None}\n",
      "{'_id': ObjectId('66bf5cd6222217814ec9b5b7'), 'id': 'Q9588', 'first_name': 'Richard', 'last_name': 'Nixon', 'birth_date': '1913-01-09', 'death_date': '1994-04-22', 'place_of_birth': 'Yorba Linda', 'wikipedia_url': 'https://en.wikipedia.org/wiki/Richard_Nixon', 'start_mandate': '1969-01-20', 'end_mandate': '1974-08-09', 'country': 'us', 'date_field': None}\n",
      "{'_id': ObjectId('66bf5cd6222217814ec9b5b8'), 'id': 'Q8007', 'first_name': 'Franklin', 'last_name': 'Roosevelt', 'birth_date': '1882-01-30', 'death_date': '1945-04-12', 'place_of_birth': 'Hyde Park', 'wikipedia_url': 'https://en.wikipedia.org/wiki/Franklin_D._Roosevelt', 'start_mandate': '1933-03-04', 'end_mandate': '1945-04-12', 'country': 'us', 'date_field': None}\n",
      "{'_id': ObjectId('66bf5cd6222217814ec9b5b9'), 'id': 'Q9916', 'first_name': 'Dwight', 'last_name': 'Eisenhower', 'birth_date': '1890-10-14', 'death_date': '1969-03-28', 'place_of_birth': 'Denison', 'wikipedia_url': 'https://en.wikipedia.org/wiki/Dwight_D._Eisenhower', 'start_mandate': '1953-01-20', 'end_mandate': '1961-01-20', 'country': 'us', 'date_field': None}\n",
      "{'_id': ObjectId('66bf5cd6222217814ec9b5ba'), 'id': 'Q9640', 'first_name': 'Lyndon', 'last_name': 'Johnson', 'birth_date': '1908-08-27', 'death_date': '1973-01-22', 'place_of_birth': 'Stonewall', 'wikipedia_url': 'https://en.wikipedia.org/wiki/Lyndon_B._Johnson', 'start_mandate': '1963-11-22', 'end_mandate': '1969-01-20', 'country': 'us', 'date_field': None}\n",
      "{'_id': ObjectId('66bf5cd6222217814ec9b5bb'), 'id': 'Q9960', 'first_name': 'Ronald', 'last_name': 'Reagan', 'birth_date': '1911-02-06', 'death_date': '2004-06-05', 'place_of_birth': 'Tampico', 'wikipedia_url': 'https://en.wikipedia.org/wiki/Ronald_Reagan', 'start_mandate': '1981-01-20', 'end_mandate': '1989-01-20', 'country': 'us', 'date_field': None}\n",
      "{'_id': ObjectId('66bf5cd6222217814ec9b5bc'), 'id': 'Q11613', 'first_name': 'Harry', 'last_name': 'Truman', 'birth_date': '1884-05-08', 'death_date': '1972-12-26', 'place_of_birth': 'Lamar', 'wikipedia_url': 'https://en.wikipedia.org/wiki/Harry_S._Truman', 'start_mandate': '1945-04-12', 'end_mandate': '1953-01-20', 'country': 'us', 'date_field': None}\n",
      "{'_id': ObjectId('66bf5cd6222217814ec9b5bd'), 'id': 'Q9696', 'first_name': 'John', 'last_name': 'Kennedy', 'birth_date': '1917-05-29', 'death_date': '1963-11-22', 'place_of_birth': 'Brookline', 'wikipedia_url': 'https://en.wikipedia.org/wiki/John_F._Kennedy', 'start_mandate': '1961-01-20', 'end_mandate': '1963-11-22', 'country': 'us', 'date_field': None}\n",
      "{'_id': ObjectId('66bf5cd6222217814ec9b5be'), 'id': 'Q11806', 'first_name': 'John', 'last_name': 'Adams', 'birth_date': None, 'death_date': '1826-07-04', 'place_of_birth': 'Braintree', 'wikipedia_url': 'https://en.wikipedia.org/wiki/John_Adams', 'start_mandate': '1797-03-04', 'end_mandate': '1801-03-04', 'country': 'us', 'date_field': None}\n",
      "{'_id': ObjectId('66bf5cd6222217814ec9b5bf'), 'id': 'Q11813', 'first_name': 'James', 'last_name': 'Madison', 'birth_date': '1751-03-16', 'death_date': '1836-06-28', 'place_of_birth': 'Port Conway', 'wikipedia_url': 'https://en.wikipedia.org/wiki/James_Madison', 'start_mandate': '1809-03-04', 'end_mandate': '1817-03-04', 'country': 'us', 'date_field': None}\n",
      "{'_id': ObjectId('66bf5cd6222217814ec9b5c0'), 'id': 'Q7747', 'first_name': 'Vladimir', 'last_name': 'Putin', 'birth_date': '1952-10-07', 'death_date': None, 'place_of_birth': 'Saint Petersburg', 'wikipedia_url': 'https://ru.wikipedia.org/wiki/%D0%9F%D1%83%D1%82%D0%B8%D0%BD,_%D0%92%D0%BB%D0%B0%D0%B4%D0%B8%D0%BC%D0%B8%D1%80_%D0%92%D0%BB%D0%B0%D0%B4%D0%B8%D0%BC%D0%B8%D1%80%D0%BE%D0%B2%D0%B8%D1%87', 'start_mandate': '2000-05-07', 'end_mandate': '2008-05-07', 'country': 'ru', 'date_field': None}\n",
      "{'_id': ObjectId('66bf5cd6222217814ec9b5c1'), 'id': 'Q11816', 'first_name': 'John', 'last_name': 'Adams', 'birth_date': '1767-07-11', 'death_date': '1848-02-23', 'place_of_birth': 'Braintree', 'wikipedia_url': 'https://en.wikipedia.org/wiki/John_Quincy_Adams', 'start_mandate': '1825-03-04', 'end_mandate': '1829-03-04', 'country': 'us', 'date_field': None}\n",
      "{'_id': ObjectId('66bf5cd6222217814ec9b5c2'), 'id': 'Q11815', 'first_name': 'James', 'last_name': 'Monroe', 'birth_date': '1758-04-28', 'death_date': '1831-07-04', 'place_of_birth': 'Monroe Hall', 'wikipedia_url': 'https://en.wikipedia.org/wiki/James_Monroe', 'start_mandate': '1817-03-04', 'end_mandate': '1825-03-04', 'country': 'us', 'date_field': None}\n",
      "{'_id': ObjectId('66bf5cd6222217814ec9b5c3'), 'id': 'Q11812', 'first_name': 'Thomas', 'last_name': 'Jefferson', 'birth_date': None, 'death_date': '1826-07-04', 'place_of_birth': 'Shadwell', 'wikipedia_url': 'https://en.wikipedia.org/wiki/Thomas_Jefferson', 'start_mandate': '1801-03-04', 'end_mandate': '1809-03-04', 'country': 'us', 'date_field': None}\n",
      "{'_id': ObjectId('66bf5cd6222217814ec9b5c4'), 'id': 'Q11817', 'first_name': 'Andrew', 'last_name': 'Jackson', 'birth_date': '1767-03-15', 'death_date': '1845-06-08', 'place_of_birth': 'Waxhaws', 'wikipedia_url': 'https://en.wikipedia.org/wiki/Andrew_Jackson', 'start_mandate': '1829-03-04', 'end_mandate': '1837-03-04', 'country': 'us', 'date_field': None}\n",
      "{'_id': ObjectId('66bf5cd6222217814ec9b5c5'), 'id': 'Q11869', 'first_name': 'William', 'last_name': 'Harrison', 'birth_date': '1773-02-09', 'death_date': '1841-04-04', 'place_of_birth': 'Charles City County', 'wikipedia_url': 'https://en.wikipedia.org/wiki/William_Henry_Harrison', 'start_mandate': '1841-03-04', 'end_mandate': '1841-04-04', 'country': 'us', 'date_field': None}\n",
      "{'_id': ObjectId('66bf5cd6222217814ec9b5c6'), 'id': 'Q11820', 'first_name': 'Martin', 'last_name': 'Van Buren', 'birth_date': '1782-12-05', 'death_date': '1862-07-24', 'place_of_birth': 'Kinderhook', 'wikipedia_url': 'https://en.wikipedia.org/wiki/Martin_Van_Buren', 'start_mandate': '1837-03-04', 'end_mandate': '1841-03-04', 'country': 'us', 'date_field': None}\n",
      "{'_id': ObjectId('66bf5cd6222217814ec9b5c7'), 'id': 'Q11896', 'first_name': 'Zachary', 'last_name': 'Taylor', 'birth_date': '1784-11-24', 'death_date': '1850-07-09', 'place_of_birth': 'Barboursville', 'wikipedia_url': 'https://en.wikipedia.org/wiki/Zachary_Taylor', 'start_mandate': '1849-03-04', 'end_mandate': '1850-07-09', 'country': 'us', 'date_field': None}\n",
      "{'_id': ObjectId('66bf5cd6222217814ec9b5c8'), 'id': 'Q11881', 'first_name': 'John', 'last_name': 'Tyler', 'birth_date': '1790-03-29', 'death_date': '1862-01-18', 'place_of_birth': 'Charles City County', 'wikipedia_url': 'https://en.wikipedia.org/wiki/John_Tyler', 'start_mandate': '1841-04-04', 'end_mandate': '1845-03-04', 'country': 'us', 'date_field': None}\n",
      "{'_id': ObjectId('66bf5cd6222217814ec9b5c9'), 'id': 'Q12306', 'first_name': 'Millard', 'last_name': 'Fillmore', 'birth_date': '1800-01-07', 'death_date': '1874-03-08', 'place_of_birth': 'Summerhill', 'wikipedia_url': 'https://en.wikipedia.org/wiki/Millard_Fillmore', 'start_mandate': '1850-07-09', 'end_mandate': '1853-03-04', 'country': 'us', 'date_field': None}\n",
      "{'_id': ObjectId('66bf5cd6222217814ec9b5ca'), 'id': 'Q11891', 'first_name': 'James', 'last_name': 'Polk', 'birth_date': '1795-11-02', 'death_date': '1849-06-15', 'place_of_birth': 'Pineville', 'wikipedia_url': 'https://en.wikipedia.org/wiki/James_K._Polk', 'start_mandate': '1845-03-04', 'end_mandate': '1849-03-04', 'country': 'us', 'date_field': None}\n",
      "{'_id': ObjectId('66bf5cd6222217814ec9b5cb'), 'id': 'Q23505', 'first_name': 'George', 'last_name': 'Bush', 'birth_date': '1924-06-12', 'death_date': '2018-11-30', 'place_of_birth': 'Milton', 'wikipedia_url': 'https://en.wikipedia.org/wiki/George_H._W._Bush', 'start_mandate': '1989-01-20', 'end_mandate': '1993-01-20', 'country': 'us', 'date_field': None}\n",
      "{'_id': ObjectId('66bf5cd6222217814ec9b5cc'), 'id': 'Q12312', 'first_name': 'Franklin', 'last_name': 'Pierce', 'birth_date': '1804-11-23', 'death_date': '1869-10-08', 'place_of_birth': 'Hillsborough', 'wikipedia_url': 'https://en.wikipedia.org/wiki/Franklin_Pierce', 'start_mandate': '1853-03-04', 'end_mandate': '1857-03-04', 'country': 'us', 'date_field': None}\n",
      "{'_id': ObjectId('66bf5cd6222217814ec9b5cd'), 'id': 'Q22686', 'first_name': 'Donald', 'last_name': 'Trump', 'birth_date': '1946-06-14', 'death_date': None, 'place_of_birth': 'Jamaica Hospital Medical Center', 'wikipedia_url': 'https://en.wikipedia.org/wiki/Donald_Trump', 'start_mandate': '2017-01-20', 'end_mandate': '2021-01-20', 'country': 'us', 'date_field': None}\n",
      "{'_id': ObjectId('66bf5cd6222217814ec9b5ce'), 'id': 'Q12325', 'first_name': 'James', 'last_name': 'Buchanan', 'birth_date': '1791-04-23', 'death_date': '1868-06-01', 'place_of_birth': 'Stony Batter', 'wikipedia_url': 'https://en.wikipedia.org/wiki/James_Buchanan', 'start_mandate': '1857-03-04', 'end_mandate': '1861-03-04', 'country': 'us', 'date_field': None}\n",
      "{'_id': ObjectId('66bf5cd6222217814ec9b5cf'), 'id': 'Q23685', 'first_name': 'Jimmy', 'last_name': 'Carter', 'birth_date': '1924-10-01', 'death_date': None, 'place_of_birth': 'Lillian G. Carter Nursing Center', 'wikipedia_url': 'https://en.wikipedia.org/wiki/Jimmy_Carter', 'start_mandate': '1977-01-20', 'end_mandate': '1981-01-20', 'country': 'us', 'date_field': None}\n",
      "{'_id': ObjectId('66bf5cd6222217814ec9b5d0'), 'id': 'Q34296', 'first_name': 'Woodrow', 'last_name': 'Wilson', 'birth_date': '1856-12-28', 'death_date': '1924-02-03', 'place_of_birth': 'Staunton', 'wikipedia_url': 'https://en.wikipedia.org/wiki/Woodrow_Wilson', 'start_mandate': '1913-03-04', 'end_mandate': '1921-03-04', 'country': 'us', 'date_field': None}\n",
      "{'_id': ObjectId('66bf5cd6222217814ec9b5d1'), 'id': 'Q33866', 'first_name': 'Theodore', 'last_name': 'Roosevelt', 'birth_date': '1858-10-27', 'death_date': '1919-01-06', 'place_of_birth': 'Manhattan', 'wikipedia_url': 'https://en.wikipedia.org/wiki/Theodore_Roosevelt', 'start_mandate': '1901-09-14', 'end_mandate': '1909-03-04', 'country': 'us', 'date_field': None}\n",
      "{'_id': ObjectId('66bf5cd6222217814ec9b5d2'), 'id': 'Q34597', 'first_name': 'James', 'last_name': 'Garfield', 'birth_date': '1831-11-19', 'death_date': '1881-09-19', 'place_of_birth': 'Moreland Hills', 'wikipedia_url': 'https://en.wikipedia.org/wiki/James_A._Garfield', 'start_mandate': '1881-03-04', 'end_mandate': '1881-09-19', 'country': 'us', 'date_field': None}\n",
      "{'_id': ObjectId('66bf5cd6222217814ec9b5d3'), 'id': 'Q35041', 'first_name': 'William', 'last_name': 'McKinley', 'birth_date': '1843-01-29', 'death_date': '1901-09-14', 'place_of_birth': 'Niles', 'wikipedia_url': 'https://en.wikipedia.org/wiki/William_McKinley', 'start_mandate': '1897-03-04', 'end_mandate': '1901-09-14', 'country': 'us', 'date_field': None}\n",
      "{'_id': ObjectId('66bf5cd6222217814ec9b5d4'), 'id': 'Q35171', 'first_name': 'Stephen', 'last_name': 'Cleveland', 'birth_date': '1837-03-18', 'death_date': '1908-06-24', 'place_of_birth': 'Caldwell', 'wikipedia_url': 'https://en.wikipedia.org/wiki/Grover_Cleveland', 'start_mandate': '1893-03-04', 'end_mandate': '1897-03-04', 'country': 'us', 'date_field': None}\n",
      "{'_id': ObjectId('66bf5cd6222217814ec9b5d5'), 'id': 'Q35498', 'first_name': 'Chester', 'last_name': 'Arthur', 'birth_date': '1829-10-05', 'death_date': '1886-11-18', 'place_of_birth': 'Fairfield', 'wikipedia_url': 'https://en.wikipedia.org/wiki/Chester_A._Arthur', 'start_mandate': '1881-09-19', 'end_mandate': '1885-03-04', 'country': 'us', 'date_field': None}\n",
      "{'_id': ObjectId('66bf5cd6222217814ec9b5d6'), 'id': 'Q35236', 'first_name': 'Herbert', 'last_name': 'Hoover', 'birth_date': '1874-08-10', 'death_date': '1964-10-20', 'place_of_birth': 'West Branch', 'wikipedia_url': 'https://en.wikipedia.org/wiki/Herbert_Hoover', 'start_mandate': '1929-03-04', 'end_mandate': '1933-03-04', 'country': 'us', 'date_field': None}\n",
      "{'_id': ObjectId('66bf5cd6222217814ec9b5d7'), 'id': 'Q34836', 'first_name': 'Ulysses', 'last_name': 'Grant', 'birth_date': '1822-04-27', 'death_date': '1885-07-23', 'place_of_birth': 'Point Pleasant', 'wikipedia_url': 'https://en.wikipedia.org/wiki/Ulysses_S._Grant', 'start_mandate': '1869-03-04', 'end_mandate': '1877-03-04', 'country': 'us', 'date_field': None}\n",
      "{'_id': ObjectId('66bf5cd6222217814ec9b5d8'), 'id': 'Q35648', 'first_name': 'William', 'last_name': 'Taft', 'birth_date': '1857-09-15', 'death_date': '1930-03-08', 'place_of_birth': 'Cincinnati', 'wikipedia_url': 'https://en.wikipedia.org/wiki/William_Howard_Taft', 'start_mandate': '1909-03-04', 'end_mandate': '1913-03-04', 'country': 'us', 'date_field': None}\n",
      "{'_id': ObjectId('66bf5cd6222217814ec9b5d9'), 'id': 'Q35686', 'first_name': 'Rutherford', 'last_name': 'Hayes', 'birth_date': '1822-10-04', 'death_date': '1893-01-17', 'place_of_birth': 'Delaware', 'wikipedia_url': 'https://en.wikipedia.org/wiki/Rutherford_B._Hayes', 'start_mandate': '1877-03-04', 'end_mandate': '1881-03-04', 'country': 'us', 'date_field': None}\n",
      "{'_id': ObjectId('66bf5cd6222217814ec9b5da'), 'id': 'Q36023', 'first_name': 'John', 'last_name': 'Coolidge', 'birth_date': '1872-07-04', 'death_date': '1933-01-05', 'place_of_birth': 'Plymouth Notch', 'wikipedia_url': 'https://en.wikipedia.org/wiki/Calvin_Coolidge', 'start_mandate': '1923-08-02', 'end_mandate': '1929-03-04', 'country': 'us', 'date_field': None}\n",
      "{'_id': ObjectId('66bf5cd6222217814ec9b5db'), 'id': 'Q35678', 'first_name': 'Benjamin', 'last_name': 'Harrison', 'birth_date': '1833-08-20', 'death_date': '1901-03-13', 'place_of_birth': 'North Bend', 'wikipedia_url': 'https://en.wikipedia.org/wiki/Benjamin_Harrison', 'start_mandate': '1889-03-04', 'end_mandate': '1893-03-04', 'country': 'us', 'date_field': None}\n",
      "{'_id': ObjectId('66bf5cd6222217814ec9b5dc'), 'id': 'Q12981', 'first_name': 'Yves', 'last_name': 'Leterme', 'birth_date': '1960-10-06', 'death_date': None, 'place_of_birth': 'Wervik', 'wikipedia_url': 'https://nl.wikipedia.org/wiki/Yves_Leterme', 'start_mandate': '2009-11-25', 'end_mandate': '2011-12-06', 'country': 'be', 'date_field': None}\n",
      "{'_id': ObjectId('66bf5cd6222217814ec9b5dd'), 'id': 'Q12978', 'first_name': 'Guy', 'last_name': 'Verhofstadt', 'birth_date': '1953-04-11', 'death_date': None, 'place_of_birth': 'Dendermonde', 'wikipedia_url': 'https://nl.wikipedia.org/wiki/Guy_Verhofstadt', 'start_mandate': '1999-07-12', 'end_mandate': '2008-03-20', 'country': 'be', 'date_field': None}\n",
      "{'_id': ObjectId('66bf5cd6222217814ec9b5de'), 'id': 'Q12983', 'first_name': 'Herman', 'last_name': 'Van Rompaey', 'birth_date': '1947-10-31', 'death_date': None, 'place_of_birth': 'Etterbeek', 'wikipedia_url': 'https://nl.wikipedia.org/wiki/Herman_Van_Rompuy', 'start_mandate': '2008-12-30', 'end_mandate': '2009-11-25', 'country': 'be', 'date_field': None}\n",
      "{'_id': ObjectId('66bf5cd6222217814ec9b5df'), 'id': 'Q14989', 'first_name': 'Léon', 'last_name': 'Delacroix', 'birth_date': '1867-12-27', 'death_date': '1929-10-15', 'place_of_birth': 'Saint-Josse-ten-Noode', 'wikipedia_url': 'https://nl.wikipedia.org/wiki/L%C3%A9on_Delacroix', 'start_mandate': '1918-11-21', 'end_mandate': '1920-11-20', 'country': 'be', 'date_field': None}\n",
      "{'_id': ObjectId('66bf5cd6222217814ec9b5e0'), 'id': 'Q14990', 'first_name': 'Henry', 'last_name': 'Carton', 'birth_date': '1869-01-31', 'death_date': '1951-05-06', 'place_of_birth': 'City of Brussels', 'wikipedia_url': 'https://nl.wikipedia.org/wiki/Henri_Carton_de_Wiart', 'start_mandate': '1920-11-20', 'end_mandate': '1921-12-16', 'country': 'be', 'date_field': None}\n",
      "{'_id': ObjectId('66bf5cd6222217814ec9b5e1'), 'id': 'Q34453', 'first_name': 'Boris', 'last_name': 'Yeltsin', 'birth_date': '1931-02-01', 'death_date': '2007-04-23', 'place_of_birth': 'Butka', 'wikipedia_url': 'https://ru.wikipedia.org/wiki/%D0%95%D0%BB%D1%8C%D1%86%D0%B8%D0%BD,_%D0%91%D0%BE%D1%80%D0%B8%D1%81_%D0%9D%D0%B8%D0%BA%D0%BE%D0%BB%D0%B0%D0%B5%D0%B2%D0%B8%D1%87', 'start_mandate': '1991-07-10', 'end_mandate': '1999-12-31', 'country': 'ru', 'date_field': None}\n",
      "{'_id': ObjectId('66bf5cd6222217814ec9b5e2'), 'id': 'Q14992', 'first_name': 'Aloïs', 'last_name': 'Van de Vyvere', 'birth_date': '1871-06-08', 'death_date': '1961-10-22', 'place_of_birth': 'Tielt', 'wikipedia_url': 'https://nl.wikipedia.org/wiki/Aloys_Van_de_Vyvere', 'start_mandate': '1925-05-13', 'end_mandate': '1925-06-17', 'country': 'be', 'date_field': None}\n",
      "{'_id': ObjectId('66bf5cd6222217814ec9b5e3'), 'id': 'Q14991', 'first_name': 'Georges', 'last_name': 'Theunis', 'birth_date': '1873-02-28', 'death_date': '1966-01-04', 'place_of_birth': 'Montegnée', 'wikipedia_url': 'https://nl.wikipedia.org/wiki/Georges_Theunis', 'start_mandate': '1934-11-20', 'end_mandate': '1935-03-25', 'country': 'be', 'date_field': None}\n",
      "{'_id': ObjectId('66bf5cd6222217814ec9b5e4'), 'id': 'Q14993', 'first_name': 'Prosper', 'last_name': 'Poullet', 'birth_date': '1868-03-05', 'death_date': '1937-12-03', 'place_of_birth': 'Leuven', 'wikipedia_url': 'https://nl.wikipedia.org/wiki/Prosper_Poullet', 'start_mandate': '1925-06-17', 'end_mandate': '1926-05-20', 'country': 'be', 'date_field': None}\n",
      "{'_id': ObjectId('66bf5cd6222217814ec9b5e6'), 'id': 'Q14994', 'first_name': 'Henri', 'last_name': 'Jaspar', 'birth_date': '1870-07-28', 'death_date': '1939-02-15', 'place_of_birth': 'Schaerbeek - Schaarbeek', 'wikipedia_url': 'https://nl.wikipedia.org/wiki/Henri_Jaspar', 'start_mandate': '1926-05-20', 'end_mandate': '1931-06-06', 'country': 'be', 'date_field': None}\n",
      "{'_id': ObjectId('66bf5cd6222217814ec9b5e7'), 'id': 'Q14996', 'first_name': 'Paul', 'last_name': 'Van Zeeland', 'birth_date': '1893-11-11', 'death_date': '1973-09-22', 'place_of_birth': 'Soignies', 'wikipedia_url': 'https://nl.wikipedia.org/wiki/Paul_van_Zeeland', 'start_mandate': '1935-03-25', 'end_mandate': '1937-11-24', 'country': 'be', 'date_field': None}\n",
      "{'_id': ObjectId('66bf5cd6222217814ec9b5e8'), 'id': 'Q14997', 'first_name': 'Achille', 'last_name': 'Van Acker', 'birth_date': '1898-04-08', 'death_date': '1975-07-10', 'place_of_birth': 'Bruges', 'wikipedia_url': 'https://nl.wikipedia.org/wiki/Achiel_Van_Acker', 'start_mandate': '1954-04-23', 'end_mandate': '1958-06-26', 'country': 'be', 'date_field': None}\n",
      "{'_id': ObjectId('66bf5cd6222217814ec9b5e9'), 'id': 'Q15002', 'first_name': 'Leo', 'last_name': 'Tindemans', 'birth_date': '1922-04-16', 'death_date': '2014-12-26', 'place_of_birth': 'Zwijndrecht', 'wikipedia_url': 'https://nl.wikipedia.org/wiki/Leo_Tindemans', 'start_mandate': '1974-04-25', 'end_mandate': '1978-10-20', 'country': 'be', 'date_field': None}\n",
      "{'_id': ObjectId('66bf5cd6222217814ec9b5ea'), 'id': 'Q14998', 'first_name': 'Camille', 'last_name': 'Huysmans', 'birth_date': '1871-05-26', 'death_date': '1968-02-25', 'place_of_birth': 'Bilzen', 'wikipedia_url': 'https://nl.wikipedia.org/wiki/Camille_Huysmans', 'start_mandate': '1946-08-03', 'end_mandate': '1947-03-20', 'country': 'be', 'date_field': None}\n",
      "{'_id': ObjectId('66bf5cd6222217814ec9b5eb'), 'id': 'Q15048', 'first_name': 'Elio', 'last_name': 'Di Rupo', 'birth_date': '1951-07-18', 'death_date': None, 'place_of_birth': 'Morlanwelz', 'wikipedia_url': 'https://nl.wikipedia.org/wiki/Elio_Di_Rupo', 'start_mandate': '2011-12-06', 'end_mandate': '2014-10-11', 'country': 'be', 'date_field': None}\n",
      "{'_id': ObjectId('66bf5cd6222217814ec9b5ec'), 'id': 'Q14999', 'first_name': 'Gaston', 'last_name': 'Eyskens', 'birth_date': '1905-04-01', 'death_date': '1988-01-03', 'place_of_birth': 'Lier', 'wikipedia_url': 'https://nl.wikipedia.org/wiki/Gaston_Eyskens', 'start_mandate': '1968-07-17', 'end_mandate': '1973-01-26', 'country': 'be', 'date_field': None}\n",
      "{'_id': ObjectId('66bf5cd6222217814ec9b5ed'), 'id': 'Q143202', 'first_name': 'Pieter', 'last_name': 'Decker', 'birth_date': '1812-01-25', 'death_date': '1891-01-04', 'place_of_birth': 'Zele', 'wikipedia_url': 'https://nl.wikipedia.org/wiki/Pieter_de_Decker', 'start_mandate': '1855-03-30', 'end_mandate': '1857-11-09', 'country': 'be', 'date_field': None}\n",
      "{'_id': ObjectId('66bf5cd6222217814ec9b5ee'), 'id': 'Q15956', 'first_name': 'Frans', 'last_name': 'Schollaert', 'birth_date': '1851-08-19', 'death_date': '1917-06-29', 'place_of_birth': 'Wilsele', 'wikipedia_url': 'https://nl.wikipedia.org/wiki/Frans_Schollaert', 'start_mandate': '1908-01-09', 'end_mandate': '1911-06-17', 'country': 'be', 'date_field': None}\n",
      "{'_id': ObjectId('66bf5cd6222217814ec9b5ef'), 'id': 'Q15056', 'first_name': 'Jean-Luc', 'last_name': 'Dehaene', 'birth_date': '1940-08-07', 'death_date': '2014-05-15', 'place_of_birth': 'Montpellier', 'wikipedia_url': 'https://nl.wikipedia.org/wiki/Jean-Luc_Dehaene', 'start_mandate': '1992-03-07', 'end_mandate': '1999-07-12', 'country': 'be', 'date_field': None}\n",
      "{'_id': ObjectId('66bf5cd6222217814ec9b5f0'), 'id': 'Q221781', 'first_name': 'Théodore', 'last_name': 'Lefèvre', 'birth_date': '1914-01-17', 'death_date': '1973-09-18', 'place_of_birth': 'Ghent', 'wikipedia_url': 'https://nl.wikipedia.org/wiki/Th%C3%A9o_Lef%C3%A8vre', 'start_mandate': '1961-04-25', 'end_mandate': '1965-07-28', 'country': 'be', 'date_field': None}\n",
      "{'_id': ObjectId('66bf5cd6222217814ec9b5f1'), 'id': 'Q202049', 'first_name': 'Auguste', 'last_name': 'Beernaert', 'birth_date': '1829-07-26', 'death_date': '1912-10-06', 'place_of_birth': 'Ostend', 'wikipedia_url': 'https://nl.wikipedia.org/wiki/Auguste_Beernaert', 'start_mandate': '1884-10-26', 'end_mandate': '1894-03-26', 'country': 'be', 'date_field': None}\n",
      "{'_id': ObjectId('66bf5cd6222217814ec9b5f3'), 'id': 'Q155691', 'first_name': 'Paul-Henri', 'last_name': 'Spaak', 'birth_date': '1899-01-25', 'death_date': '1972-07-31', 'place_of_birth': 'Schaerbeek - Schaarbeek', 'wikipedia_url': 'https://nl.wikipedia.org/wiki/Paul-Henri_Spaak', 'start_mandate': '1947-03-20', 'end_mandate': '1949-08-11', 'country': 'be', 'date_field': None}\n",
      "{'_id': ObjectId('66bf5cd6222217814ec9b5f4'), 'id': 'Q349477', 'first_name': 'Mark', 'last_name': 'Eyskens', 'birth_date': '1933-04-29', 'death_date': None, 'place_of_birth': 'Leuven', 'wikipedia_url': 'https://nl.wikipedia.org/wiki/Mark_Eyskens', 'start_mandate': '1981-04-06', 'end_mandate': '1981-12-17', 'country': 'be', 'date_field': None}\n",
      "{'_id': ObjectId('66bf5cd6222217814ec9b5f5'), 'id': 'Q289570', 'first_name': 'Étienne', 'last_name': 'Gerlache', 'birth_date': '1785-12-26', 'death_date': '1871-02-10', 'place_of_birth': 'Château of Biourge', 'wikipedia_url': 'https://nl.wikipedia.org/wiki/Etienne_de_Gerlache', 'start_mandate': '1831-02-27', 'end_mandate': '1831-03-10', 'country': 'be', 'date_field': None}\n",
      "{'_id': ObjectId('66bf5cd6222217814ec9b5f6'), 'id': 'Q313809', 'first_name': 'Wilfried', 'last_name': 'Martens', 'birth_date': '1936-04-19', 'death_date': '2013-10-09', 'place_of_birth': 'Sleidinge', 'wikipedia_url': 'https://nl.wikipedia.org/wiki/Wilfried_Martens', 'start_mandate': '1981-12-17', 'end_mandate': '1992-03-07', 'country': 'be', 'date_field': None}\n",
      "{'_id': ObjectId('66bf5cd6222217814ec9b5f7'), 'id': 'Q363942', 'first_name': 'Pierre', 'last_name': 'Harmel', 'birth_date': '1911-03-16', 'death_date': '2009-11-15', 'place_of_birth': 'Uccle', 'wikipedia_url': 'https://nl.wikipedia.org/wiki/Pierre_Harmel', 'start_mandate': '1965-07-28', 'end_mandate': '1966-03-19', 'country': 'be', 'date_field': None}\n",
      "{'_id': ObjectId('66bf5cd6222217814ec9b5f8'), 'id': 'Q35286', 'first_name': 'Warren', 'last_name': 'Harding', 'birth_date': '1865-11-02', 'death_date': '1923-08-02', 'place_of_birth': 'Blooming Grove', 'wikipedia_url': 'https://en.wikipedia.org/wiki/Warren_G._Harding', 'start_mandate': '1921-03-04', 'end_mandate': '1923-08-02', 'country': 'us', 'date_field': None}\n",
      "{'_id': ObjectId('66bf5cd6222217814ec9b5f9'), 'id': 'Q442578', 'first_name': 'Hubert', 'last_name': 'Pierlot', 'birth_date': '1883-12-23', 'death_date': '1963-12-13', 'place_of_birth': 'Bertrix', 'wikipedia_url': 'https://nl.wikipedia.org/wiki/Hubert_Pierlot', 'start_mandate': '1939-02-22', 'end_mandate': '1945-02-12', 'country': 'be', 'date_field': None}\n",
      "{'_id': ObjectId('66bf5cd6222217814ec9b5fa'), 'id': 'Q446472', 'first_name': 'Jean-Baptiste', 'last_name': 'Nothomb', 'birth_date': '1805-07-03', 'death_date': '1881-09-16', 'place_of_birth': 'Messancy', 'wikipedia_url': 'https://nl.wikipedia.org/wiki/Jean-Baptiste_Nothomb', 'start_mandate': '1841-04-13', 'end_mandate': '1845-07-30', 'country': 'be', 'date_field': None}\n",
      "{'_id': ObjectId('66bf5cd6222217814ec9b5fc'), 'id': 'Q468104', 'first_name': 'Joseph', 'last_name': 'Lebeau', 'birth_date': '1794-01-03', 'death_date': '1865-03-19', 'place_of_birth': 'Huy', 'wikipedia_url': 'https://nl.wikipedia.org/wiki/Joseph_Lebeau', 'start_mandate': '1840-04-18', 'end_mandate': '1841-04-13', 'country': 'be', 'date_field': None}\n",
      "{'_id': ObjectId('66bf5cd6222217814ec9b5fe'), 'id': 'Q468109', 'first_name': 'Charles', 'last_name': 'Rogier', 'birth_date': '1800-08-17', 'death_date': '1885-05-27', 'place_of_birth': 'Saint-Quentin', 'wikipedia_url': 'https://nl.wikipedia.org/wiki/Charles_Rogier', 'start_mandate': '1857-11-09', 'end_mandate': '1868-01-03', 'country': 'be', 'date_field': None}\n",
      "{'_id': ObjectId('66bf5cd6222217814ec9b5ff'), 'id': 'Q18434995', 'first_name': 'Sophie', 'last_name': 'Wilmès', 'birth_date': '1975-01-15', 'death_date': None, 'place_of_birth': 'Ixelles - Elsene', 'wikipedia_url': 'https://nl.wikipedia.org/wiki/Sophie_Wilm%C3%A8s', 'start_mandate': '2019-10-27', 'end_mandate': '2020-10-01', 'country': 'be', 'date_field': None}\n",
      "{'_id': ObjectId('66bf5cd6222217814ec9b600'), 'id': 'Q705111', 'first_name': 'Joseph', 'last_name': 'Pholien', 'birth_date': '1884-12-28', 'death_date': '1968-01-04', 'place_of_birth': 'Liège', 'wikipedia_url': 'https://nl.wikipedia.org/wiki/Joseph_Pholien', 'start_mandate': '1950-08-16', 'end_mandate': '1952-01-15', 'country': 'be', 'date_field': None}\n",
      "{'_id': ObjectId('66bf5cd6222217814ec9b601'), 'id': 'Q2105', 'first_name': 'Jacques', 'last_name': 'Chirac', 'birth_date': '1932-11-29', 'death_date': '2019-09-26', 'place_of_birth': '5th arrondissement of Paris', 'wikipedia_url': 'https://fr.wikipedia.org/wiki/Jacques_Chirac', 'start_mandate': '1995-05-17', 'end_mandate': '2007-05-16', 'country': 'fr', 'date_field': None}\n",
      "{'_id': ObjectId('66bf5cd6222217814ec9b602'), 'id': 'Q2124', 'first_name': 'Valéry', 'last_name': \"Giscard d'Estaing\", 'birth_date': '1926-02-02', 'death_date': '2020-12-02', 'place_of_birth': 'Koblenz', 'wikipedia_url': 'https://fr.wikipedia.org/wiki/Val%C3%A9ry_Giscard_d%27Estaing', 'start_mandate': '1974-05-27', 'end_mandate': '1981-05-21', 'country': 'fr', 'date_field': None}\n",
      "{'_id': ObjectId('66bf5cd6222217814ec9b603'), 'id': 'Q2185', 'first_name': 'Georges', 'last_name': 'Pompidou', 'birth_date': '1911-07-05', 'death_date': '1974-04-02', 'place_of_birth': 'Montboudif', 'wikipedia_url': 'https://fr.wikipedia.org/wiki/Georges_Pompidou', 'start_mandate': '1969-06-20', 'end_mandate': '1974-04-02', 'country': 'fr', 'date_field': None}\n",
      "{'_id': ObjectId('66bf5cd6222217814ec9b604'), 'id': 'Q721798', 'first_name': 'Jules', 'last_name': 'Trooz', 'birth_date': '1857-02-21', 'death_date': '1907-12-31', 'place_of_birth': 'Leuven', 'wikipedia_url': 'https://nl.wikipedia.org/wiki/Jules_de_Trooz', 'start_mandate': '1907-05-02', 'end_mandate': '1907-12-31', 'country': 'be', 'date_field': None}\n",
      "{'_id': ObjectId('66bf5cd6222217814ec9b605'), 'id': 'Q5738', 'first_name': 'Adolphe', 'last_name': 'Thiers', 'birth_date': '1797-04-15', 'death_date': '1877-09-03', 'place_of_birth': 'Marseille', 'wikipedia_url': 'https://fr.wikipedia.org/wiki/Adolphe_Thiers', 'start_mandate': '1871-08-31', 'end_mandate': '1873-05-24', 'country': 'fr', 'date_field': None}\n",
      "{'_id': ObjectId('66bf5cd6222217814ec9b606'), 'id': 'Q329', 'first_name': 'Nicolas', 'last_name': 'Sarkozy', 'birth_date': '1955-01-28', 'death_date': None, 'place_of_birth': 'Paris', 'wikipedia_url': 'https://fr.wikipedia.org/wiki/Nicolas_Sarkozy', 'start_mandate': '2007-05-16', 'end_mandate': '2012-05-15', 'country': 'fr', 'date_field': None}\n",
      "{'_id': ObjectId('66bf5cd6222217814ec9b608'), 'id': 'Q12950', 'first_name': 'Alain', 'last_name': 'Poher', 'birth_date': '1909-04-17', 'death_date': '1996-12-09', 'place_of_birth': 'Ablon-sur-Seine', 'wikipedia_url': 'https://fr.wikipedia.org/wiki/Alain_Poher', 'start_mandate': '1969-04-28', 'end_mandate': '1969-06-20', 'country': 'fr', 'date_field': None}\n",
      "{'_id': ObjectId('66bf5cd6222217814ec9b609'), 'id': 'Q158749', 'first_name': 'Albert', 'last_name': 'Lebrun', 'birth_date': '1871-08-29', 'death_date': '1950-03-06', 'place_of_birth': 'Mercy-le-Haut', 'wikipedia_url': 'https://fr.wikipedia.org/wiki/Albert_Lebrun', 'start_mandate': '1932-05-10', 'end_mandate': '1940-07-11', 'country': 'fr', 'date_field': None}\n",
      "{'_id': ObjectId('66bf5cd6222217814ec9b60a'), 'id': 'Q7721', 'first_name': 'Napoléon', 'last_name': 'Bonaparte', 'birth_date': '1808-04-20', 'death_date': '1873-01-09', 'place_of_birth': 'Paris', 'wikipedia_url': 'https://fr.wikipedia.org/wiki/Napol%C3%A9on_III', 'start_mandate': '1848-12-20', 'end_mandate': '1852-12-02', 'country': 'fr', 'date_field': None}\n",
      "{'_id': ObjectId('66bf5cd6222217814ec9b60b'), 'id': 'Q12680', 'first_name': 'Paul', 'last_name': 'Doumer', 'birth_date': '1857-03-22', 'death_date': '1932-05-07', 'place_of_birth': 'Aurillac', 'wikipedia_url': 'https://fr.wikipedia.org/wiki/Paul_Doumer', 'start_mandate': '1931-06-13', 'end_mandate': '1932-05-07', 'country': 'fr', 'date_field': None}\n",
      "{'_id': ObjectId('66bf5cd6222217814ec9b60c'), 'id': 'Q158772', 'first_name': 'Vincent', 'last_name': 'Auriol', 'birth_date': '1884-08-27', 'death_date': '1966-01-01', 'place_of_birth': 'Revel', 'wikipedia_url': 'https://fr.wikipedia.org/wiki/Vincent_Auriol', 'start_mandate': '1947-01-16', 'end_mandate': '1954-01-16', 'country': 'fr', 'date_field': None}\n",
      "{'_id': ObjectId('66bf5cd6222217814ec9b60d'), 'id': 'Q158768', 'first_name': 'René', 'last_name': 'Coty', 'birth_date': '1882-03-20', 'death_date': '1962-11-22', 'place_of_birth': 'Le Havre', 'wikipedia_url': 'https://fr.wikipedia.org/wiki/Ren%C3%A9_Coty', 'start_mandate': '1954-01-16', 'end_mandate': '1959-01-08', 'country': 'fr', 'date_field': None}\n",
      "{'_id': ObjectId('66bf5cd6222217814ec9b60f'), 'id': 'Q158838', 'first_name': 'Patrice', 'last_name': 'de Mac Mahon', 'birth_date': '1808-06-13', 'death_date': '1893-10-17', 'place_of_birth': 'Sully', 'wikipedia_url': 'https://fr.wikipedia.org/wiki/Patrice_de_Mac_Mahon', 'start_mandate': '1873-05-24', 'end_mandate': '1879-01-30', 'country': 'fr', 'date_field': None}\n",
      "{'_id': ObjectId('66bf5cd6222217814ec9b610'), 'id': 'Q157', 'first_name': 'François', 'last_name': 'Hollande', 'birth_date': '1954-08-12', 'death_date': None, 'place_of_birth': 'Rouen', 'wikipedia_url': 'https://fr.wikipedia.org/wiki/Fran%C3%A7ois_Hollande', 'start_mandate': '2012-05-15', 'end_mandate': '2017-05-14', 'country': 'fr', 'date_field': None}\n",
      "{'_id': ObjectId('66bf5cd6222217814ec9b611'), 'id': 'Q215778', 'first_name': 'Marie', 'last_name': 'Carnot', 'birth_date': '1837-08-11', 'death_date': '1894-06-25', 'place_of_birth': 'Limoges', 'wikipedia_url': 'https://fr.wikipedia.org/wiki/Sadi_Carnot_(homme_d%27%C3%89tat)', 'start_mandate': '1887-12-03', 'end_mandate': '1894-06-25', 'country': 'fr', 'date_field': None}\n",
      "{'_id': ObjectId('66bf5cd6222217814ec9b612'), 'id': 'Q169502', 'first_name': 'Émile', 'last_name': 'Loubet', 'birth_date': '1838-12-31', 'death_date': '1929-12-20', 'place_of_birth': 'Marsanne', 'wikipedia_url': 'https://fr.wikipedia.org/wiki/%C3%89mile_Loubet', 'start_mandate': '1899-02-18', 'end_mandate': '1906-02-18', 'country': 'fr', 'date_field': None}\n",
      "{'_id': ObjectId('66bf5cd6222217814ec9b613'), 'id': 'Q274540', 'first_name': 'Alexandre', 'last_name': 'Millerand', 'birth_date': '1859-02-10', 'death_date': '1943-04-06', 'place_of_birth': 'Paris', 'wikipedia_url': 'https://fr.wikipedia.org/wiki/Alexandre_Millerand', 'start_mandate': '1920-09-23', 'end_mandate': '1924-06-11', 'country': 'fr', 'date_field': None}\n",
      "{'_id': ObjectId('66bf5cd6222217814ec9b614'), 'id': 'Q191974', 'first_name': 'Raymond', 'last_name': 'Poincaré', 'birth_date': '1860-08-20', 'death_date': '1934-10-15', 'place_of_birth': 'Bar-le-Duc', 'wikipedia_url': 'https://fr.wikipedia.org/wiki/Raymond_Poincar%C3%A9', 'start_mandate': '1913-02-18', 'end_mandate': '1920-02-18', 'country': 'fr', 'date_field': None}\n",
      "{'_id': ObjectId('66bf5cd6222217814ec9b615'), 'id': 'Q296064', 'first_name': 'Gaston', 'last_name': 'Doumergue', 'birth_date': '1863-08-01', 'death_date': '1937-06-18', 'place_of_birth': 'Aigues-Vives', 'wikipedia_url': 'https://fr.wikipedia.org/wiki/Gaston_Doumergue', 'start_mandate': '1924-06-13', 'end_mandate': '1931-06-13', 'country': 'fr', 'date_field': None}\n",
      "{'_id': ObjectId('66bf5cd6222217814ec9b616'), 'id': 'Q296076', 'first_name': 'Félix', 'last_name': 'Faure', 'birth_date': '1841-01-30', 'death_date': '1899-02-16', 'place_of_birth': 'Paris', 'wikipedia_url': 'https://fr.wikipedia.org/wiki/F%C3%A9lix_Faure', 'start_mandate': '1895-01-17', 'end_mandate': '1899-02-16', 'country': 'fr', 'date_field': None}\n",
      "{'_id': ObjectId('66bf5cd6222217814ec9b617'), 'id': 'Q2042', 'first_name': 'Charles', 'last_name': 'de Gaulle', 'birth_date': '1890-11-22', 'death_date': '1970-11-09', 'place_of_birth': 'Lille', 'wikipedia_url': 'https://fr.wikipedia.org/wiki/Charles_de_Gaulle', 'start_mandate': '1959-01-08', 'end_mandate': '1969-04-28', 'country': 'fr', 'date_field': None}\n",
      "{'_id': ObjectId('66bf5cd6222217814ec9b619'), 'id': 'Q2038', 'first_name': 'François', 'last_name': 'Mitterrand', 'birth_date': '1916-10-26', 'death_date': '1996-01-08', 'place_of_birth': 'Jarnac', 'wikipedia_url': 'https://fr.wikipedia.org/wiki/Fran%C3%A7ois_Mitterrand', 'start_mandate': '1981-05-21', 'end_mandate': '1995-05-17', 'country': 'fr', 'date_field': None}\n",
      "{'_id': ObjectId('66bf5cd6222217814ec9b61a'), 'id': 'Q678535', 'first_name': 'Jules', 'last_name': 'Malou', 'birth_date': '1810-10-19', 'death_date': '1886-07-11', 'place_of_birth': 'Ypres', 'wikipedia_url': 'https://nl.wikipedia.org/wiki/Jules_Malou', 'start_mandate': '1884-06-16', 'end_mandate': '1884-10-26', 'country': 'be', 'date_field': None}\n",
      "{'_id': ObjectId('66bf5cd6222217814ec9b61b'), 'id': 'Q546727', 'first_name': 'Sylvain', 'last_name': 'Weyer', 'birth_date': '1802-01-19', 'death_date': '1874-05-23', 'place_of_birth': 'Leuven', 'wikipedia_url': 'https://nl.wikipedia.org/wiki/Sylvain_Van_de_Weyer', 'start_mandate': '1845-07-30', 'end_mandate': '1846-03-31', 'country': 'be', 'date_field': None}\n",
      "{'_id': ObjectId('66bf5cd6222217814ec9b61d'), 'id': 'Q705128', 'first_name': 'Jean', 'last_name': 'Van Houtte', 'birth_date': '1907-03-17', 'death_date': '1991-05-23', 'place_of_birth': 'Ghent', 'wikipedia_url': 'https://nl.wikipedia.org/wiki/Jean_Van_Houtte', 'start_mandate': '1952-01-15', 'end_mandate': '1954-04-23', 'country': 'be', 'date_field': None}\n",
      "{'_id': ObjectId('66bf5cd6222217814ec9b61e'), 'id': 'Q719483', 'first_name': 'Gérard', 'last_name': 'Cooreman', 'birth_date': '1852-03-25', 'death_date': '1926-12-02', 'place_of_birth': 'Ghent', 'wikipedia_url': 'https://nl.wikipedia.org/wiki/Gerard_Cooreman', 'start_mandate': '1918-06-01', 'end_mandate': '1918-11-21', 'country': 'be', 'date_field': None}\n",
      "{'_id': ObjectId('66bf5cd6222217814ec9b61f'), 'id': 'Q705103', 'first_name': 'Charles', 'last_name': 'Broqueville', 'birth_date': '1860-12-04', 'death_date': '1940-09-05', 'place_of_birth': 'Postel', 'wikipedia_url': 'https://nl.wikipedia.org/wiki/Charles_de_Broqueville', 'start_mandate': '1932-10-22', 'end_mandate': '1934-11-20', 'country': 'be', 'date_field': None}\n",
      "{'_id': ObjectId('66bf5cd6222217814ec9b620'), 'id': 'Q296083', 'first_name': 'Jules', 'last_name': 'Grévy', 'birth_date': '1807-08-15', 'death_date': '1891-09-09', 'place_of_birth': 'Mont-sous-Vaudrey', 'wikipedia_url': 'https://fr.wikipedia.org/wiki/Jules_Gr%C3%A9vy', 'start_mandate': '1879-01-30', 'end_mandate': '1887-12-02', 'country': 'fr', 'date_field': None}\n",
      "{'_id': ObjectId('66bf5cd6222217814ec9b621'), 'id': 'Q569138', 'first_name': 'Jules', 'last_name': 'Burlet', 'birth_date': '1844-04-10', 'death_date': '1897-03-01', 'place_of_birth': 'Ixelles - Elsene', 'wikipedia_url': 'https://nl.wikipedia.org/wiki/Jules_de_Burlet', 'start_mandate': '1894-03-26', 'end_mandate': '1896-02-25', 'country': 'be', 'date_field': None}\n",
      "{'_id': ObjectId('66bf5cd6222217814ec9b622'), 'id': 'Q950958', 'first_name': 'Charles', 'last_name': 'Michel', 'birth_date': '1975-12-21', 'death_date': None, 'place_of_birth': 'Namur', 'wikipedia_url': 'https://nl.wikipedia.org/wiki/Charles_Michel', 'start_mandate': '2014-10-11', 'end_mandate': '2019-10-27', 'country': 'be', 'date_field': None}\n",
      "{'_id': ObjectId('66bf5cd6222217814ec9b623'), 'id': 'Q721781', 'first_name': 'Paul', 'last_name': 'De Smet de Naeyer', 'birth_date': '1843-05-13', 'death_date': '1913-09-09', 'place_of_birth': 'Ghent', 'wikipedia_url': 'https://nl.wikipedia.org/wiki/Paul_de_Smet_de_Naeyer', 'start_mandate': '1899-08-05', 'end_mandate': '1907-05-02', 'country': 'be', 'date_field': None}\n",
      "{'_id': ObjectId('66bf5cd6222217814ec9b624'), 'id': 'Q527479', 'first_name': 'Henri', 'last_name': 'de Brouckère', 'birth_date': '1801-01-25', 'death_date': '1891-01-25', 'place_of_birth': 'Bruges', 'wikipedia_url': 'https://nl.wikipedia.org/wiki/Henri_de_Brouck%C3%A8re', 'start_mandate': '1852-10-31', 'end_mandate': '1855-03-30', 'country': 'be', 'date_field': None}\n",
      "{'_id': ObjectId('66bf5cd6222217814ec9b625'), 'id': 'Q725589', 'first_name': 'Jules', 'last_name': \"d'Anethan\", 'birth_date': '1803-04-23', 'death_date': '1888-10-08', 'place_of_birth': 'Brussels metropolitan area', 'wikipedia_url': 'https://nl.wikipedia.org/wiki/Jules_Joseph_d%27Anethan', 'start_mandate': '1870-07-02', 'end_mandate': '1871-12-07', 'country': 'be', 'date_field': None}\n",
      "{'_id': ObjectId('66bf5cd6222217814ec9b626'), 'id': 'Q296673', 'first_name': 'Clément', 'last_name': 'Fallières', 'birth_date': '1841-11-06', 'death_date': '1931-06-22', 'place_of_birth': 'Mézin', 'wikipedia_url': 'https://fr.wikipedia.org/wiki/Armand_Falli%C3%A8res', 'start_mandate': '1906-02-18', 'end_mandate': '1913-02-18', 'country': 'fr', 'date_field': None}\n",
      "{'_id': ObjectId('66bf5cd6222217814ec9b627'), 'id': 'Q721772', 'first_name': 'Jules', 'last_name': 'Vandenpeereboom', 'birth_date': '1843-03-18', 'death_date': '1917-03-06', 'place_of_birth': 'Kortrijk', 'wikipedia_url': 'https://nl.wikipedia.org/wiki/Jules_Vandenpeereboom', 'start_mandate': '1899-01-24', 'end_mandate': '1899-08-05', 'country': 'be', 'date_field': None}\n",
      "{'_id': ObjectId('66bf5cd6222217814ec9b628'), 'id': 'Q315656', 'first_name': 'Jean', 'last_name': 'Casimir-Perier', 'birth_date': '1847-11-08', 'death_date': '1907-03-11', 'place_of_birth': 'Paris', 'wikipedia_url': 'https://fr.wikipedia.org/wiki/Jean_Casimir-Perier', 'start_mandate': '1894-06-27', 'end_mandate': '1895-01-16', 'country': 'fr', 'date_field': None}\n",
      "{'_id': ObjectId('66bf5cd6222217814ec9b629'), 'id': 'Q312026', 'first_name': 'Georges', 'last_name': 'Bidault', 'birth_date': '1899-10-05', 'death_date': '1983-01-27', 'place_of_birth': 'Moulins', 'wikipedia_url': 'https://fr.wikipedia.org/wiki/Georges_Bidault', 'start_mandate': '1946-06-24', 'end_mandate': '1946-10-14', 'country': 'fr', 'date_field': None}\n",
      "{'_id': ObjectId('66bf5cd6222217814ec9b62a'), 'id': 'Q309995', 'first_name': 'Paul', 'last_name': 'Deschanel', 'birth_date': '1855-02-13', 'death_date': '1922-04-28', 'place_of_birth': 'Schaerbeek - Schaarbeek', 'wikipedia_url': 'https://fr.wikipedia.org/wiki/Paul_Deschanel', 'start_mandate': '1920-02-18', 'end_mandate': '1920-09-21', 'country': 'fr', 'date_field': None}\n",
      "{'_id': ObjectId('66bf5cd6222217814ec9b62b'), 'id': 'Q356032', 'first_name': 'Charles', 'last_name': 'Dupuy', 'birth_date': '1851-11-05', 'death_date': '1923-07-23', 'place_of_birth': 'Le Puy-en-Velay', 'wikipedia_url': 'https://fr.wikipedia.org/wiki/Charles_Dupuy', 'start_mandate': '1894-06-25', 'end_mandate': '1894-06-27', 'country': 'fr', 'date_field': None}\n",
      "{'_id': ObjectId('66bf5cd6222217814ec9b62c'), 'id': 'Q379702', 'first_name': 'Louis', 'last_name': 'Cavaignac', 'birth_date': '1802-10-15', 'death_date': '1857-10-28', 'place_of_birth': 'Paris', 'wikipedia_url': 'https://fr.wikipedia.org/wiki/Eug%C3%A8ne_Cavaignac', 'start_mandate': '1848-06-28', 'end_mandate': '1848-12-20', 'country': 'fr', 'date_field': None}\n",
      "{'_id': ObjectId('66bf5cd6222217814ec9b62d'), 'id': 'Q705791', 'first_name': 'Walthère', 'last_name': 'Frère', 'birth_date': '1812-04-22', 'death_date': '1896-01-02', 'place_of_birth': 'Liège', 'wikipedia_url': 'https://nl.wikipedia.org/wiki/Walth%C3%A8re_Fr%C3%A8re-Orban', 'start_mandate': '1878-06-19', 'end_mandate': '1884-06-16', 'country': 'be', 'date_field': None}\n",
      "{'_id': ObjectId('66bf5cd6222217814ec9b62e'), 'id': 'Q476596', 'first_name': 'Alexander', 'last_name': 'De Croo', 'birth_date': '1975-11-03', 'death_date': None, 'place_of_birth': 'Vilvoorde', 'wikipedia_url': 'https://nl.wikipedia.org/wiki/Alexander_De_Croo', 'start_mandate': '2020-10-01', 'end_mandate': None, 'country': 'be', 'date_field': None}\n",
      "{'_id': ObjectId('66bf5cd6222217814ec9b631'), 'id': 'Q3052772', 'first_name': 'Emmanuel', 'last_name': 'Macron', 'birth_date': '1977-12-21', 'death_date': None, 'place_of_birth': 'Amiens', 'wikipedia_url': 'https://fr.wikipedia.org/wiki/Emmanuel_Macron', 'start_mandate': '2017-05-14', 'end_mandate': None, 'country': 'fr', 'date_field': None}\n"
     ]
    }
   ],
   "source": [
    "for leader in db.leaders.find():\n",
    "    print(leader)"
   ]
  },
  {
   "cell_type": "markdown",
   "metadata": {},
   "source": [
    "## Resources:\n",
    "* [NoSQL Concepts (DataCamp)](https://www.datacamp.com/courses/nosql-concepts)\n",
    "* [Introduction to MongoDB using Python (DataCamp)](https://www.datacamp.com/courses/introduction-to-using-mongodb-for-data-science-with-python)\n",
    "* [Getting started with MongoDB](https://docs.mongodb.com/manual/tutorial/)\n",
    "* [Python MongoDB Tutorial](https://www.mongodb.com/blog/post/getting-started-with-python-and-mongodb)\n",
    "* [Introduction to MongoDB Learning Path](https://learn.mongodb.com/learning-paths/introduction-to-mongodb)\n",
    "* [Build an App With Python, Flask, and MongoDB to Track UFOs](https://www.mongodb.com/developer/languages/python/flask-app-ufo-tracking/)"
   ]
  }
 ],
 "metadata": {
  "kernelspec": {
   "display_name": "Python 3.8.6 64-bit",
   "language": "python",
   "name": "python3"
  },
  "language_info": {
   "codemirror_mode": {
    "name": "ipython",
    "version": 3
   },
   "file_extension": ".py",
   "mimetype": "text/x-python",
   "name": "python",
   "nbconvert_exporter": "python",
   "pygments_lexer": "ipython3",
   "version": "3.12.5"
  },
  "vscode": {
   "interpreter": {
    "hash": "082e9a3bcad0a290d0001e938aa60b99250c6c2ef33a923c00b70f9826caf4b7"
   }
  }
 },
 "nbformat": 4,
 "nbformat_minor": 4
}
