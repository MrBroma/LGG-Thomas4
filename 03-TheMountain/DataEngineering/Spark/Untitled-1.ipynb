{
 "cells": [
  {
   "cell_type": "code",
   "execution_count": 8,
   "metadata": {},
   "outputs": [
    {
     "name": "stdout",
     "output_type": "stream",
     "text": [
      "Requirement already satisfied: pyspark in /home/databroma/miniconda3/envs/pyspark_env/lib/python3.8/site-packages (3.5.1)\n",
      "Requirement already satisfied: py4j==0.10.9.7 in /home/databroma/miniconda3/envs/pyspark_env/lib/python3.8/site-packages (from pyspark) (0.10.9.7)\n"
     ]
    }
   ],
   "source": [
    "!pip install pyspark"
   ]
  },
  {
   "cell_type": "code",
   "execution_count": 9,
   "metadata": {},
   "outputs": [],
   "source": [
    "import pyspark"
   ]
  },
  {
   "cell_type": "code",
   "execution_count": 10,
   "metadata": {},
   "outputs": [
    {
     "data": {
      "text/html": [
       "<div>\n",
       "<style scoped>\n",
       "    .dataframe tbody tr th:only-of-type {\n",
       "        vertical-align: middle;\n",
       "    }\n",
       "\n",
       "    .dataframe tbody tr th {\n",
       "        vertical-align: top;\n",
       "    }\n",
       "\n",
       "    .dataframe thead th {\n",
       "        text-align: right;\n",
       "    }\n",
       "</style>\n",
       "<table border=\"1\" class=\"dataframe\">\n",
       "  <thead>\n",
       "    <tr style=\"text-align: right;\">\n",
       "      <th></th>\n",
       "      <th>Div</th>\n",
       "      <th>Date</th>\n",
       "      <th>Time</th>\n",
       "      <th>HomeTeam</th>\n",
       "      <th>AwayTeam</th>\n",
       "      <th>FTHG</th>\n",
       "      <th>FTAG</th>\n",
       "      <th>FTR</th>\n",
       "      <th>HTHG</th>\n",
       "    </tr>\n",
       "  </thead>\n",
       "  <tbody>\n",
       "    <tr>\n",
       "      <th>0</th>\n",
       "      <td>B1</td>\n",
       "      <td>2024-09-01</td>\n",
       "      <td>18:15</td>\n",
       "      <td>Kortrijk</td>\n",
       "      <td>St Truiden</td>\n",
       "      <td>1.0</td>\n",
       "      <td>1.0</td>\n",
       "      <td>D</td>\n",
       "      <td>0.0</td>\n",
       "    </tr>\n",
       "    <tr>\n",
       "      <th>1</th>\n",
       "      <td>B1</td>\n",
       "      <td>2024-09-01</td>\n",
       "      <td>17:30</td>\n",
       "      <td>St. Gilloise</td>\n",
       "      <td>Anderlecht</td>\n",
       "      <td>0.0</td>\n",
       "      <td>0.0</td>\n",
       "      <td>D</td>\n",
       "      <td>0.0</td>\n",
       "    </tr>\n",
       "    <tr>\n",
       "      <th>2</th>\n",
       "      <td>B1</td>\n",
       "      <td>2024-09-01</td>\n",
       "      <td>15:00</td>\n",
       "      <td>Gent</td>\n",
       "      <td>Antwerp</td>\n",
       "      <td>1.0</td>\n",
       "      <td>1.0</td>\n",
       "      <td>D</td>\n",
       "      <td>1.0</td>\n",
       "    </tr>\n",
       "    <tr>\n",
       "      <th>3</th>\n",
       "      <td>B1</td>\n",
       "      <td>2024-09-01</td>\n",
       "      <td>12:30</td>\n",
       "      <td>Club Brugge</td>\n",
       "      <td>Cercle Brugge</td>\n",
       "      <td>3.0</td>\n",
       "      <td>0.0</td>\n",
       "      <td>H</td>\n",
       "      <td>2.0</td>\n",
       "    </tr>\n",
       "    <tr>\n",
       "      <th>4</th>\n",
       "      <td>B1</td>\n",
       "      <td>2024-08-31</td>\n",
       "      <td>19:45</td>\n",
       "      <td>Oud-Heverlee Leuven</td>\n",
       "      <td>Standard</td>\n",
       "      <td>2.0</td>\n",
       "      <td>0.0</td>\n",
       "      <td>H</td>\n",
       "      <td>1.0</td>\n",
       "    </tr>\n",
       "    <tr>\n",
       "      <th>5</th>\n",
       "      <td>B1</td>\n",
       "      <td>2024-08-31</td>\n",
       "      <td>17:15</td>\n",
       "      <td>Beerschot VA</td>\n",
       "      <td>Dender</td>\n",
       "      <td>1.0</td>\n",
       "      <td>2.0</td>\n",
       "      <td>A</td>\n",
       "      <td>0.0</td>\n",
       "    </tr>\n",
       "    <tr>\n",
       "      <th>6</th>\n",
       "      <td>B1</td>\n",
       "      <td>2024-08-31</td>\n",
       "      <td>15:00</td>\n",
       "      <td>Mechelen</td>\n",
       "      <td>Charleroi</td>\n",
       "      <td>5.0</td>\n",
       "      <td>2.0</td>\n",
       "      <td>H</td>\n",
       "      <td>3.0</td>\n",
       "    </tr>\n",
       "    <tr>\n",
       "      <th>7</th>\n",
       "      <td>B1</td>\n",
       "      <td>2024-08-30</td>\n",
       "      <td>19:45</td>\n",
       "      <td>Genk</td>\n",
       "      <td>Westerlo</td>\n",
       "      <td>1.0</td>\n",
       "      <td>0.0</td>\n",
       "      <td>H</td>\n",
       "      <td>0.0</td>\n",
       "    </tr>\n",
       "    <tr>\n",
       "      <th>8</th>\n",
       "      <td>B1</td>\n",
       "      <td>2024-08-25</td>\n",
       "      <td>18:15</td>\n",
       "      <td>Charleroi</td>\n",
       "      <td>Kortrijk</td>\n",
       "      <td>1.0</td>\n",
       "      <td>0.0</td>\n",
       "      <td>H</td>\n",
       "      <td>1.0</td>\n",
       "    </tr>\n",
       "  </tbody>\n",
       "</table>\n",
       "</div>"
      ],
      "text/plain": [
       "  Div        Date   Time             HomeTeam       AwayTeam  FTHG  FTAG FTR  \\\n",
       "0  B1  2024-09-01  18:15             Kortrijk     St Truiden   1.0   1.0   D   \n",
       "1  B1  2024-09-01  17:30         St. Gilloise     Anderlecht   0.0   0.0   D   \n",
       "2  B1  2024-09-01  15:00                 Gent        Antwerp   1.0   1.0   D   \n",
       "3  B1  2024-09-01  12:30          Club Brugge  Cercle Brugge   3.0   0.0   H   \n",
       "4  B1  2024-08-31  19:45  Oud-Heverlee Leuven       Standard   2.0   0.0   H   \n",
       "5  B1  2024-08-31  17:15         Beerschot VA         Dender   1.0   2.0   A   \n",
       "6  B1  2024-08-31  15:00             Mechelen      Charleroi   5.0   2.0   H   \n",
       "7  B1  2024-08-30  19:45                 Genk       Westerlo   1.0   0.0   H   \n",
       "8  B1  2024-08-25  18:15            Charleroi       Kortrijk   1.0   0.0   H   \n",
       "\n",
       "   HTHG  \n",
       "0   0.0  \n",
       "1   0.0  \n",
       "2   1.0  \n",
       "3   2.0  \n",
       "4   1.0  \n",
       "5   0.0  \n",
       "6   3.0  \n",
       "7   0.0  \n",
       "8   1.0  "
      ]
     },
     "execution_count": 10,
     "metadata": {},
     "output_type": "execute_result"
    }
   ],
   "source": [
    "import pandas as pd\n",
    "pd.read_csv('test_csv.csv')"
   ]
  },
  {
   "cell_type": "code",
   "execution_count": 11,
   "metadata": {},
   "outputs": [],
   "source": [
    "from pyspark.sql import SparkSession"
   ]
  },
  {
   "cell_type": "code",
   "execution_count": 12,
   "metadata": {},
   "outputs": [],
   "source": [
    "spark = SparkSession.builder.appName('Practice').getOrCreate()\n"
   ]
  },
  {
   "cell_type": "code",
   "execution_count": 13,
   "metadata": {},
   "outputs": [
    {
     "data": {
      "text/html": [
       "\n",
       "            <div>\n",
       "                <p><b>SparkSession - in-memory</b></p>\n",
       "                \n",
       "        <div>\n",
       "            <p><b>SparkContext</b></p>\n",
       "\n",
       "            <p><a href=\"http://fedora-pc:4040\">Spark UI</a></p>\n",
       "\n",
       "            <dl>\n",
       "              <dt>Version</dt>\n",
       "                <dd><code>v3.5.1</code></dd>\n",
       "              <dt>Master</dt>\n",
       "                <dd><code>local[*]</code></dd>\n",
       "              <dt>AppName</dt>\n",
       "                <dd><code>Practice</code></dd>\n",
       "            </dl>\n",
       "        </div>\n",
       "        \n",
       "            </div>\n",
       "        "
      ],
      "text/plain": [
       "<pyspark.sql.session.SparkSession at 0x7f3c395c6a90>"
      ]
     },
     "execution_count": 13,
     "metadata": {},
     "output_type": "execute_result"
    }
   ],
   "source": [
    "spark"
   ]
  },
  {
   "cell_type": "code",
   "execution_count": 14,
   "metadata": {},
   "outputs": [],
   "source": [
    "df_pyspark = spark.read.csv('test_csv.csv')"
   ]
  },
  {
   "cell_type": "code",
   "execution_count": 18,
   "metadata": {},
   "outputs": [
    {
     "name": "stdout",
     "output_type": "stream",
     "text": [
      "+---+----------+-----+-------------------+-------------+----+----+---+----+\n",
      "|_c0|       _c1|  _c2|                _c3|          _c4| _c5| _c6|_c7| _c8|\n",
      "+---+----------+-----+-------------------+-------------+----+----+---+----+\n",
      "|Div|      Date| Time|           HomeTeam|     AwayTeam|FTHG|FTAG|FTR|HTHG|\n",
      "| B1|2024-09-01|18:15|           Kortrijk|   St Truiden| 1.0| 1.0|  D| 0.0|\n",
      "| B1|2024-09-01|17:30|       St. Gilloise|   Anderlecht| 0.0| 0.0|  D| 0.0|\n",
      "| B1|2024-09-01|15:00|               Gent|      Antwerp| 1.0| 1.0|  D| 1.0|\n",
      "| B1|2024-09-01|12:30|        Club Brugge|Cercle Brugge| 3.0| 0.0|  H| 2.0|\n",
      "| B1|2024-08-31|19:45|Oud-Heverlee Leuven|     Standard| 2.0| 0.0|  H| 1.0|\n",
      "| B1|2024-08-31|17:15|       Beerschot VA|       Dender| 1.0| 2.0|  A| 0.0|\n",
      "| B1|2024-08-31|15:00|           Mechelen|    Charleroi| 5.0| 2.0|  H| 3.0|\n",
      "| B1|2024-08-30|19:45|               Genk|     Westerlo| 1.0| 0.0|  H| 0.0|\n",
      "| B1|2024-08-25|18:15|          Charleroi|     Kortrijk| 1.0| 0.0|  H| 1.0|\n",
      "+---+----------+-----+-------------------+-------------+----+----+---+----+\n",
      "\n"
     ]
    }
   ],
   "source": [
    "df_pyspark.show()"
   ]
  },
  {
   "cell_type": "code",
   "execution_count": 19,
   "metadata": {},
   "outputs": [
    {
     "data": {
      "text/plain": [
       "DataFrame[Div: string, Date: string, Time: string, HomeTeam: string, AwayTeam: string, FTHG: string, FTAG: string, FTR: string, HTHG: string]"
      ]
     },
     "execution_count": 19,
     "metadata": {},
     "output_type": "execute_result"
    }
   ],
   "source": [
    "spark.read.option('header', 'true').csv('test_csv.csv')"
   ]
  },
  {
   "cell_type": "code",
   "execution_count": null,
   "metadata": {},
   "outputs": [],
   "source": []
  },
  {
   "cell_type": "code",
   "execution_count": null,
   "metadata": {},
   "outputs": [],
   "source": []
  }
 ],
 "metadata": {
  "kernelspec": {
   "display_name": "pyspark_env",
   "language": "python",
   "name": "python3"
  },
  "language_info": {
   "codemirror_mode": {
    "name": "ipython",
    "version": 3
   },
   "file_extension": ".py",
   "mimetype": "text/x-python",
   "name": "python",
   "nbconvert_exporter": "python",
   "pygments_lexer": "ipython3",
   "version": "3.8.19"
  }
 },
 "nbformat": 4,
 "nbformat_minor": 2
}
