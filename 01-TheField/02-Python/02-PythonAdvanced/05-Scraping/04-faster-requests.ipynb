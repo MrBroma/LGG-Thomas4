{
 "cells": [
  {
   "cell_type": "markdown",
   "metadata": {},
   "source": [
    "# Make your requests faster\n",
    "\n",
    "When you start scraping web-pages or requesting APIs, you will be facing a problem when doing a lot of requests: this is really slow!\n",
    "\n",
    "It's because python is slow! You could say, well it should not be. Let's see how we can speed things up!\n",
    "\n",
    "## Measure performances\n",
    "\n",
    "In this notebook we will need to track how much time some code is taking to execute.\n",
    "To make things easier, we will create a simple decorator that will print the number of micro-seconds a function takes to execute.\n",
    "\n",
    "A good opportonity to practice decorators in a practical example!\n",
    "\n",
    "*Note that you need python3.3 or higher.*"
   ]
  },
  {
   "cell_type": "code",
   "execution_count": 1,
   "metadata": {},
   "outputs": [
    {
     "name": "stdout",
     "output_type": "stream",
     "text": [
      "example took 2.0 sec\n"
     ]
    }
   ],
   "source": [
    "import time\n",
    "\n",
    "def print_timing(func):\n",
    "    '''Create a timing decorator function use @print_timing just above the function you want to time.'''\n",
    "\n",
    "    def wrapper(*arg):\n",
    "        start = time.perf_counter()\n",
    "        \n",
    "        # Run the function decorated\n",
    "        result = func(*arg)\n",
    "\n",
    "        end = time.perf_counter()\n",
    "        execution_time = round((end - start), 2)\n",
    "        print(f'{func.__name__} took {execution_time} sec')\n",
    "        return result\n",
    "\n",
    "    return wrapper\n",
    "\n",
    "\n",
    "@print_timing\n",
    "def example():\n",
    "    time.sleep(2)\n",
    "\n",
    "\n",
    "example()"
   ]
  },
  {
   "cell_type": "markdown",
   "metadata": {},
   "source": [
    "## The API\n",
    "\n",
    "For this example, we will use the [quotable.io](https://api.quotable.io) API. It's an online API you can use to generate random quote.\n",
    "\n",
    "But feel free to replace `api_url` value with any API you'd like."
   ]
  },
  {
   "cell_type": "code",
   "execution_count": 2,
   "metadata": {},
   "outputs": [],
   "source": [
    "api_url = \"https://api.quotable.io/random\""
   ]
  },
  {
   "cell_type": "markdown",
   "metadata": {},
   "source": [
    "## The \"classic\" way\n",
    "\n",
    "If you start playing with requests, your should probably have something like this:"
   ]
  },
  {
   "cell_type": "code",
   "execution_count": 3,
   "metadata": {},
   "outputs": [
    {
     "name": "stdout",
     "output_type": "stream",
     "text": [
      "The heart has its reasons which reason knows not of.\n",
      "The superior man is satisfied and composed; the mean man is always full of distress.\n",
      "It is not a lack of love, but a lack of friendship that makes unhappy marriages.\n",
      "We shall never know all the good that a simple smile can do.\n",
      "You cannot find yourself by going into the past. You can find yourself by coming into the present.\n",
      "An appeaser is one who feeds a crocodile, hoping it will eat him last.\n",
      "Where there is love there is life.\n",
      "Be great in act, as you have been in thought.\n",
      "If we could learn to like ourselves, even a little, maybe our cruelties and angers might melt away.\n",
      "Pain and foolishness lead to great bliss and complete knowledge, for Eternal Wisdom created nothing under the sun in vain.\n",
      "Loyalty and friendship, which is to me the same, created all the wealth that I've ever thought I'd have.\n",
      "I have never been hurt by anything I didn't say.\n",
      "I'm astounded by people who want to 'know' the universe when it's hard enough to find your way around Chinatown.\n",
      "Good judgment comes from experience, and a lot of that comes from bad judgment.\n",
      "The longer we dwell on our misfortunes, the greater is their power to harm us.\n",
      "Of all the things which wisdom provides to make us entirely happy, much the greatest is the possession of friendship.\n",
      "Happiness is found in doing, not merely possessing.\n",
      "Never apologize for showing feelings. When you do so, you apologize for the truth.\n",
      "In rivers, the water that you touch is the last of what has passed and the first of that which comes; so with present time.\n",
      "Trust is the lubrication that makes it possible for organizations to work.\n",
      "When I do good I feel good, when I do bad I feel bad, and that's my religion.\n",
      "The person born with a talent they are meant to use will find their greatest happiness in using it.\n",
      "Nature is a mutable cloud which is always and never the same.\n",
      "Beginning today, treat everyone you meet as if they were going to be dead by midnight. Extend to them all the care, kindness and understanding you can muster, and do it with no thought of any reward. Your life will never be the same again.\n",
      "The greater part of human pain is unnecessary. It is self-created as long as the unobserved mind runs your life.\n",
      "Winners never quit and quitters never win.\n",
      "Just as a flower, which seems beautiful has color but no perfume, so are the fruitless words of a man who speaks them but does them not.\n",
      "We are what our thoughts have made us; so take care about what you think. Words are secondary. Thoughts live; they travel far.\n",
      "Much wisdom often goes with fewer words.\n",
      "Things do not happen. Things are made to happen.\n",
      "Happiness depends upon ourselves.\n",
      "Everything that irritates us about others can lead us to an understanding of ourselves.\n",
      "Autumn is a second spring when every leaf is a flower.\n",
      "We have committed the Golden Rule to memory; let us now commit it to life.\n",
      "Leave no stone unturned.\n",
      "Value your friendship. Value your relationships.\n",
      "The cause is hidden. The effect is visible to all.\n",
      "Genius is one per cent inspiration, ninety-nine per cent perspiration.\n",
      "I'm a great believer in luck and I find the harder I work, the more I have of it.\n",
      "It's better to be a lion for a day than a sheep all your life.\n",
      "What makes Superman a hero is not that he has power, but that he has the wisdom and the maturity to use the power wisely. From an acting point of view, that's how I approached the part.\n",
      "The greatest danger for most of us is not that our aim is too high, and we miss it, but that it is too low, and we reach it.\n",
      "Our intention creates our reality.\n",
      "The fact is, with every friendship you make, and every bond of trust you establish, you are shaping the image of America projected to the rest of the world. That is so important. So when you study abroad, you're actually helping to make America stronger.\n",
      "Wisdom consists of the anticipation of consequences.\n",
      "Heedfulness is the path to the Deathless. Heedlessness is the path to death. The heedful die not. The heedless are as if already dead.\n",
      "Our most intimate friend is not he to whom we show the worst, but the best of our nature.\n",
      "All things change; nothing perishes.\n",
      "Not engaging in ignorance is wisdom.\n",
      "There is no great genius without some touch of madness.\n",
      "basic_loop_request took 22.4 sec\n"
     ]
    }
   ],
   "source": [
    "import requests\n",
    "\n",
    "\n",
    "def basic_request(url: str):\n",
    "    response = requests.get(url)\n",
    "    response_json = response.json()\n",
    "    print(response_json[\"content\"])\n",
    "\n",
    "\n",
    "@print_timing\n",
    "def basic_loop_request(url: str):\n",
    "    # Query 50 times the API\n",
    "    for _ in range(50):\n",
    "        basic_request(url)\n",
    "\n",
    "\n",
    "basic_loop_request(api_url)"
   ]
  },
  {
   "cell_type": "markdown",
   "metadata": {},
   "source": [
    "### Results\n",
    "\n",
    "On my machine it took **17.06 sec for 50 requests**. \n",
    "\n",
    "Pretty slow right? But why is that?\n",
    "\n",
    "Each time you make a request, your computer needs to create a new \"session\", format your request, send it and wait to receive the response before doing it again with the next request."
   ]
  },
  {
   "cell_type": "markdown",
   "metadata": {},
   "source": [
    "## The \"session\" way\n",
    "\n",
    "To speed this, we can use a **\"session\"** that will be share by all the requests.\n",
    "\n",
    "You can picture it as a postman that knows you already, so he knows which bell to ring, where is the mailbox,... Instead of having to search for those each time."
   ]
  },
  {
   "cell_type": "code",
   "execution_count": 4,
   "metadata": {},
   "outputs": [
    {
     "name": "stdout",
     "output_type": "stream",
     "text": [
      "But at any rate, the point is that God is what nobody admits to being, and everybody really is.\n",
      "Bad times have a scientific value. These are occasions a good learner would not miss.\n",
      "There is nothing impossible to him who will try.\n",
      "Wherever a man turns he can find someone who needs him.\n",
      "Mind is everything: muscle, pieces of rubber. All that I am, I am because of my mind.\n",
      "It's not what happens to you, but how you react to it that matters.\n",
      "Courage is going from failure to failure without losing enthusiasm.\n",
      "His lack of education is more than compensated for by his keenly developed moral bankruptcy.\n",
      "Always tell the truth. That way, you don't have to remember what you said.\n",
      "We are what we repeatedly do. Excellence, then, is not an act, but a habit.\n",
      "We've got to have a dream if we are going to make a dream come true.\n",
      "All our knowledge has its origins in our perceptions.\n",
      "In seed time learn, in harvest teach, in winter enjoy.\n",
      "To change one's life, start immediately, do it flamboyantly, no exceptions.\n",
      "If you lose today, win tomorrow. In this never-ending spirit of challenge is the heart of a victor.\n",
      "How is it possible to find meaning in a finite world, given my waist and shirt size?\n",
      "Neatness begets order; but from order to taste there is the same difference as from taste to genius, or from love to friendship.\n",
      "In all chaos there is a cosmos, in all disorder a secret order.\n",
      "Love all, trust a few, do wrong to none.\n",
      "We must reach out our hand in friendship and dignity both to those who would befriend us and those who would be our enemy.\n",
      "Yesterday's home runs don't win today's games.\n",
      "Perseverance is a great element of success. If you only knock long enough and loud enough at the gate, you are sure to wake up somebody.\n",
      "Know what's important and what isn't. Have the wisdom to know the right thing to do, the integrity to do it, the character to stand up to those who don't, and the courage to stop those who won't.\n",
      "We do not quit playing because we grow old, we grow old because we quit playing.\n",
      "Ideals are an imaginative understanding of that which is desirable in that which is possible.\n",
      "An economist is an expert who will know tomorrow why the things he predicted yesterday didn't happen today.\n",
      "Do I speak at the right time, or not? Do I speak of facts, or not? Do I speak gently or harshly? Do I speak profitable words or not? Do I speak with a kindly heart, or inwardly malicious?\n",
      "Swim upstream. Go the other way. Ignore the conventional wisdom.\n",
      "Imagination is the highest kite one can fly.\n",
      "Discipline is the bridge between goals and accomplishment.\n",
      "To improve is to change; to be perfect is to change often.\n",
      "The final wisdom of life requires not the annulment of incongruity but the achievement of serenity within and above it.\n",
      "Friendship is essentially a partnership.\n",
      "The teacher who is indeed wise does not bid you to enter the house of his wisdom but rather leads you to the threshold of your mind.\n",
      "Technology is a word that describes something that doesn't work yet.\n",
      "The friendship that can cease has never been real.\n",
      "Liberty, taking the word in its concrete sense, consists in the ability to choose.\n",
      "All is flux; nothing stays still.\n",
      "Belief consists in accepting the affirmations of the soul; Unbelief, in denying them.\n",
      "Appreciation is the highest form of prayer, for it acknowledges the presence of good wherever you shine the light of your thankful thoughts.\n",
      "When you judge another, you do not define them, you define yourself.\n",
      "Consider that not only do negative thoughts and emotions destroy our experience of peace, but they also undermine our health.\n",
      "If you don't know where you are going, any road will get you there.\n",
      "Winners never quit and quitters never win.\n",
      "Trying to define yourself is like trying to bite your own teeth.\n",
      "You've got to go out on a limb sometimes because that's where the fruit is.\n",
      "If you can't explain it simply, you don't understand it well enough.\n",
      "Happiness is a perfume you cannot pour on others without getting a few drops on yourself.\n",
      "Happiness is when what you think, what you say, and what you do are in harmony.\n",
      "Love yourself first and everything else falls into line. You really have to love yourself to get anything done in this world.\n",
      "session_loop_request took 9.57 sec\n"
     ]
    }
   ],
   "source": [
    "from requests import Session\n",
    "\n",
    "\n",
    "def session_request(url: str, session: Session):\n",
    "    # Instead of using request.get, we use our session\n",
    "    response = session.get(url)\n",
    "    response_json = response.json()\n",
    "    print(response_json[\"content\"])\n",
    "\n",
    "\n",
    "@print_timing\n",
    "def session_loop_request(url: str):\n",
    "    # Create shared session for all of your requests\n",
    "    with Session() as session:\n",
    "        # Query 50 times the API\n",
    "        for _ in range(50):\n",
    "            session_request(url, session)\n",
    "\n",
    "\n",
    "session_loop_request(api_url)"
   ]
  },
  {
   "cell_type": "markdown",
   "metadata": {},
   "source": [
    "### Results\n",
    "\n",
    "It took me **5.99 sec for 50 requests**. That's better!\n",
    "\n",
    "And as you can see, I didn't change that much in the code."
   ]
  },
  {
   "cell_type": "markdown",
   "metadata": {},
   "source": [
    "## The \"Async\" way\n",
    "\n",
    "If you need even more performances, you will need to use [AsyncIo](https://docs.python.org/3/library/asyncio.html).\n",
    "\n",
    "This is a library to allow you to run asynchronous code.\n",
    "\n",
    "Why is that more efficiant? Well, when you send a request you need to wait for the response. And during the waiting time, our computer does nothing.\n",
    "If you count all the time the computer is just \"waiting\" on 50 or more requests, you will be surprised to see that most of the computing time is just waiting for the server to respond.\n",
    "\n",
    "[AsyncIo](https://docs.python.org/3/library/asyncio.html) allow you to bypass that.\n",
    "\n",
    "But as always, it has a cost: complexity.\n",
    "\n",
    "Making your code async will complixify the code a lot and make the debugging not a pleasant experience. Also, you will go so fast that you could be banned by the server.\n",
    "\n",
    "My advice? Use it only if you need it.\n",
    "\n",
    "I will show you a simple example but you want to understand it better, I really advice you **[this video](https://www.youtube.com/watch?v=qAh5dDODJ5k)**!\n",
    "\n",
    "### Requirements\n",
    "In order to simplify a bit the code, I will use [httpx](https://www.python-httpx.org/) a python library that is working the same way as the `requests` module but with few helpers for async."
   ]
  },
  {
   "cell_type": "code",
   "execution_count": 42,
   "metadata": {},
   "outputs": [
    {
     "name": "stdout",
     "output_type": "stream",
     "text": [
      "Requirement already satisfied: httpx in /Library/Frameworks/Python.framework/Versions/3.8/lib/python3.8/site-packages (0.23.0)\n",
      "Requirement already satisfied: sniffio in /Library/Frameworks/Python.framework/Versions/3.8/lib/python3.8/site-packages (from httpx) (1.2.0)\n",
      "Requirement already satisfied: certifi in /Library/Frameworks/Python.framework/Versions/3.8/lib/python3.8/site-packages (from httpx) (2021.10.8)\n",
      "Requirement already satisfied: rfc3986[idna2008]<2,>=1.3 in /Library/Frameworks/Python.framework/Versions/3.8/lib/python3.8/site-packages (from httpx) (1.5.0)\n",
      "Requirement already satisfied: httpcore<0.16.0,>=0.15.0 in /Library/Frameworks/Python.framework/Versions/3.8/lib/python3.8/site-packages (from httpx) (0.15.0)\n",
      "Requirement already satisfied: h11<0.13,>=0.11 in /Library/Frameworks/Python.framework/Versions/3.8/lib/python3.8/site-packages (from httpcore<0.16.0,>=0.15.0->httpx) (0.12.0)\n",
      "Requirement already satisfied: anyio==3.* in /Library/Frameworks/Python.framework/Versions/3.8/lib/python3.8/site-packages (from httpcore<0.16.0,>=0.15.0->httpx) (3.6.1)\n",
      "Requirement already satisfied: idna>=2.8 in /Library/Frameworks/Python.framework/Versions/3.8/lib/python3.8/site-packages (from anyio==3.*->httpcore<0.16.0,>=0.15.0->httpx) (2.9)\n"
     ]
    }
   ],
   "source": [
    "!pip install httpx"
   ]
  },
  {
   "cell_type": "markdown",
   "metadata": {},
   "source": [
    "### Warning!\n",
    "This code won't work in jupyter notebook, there are subtilities for async in jupyter notebook. See [this thread](https://stackoverflow.com/questions/47518874/how-do-i-run-python-asyncio-code-in-a-jupyter-notebook) for more informations.\n",
    "\n",
    "To make it simpler, I will put this code in a .py file and run it in command line:"
   ]
  },
  {
   "cell_type": "markdown",
   "metadata": {},
   "source": [
    "```python\n",
    "from httpx import AsyncClient\n",
    "import asyncio\n",
    "import time\n",
    "\n",
    "\n",
    "api_url = \"https://api.quotable.io/random\"\n",
    "\n",
    "\n",
    "async def session_request_async(url: str, session: AsyncClient):\n",
    "    # Instead of using request.get, we use our session\n",
    "    response = await session.get(url)\n",
    "    response_json = response.json()\n",
    "    print(response_json[\"content\"])\n",
    "    return response_json\n",
    "\n",
    "\n",
    "async def session_loop_request_async(url: str):\n",
    "    # Create shared session for all of your requests\n",
    "    async with AsyncClient() as session:\n",
    "        # Create a list of empty tasks\n",
    "        tasks = []\n",
    "        # Query 50 times the API\n",
    "        for _ in range(50):\n",
    "            # Add a request to tasks\n",
    "            tasks.append(\n",
    "                asyncio.create_task(\n",
    "                    session_request_async(url, session)        \n",
    "                )\n",
    "            )\n",
    "        # Now that all the tasks are registred, run them\n",
    "        responses = await asyncio.gather(*tasks)\n",
    "            \n",
    "            \n",
    "\n",
    "\n",
    "start = time.perf_counter()\n",
    "\n",
    "# We need to use asyncio.run to run the async function\n",
    "asyncio.run(session_loop_request_async(api_url))\n",
    "\n",
    "end = time.perf_counter()\n",
    "execution_time = round((end - start), 2)\n",
    "print(f'session_loop_request_async took {execution_time} sec')\n",
    "```"
   ]
  },
  {
   "cell_type": "code",
   "execution_count": 5,
   "metadata": {},
   "outputs": [
    {
     "name": "stdout",
     "output_type": "stream",
     "text": [
      "Failure will never overtake me if my determination to succeed is strong enough.\n",
      "Our most intimate friend is not he to whom we show the worst, but the best of our nature.\n",
      "Fears are nothing more than a state of mind.\n",
      "If you surrender to the wind, you can ride it.\n",
      "No garden is without its weeds.\n",
      "Your friends will know you better in the first minute you meet than your acquaintances will know you in a thousand years.\n",
      "Reading, after a certain age, diverts the mind too much from its creative pursuits. Any man who reads too much and uses his own brain too little falls into lazy habits of thinking.\n",
      "The biggest room in the world is room for improvement.\n",
      "The older I get the more wisdom I find in the ancient rule of taking first things first. A process which often reduces the most complex human problem to a manageable proportion.\n",
      "Life shrinks or expands in proportion to one's courage.\n",
      "I don't want to achieve immortality through my work... I want to achieve it through not dying.\n",
      "The energy of the mind is the essence of life.\n",
      "The smallest flower is a thought, a life answering to some feature of the Great Whole, of whom they have a persistent intuition.\n",
      "It is not wisdom but Authority that makes a law.\n",
      "We must never forget that it is through our actions, words, and thoughts that we have a choice.\n",
      "If you find yourself in a hole, the first thing to do is stop digging.\n",
      "To change one's life, start immediately, do it flamboyantly, no exceptions.\n",
      "Problems are not stop signs, they are guidelines.\n",
      "In order to win, you must expect to win.\n",
      "It is impossible to love and to be wise.\n",
      "Take time to deliberate, but when the time for action has arrived, stop thinking and go in.\n",
      "Of all possessions a friend is the most precious.\n",
      "Do not go where the path may lead, go instead where there is no path and leave a trail.\n",
      "Aerodynamically the bumblebee shouldn't be able to fly, but the bumblebee doesn't know that, so it goes on flying anyway.\n",
      "All our knowledge begins with the senses, proceeds then to the understanding, and ends with reason. There is nothing higher than reason.\n",
      "Cherish your visions and your dreams as they are the children of your soul; the blueprints of your ultimate achievements.\n",
      "No pessimist ever discovered the secrets of the stars, or sailed to an uncharted land, or opened a new heaven to the human spirit.\n",
      "Our distrust is very expensive.\n",
      "If you want to go east, don't go west.\n",
      "I think somehow, we learn who we really are and then live with that decision.\n",
      "Just because something doesn't do what you planned it to do doesn't mean it's useless.\n",
      "By believing passionately in something that does not yet exist, we create it.\n",
      "Think how hard physics would be if particles could think.\n",
      "Friendship is one of our most treasured relationships, but it isn't codified and celebrated; it's never going to give you a party.\n",
      "And when the world is created, it is created in such a way that those eternal objects of God's loving wisdom become actualities - interacting with one another, relating to God in the finite realm.\n",
      "An organization's ability to learn, and translate that learning into action rapidly, is the ultimate competitive advantage.\n",
      "Meaning is not what you start with but what you end up with.\n",
      "The price of greatness is responsibility.\n",
      "I love wisdom. And you can never be great at anything unless you love it. Not be in love with it, but love the thing, admire the thing. And it seems that if you love the thing, and you don't just want to possess it, it will find you.\n",
      "You have enemies? Good. That means you've stood up for something, sometime in your life.\n",
      "We cannot do everything at once, but we can do something at once.\n",
      "Friendship, like the immortality of the soul, is too good to be believed.\n",
      "In rivers, the water that you touch is the last of what has passed and the first of that which comes; so with present time.\n",
      "In the depth of winter, I finally learned that there was within me an invincible summer.\n",
      "The man who trusts men will make fewer mistakes than he who distrusts them.\n",
      "Life is like riding a bicycle. To keep your balance you must keep moving.\n",
      "Silence is the sleep that nourishes wisdom.\n",
      "Listen to what you know instead of what you fear.\n",
      "True wisdom comes to each of us when we realize how little we understand about life, ourselves, and the world around us.\n",
      "May all beings have happy minds.\n",
      "session_loop_request_async took 0.69 sec\n"
     ]
    }
   ],
   "source": [
    "!python3 ./assets/async_requests.py"
   ]
  },
  {
   "cell_type": "markdown",
   "metadata": {},
   "source": [
    "### Results\n",
    "It only took me **0.8 sec for 50 requests**! That's impressive.\n",
    "\n",
    "But as you can see, it is harder to write, structure and debug. So make sure you **really** need it if you consider using this method."
   ]
  },
  {
   "cell_type": "markdown",
   "metadata": {},
   "source": [
    "## Summary\n",
    "\n",
    "If we gather all our results:\n",
    "\n",
    "| Method                     | Execution time for 50 requests |\n",
    "|----------------------------|--------------------------------|\n",
    "| `requests.get` loop        | 17.06 sec                  |\n",
    "| `requests` with `Session`  | 5.99 sec                   |\n",
    "| `httpx` with `AsyncClient` | 0.8 sec                   |"
   ]
  },
  {
   "cell_type": "markdown",
   "metadata": {},
   "source": []
  }
 ],
 "metadata": {
  "kernelspec": {
   "display_name": "Python (myenv)",
   "language": "python",
   "name": "myenv"
  },
  "language_info": {
   "codemirror_mode": {
    "name": "ipython",
    "version": 3
   },
   "file_extension": ".py",
   "mimetype": "text/x-python",
   "name": "python",
   "nbconvert_exporter": "python",
   "pygments_lexer": "ipython3",
   "version": "3.11.9"
  },
  "orig_nbformat": 4,
  "vscode": {
   "interpreter": {
    "hash": "b460384b52104c1e5b9cf54bee46a255d22b2bef338f75ac4ad5d48196028d3c"
   }
  }
 },
 "nbformat": 4,
 "nbformat_minor": 2
}
