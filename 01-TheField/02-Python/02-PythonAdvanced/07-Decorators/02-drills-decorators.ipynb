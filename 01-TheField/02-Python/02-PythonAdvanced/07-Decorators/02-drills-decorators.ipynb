{
 "cells": [
  {
   "cell_type": "markdown",
   "metadata": {},
   "source": [
    "# Drill - Decorators\n",
    "\n",
    "### Exercise 1\n",
    "Create a decorator that limits the execution of a function:\n",
    "\n",
    "When the function is executed too many times, an exception is thrown. The decorator must take one parameter, which is the number of times it is executed."
   ]
  },
  {
   "cell_type": "code",
   "execution_count": 50,
   "metadata": {},
   "outputs": [
    {
     "name": "stdout",
     "output_type": "stream",
     "text": [
      "The addition function have been called for 1 times\n",
      "call addition with args=(10, 22) and kwargs={}\n",
      "Result: 32\n"
     ]
    },
    {
     "data": {
      "text/plain": [
       "32"
      ]
     },
     "execution_count": 50,
     "metadata": {},
     "output_type": "execute_result"
    }
   ],
   "source": [
    "def decorator_too_many_time(function):\n",
    "    def wrapper(*args, **kwargs):\n",
    "        wrapper.calls += 1\n",
    "        print(f\"The {function.__name__} function have been called for {wrapper.calls} times\")\n",
    "        print(f\"call {function.__name__} with args={args} and kwargs={kwargs}\")\n",
    "        return_value = function(*args, **kwargs)\n",
    "        print(f\"Result: {return_value}\")\n",
    "        return return_value\n",
    "\n",
    "    wrapper.calls = 0\n",
    "    return wrapper\n",
    "\n",
    "@decorator_too_many_time\n",
    "def addition(a, b):\n",
    "    return a + b\n",
    "\n",
    "addition(10, 22)\n"
   ]
  },
  {
   "cell_type": "markdown",
   "metadata": {},
   "source": [
    "### Exercise 2\n",
    "Create a decorator that controls what a function returns. The decorator must throw an exception if the function returns a string or an int."
   ]
  },
  {
   "cell_type": "code",
   "execution_count": null,
   "metadata": {},
   "outputs": [],
   "source": []
  },
  {
   "cell_type": "markdown",
   "metadata": {},
   "source": [
    "### Exercise 3\n",
    "A decorator that displays the time it took for the function to run (basic)."
   ]
  },
  {
   "cell_type": "code",
   "execution_count": null,
   "metadata": {},
   "outputs": [],
   "source": []
  }
 ],
 "metadata": {
  "kernelspec": {
   "display_name": "Python 3",
   "language": "python",
   "name": "python3"
  },
  "language_info": {
   "codemirror_mode": {
    "name": "ipython",
    "version": 3
   },
   "file_extension": ".py",
   "mimetype": "text/x-python",
   "name": "python",
   "nbconvert_exporter": "python",
   "pygments_lexer": "ipython3",
   "version": "3.11.9"
  }
 },
 "nbformat": 4,
 "nbformat_minor": 2
}
